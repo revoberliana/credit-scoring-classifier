{
  "nbformat": 4,
  "nbformat_minor": 0,
  "metadata": {
    "colab": {
      "name": "B12_KELOMPOK6_CLASSIFICATIO.ipynb",
      "provenance": [],
      "mount_file_id": "1LzBTHEmvjCAZZZ32LptpoX2gdU6o1wg_",
      "authorship_tag": "ABX9TyMsSLzgh1sjXBsWDValwoz4",
      "include_colab_link": true
    },
    "kernelspec": {
      "name": "python3",
      "display_name": "Python 3"
    },
    "language_info": {
      "name": "python"
    }
  },
  "cells": [
    {
      "cell_type": "markdown",
      "metadata": {
        "id": "view-in-github",
        "colab_type": "text"
      },
      "source": [
        "<a href=\"https://colab.research.google.com/github/revoberliana/demo/blob/main/credit%20scorring%20with%20decision%20tree%20models.ipynb\" target=\"_parent\"><img src=\"https://colab.research.google.com/assets/colab-badge.svg\" alt=\"Open In Colab\"/></a>"
      ]
    },
    {
      "cell_type": "markdown",
      "source": [
        "**CLASSIFICATION CREDIT SCORING DENGAN MODEL DECISION TREE**\n"
      ],
      "metadata": {
        "id": "NiHVeG5xmqxB"
      }
    },
    {
      "cell_type": "markdown",
      "source": [
        "**Business Understanding**\n",
        "\n",
        "---\n",
        "1. Data : Data Credit Approval dengan\n",
        "Data Aplikasi yaitu berisikan data data\n",
        "informasi si pelamar, yang dapat Anda\n",
        "gunakan sebagai fitur untuk memprediksi.\n",
        "Data Credit yaitu berisikan rekam bulan\n",
        "keuangan pelamar, mencatat perilaku\n",
        "pengguna kartu kredit.\n",
        "2. Tujuan : memprediksi apakah pelamar\n",
        "adalah klien 'baik' atau 'buruk'\n",
        "Untuk pelamar baik approve\n",
        "Untuk pelamar buruk tidak di approve\n",
        "3. Model yang digunakan :\n",
        "Decision Tree\n",
        "4. Tujuan :\n",
        "kemampuannya untuk mem-break down proses\n",
        "pengambilan keputusan yang kompleks menjadi\n",
        "lebih simple, sehingga pengambil keputusan akan\n",
        "lebih menginterpretasikan solusi dari\n",
        "permasalahan"
      ],
      "metadata": {
        "id": "NheHpnFqnAdl"
      }
    },
    {
      "cell_type": "markdown",
      "source": [
        "#**Importing Packages**\n",
        "\n",
        "---\n",
        "\n"
      ],
      "metadata": {
        "id": "f3lPhMjVqn7S"
      }
    },
    {
      "cell_type": "code",
      "execution_count": null,
      "metadata": {
        "colab": {
          "base_uri": "https://localhost:8080/"
        },
        "id": "HVij0--kp_py",
        "outputId": "69878bdb-dbcf-4409-b6ca-ef4ed8efabdd"
      },
      "outputs": [
        {
          "output_type": "stream",
          "name": "stdout",
          "text": [
            "Requirement already satisfied: openpyxl in /usr/local/lib/python3.7/dist-packages (3.0.9)\n",
            "Requirement already satisfied: et-xmlfile in /usr/local/lib/python3.7/dist-packages (from openpyxl) (1.1.0)\n"
          ]
        }
      ],
      "source": [
        "!pip install openpyxl # library used to read and write Excel 2010 \n",
        "import openpyxl\n",
        "import pandas as pd # memanggil fungsi tabular\n",
        "import numpy as np # memanggil fungsi aritmatika\n",
        "from matplotlib import pyplot as plt # visualisasi normal\n",
        "import seaborn as sns # visualisasi komprehensif (heatmap, violin, degradasi, raw time)\n",
        "sns.set()"
      ]
    },
    {
      "cell_type": "markdown",
      "source": [
        "#**Importing Data//Scrapping Data**\n",
        "\n",
        "---\n",
        "\n"
      ],
      "metadata": {
        "id": "3Fga9QlJqtrL"
      }
    },
    {
      "cell_type": "code",
      "source": [
        "application_details = pd.read_csv('/content/drive/MyDrive/Ruang Guru/kelompok/classification SC Final Project/credit scoring/application_record.csv') # membaca data application dan disimpan sebagai application_details\n",
        "credit_record = pd.read_csv('/content/drive/MyDrive/Ruang Guru/kelompok/classification SC Final Project/credit scoring/credit_record.csv') # membaca data credit dan disimpan sebagai credit_record"
      ],
      "metadata": {
        "id": "O4WO8QotqQwR"
      },
      "execution_count": null,
      "outputs": []
    },
    {
      "cell_type": "markdown",
      "source": [
        "#**Data Summary // data understanding**\n",
        "\n",
        "---\n",
        "\n"
      ],
      "metadata": {
        "id": "hNh2N2-yq0pX"
      }
    },
    {
      "cell_type": "code",
      "source": [
        "application_details.info() # melihat info terkait kolom tipe data dan juga missing value dalam application_detalis"
      ],
      "metadata": {
        "colab": {
          "base_uri": "https://localhost:8080/"
        },
        "id": "Fu4BUF_FqiK8",
        "outputId": "b675de47-26b3-4b3b-a4f3-f067a0ea0860"
      },
      "execution_count": null,
      "outputs": [
        {
          "output_type": "stream",
          "name": "stdout",
          "text": [
            "<class 'pandas.core.frame.DataFrame'>\n",
            "RangeIndex: 438557 entries, 0 to 438556\n",
            "Data columns (total 18 columns):\n",
            " #   Column               Non-Null Count   Dtype  \n",
            "---  ------               --------------   -----  \n",
            " 0   ID                   438557 non-null  int64  \n",
            " 1   CODE_GENDER          438557 non-null  object \n",
            " 2   FLAG_OWN_CAR         438557 non-null  object \n",
            " 3   FLAG_OWN_REALTY      438557 non-null  object \n",
            " 4   CNT_CHILDREN         438557 non-null  int64  \n",
            " 5   AMT_INCOME_TOTAL     438557 non-null  float64\n",
            " 6   NAME_INCOME_TYPE     438557 non-null  object \n",
            " 7   NAME_EDUCATION_TYPE  438557 non-null  object \n",
            " 8   NAME_FAMILY_STATUS   438557 non-null  object \n",
            " 9   NAME_HOUSING_TYPE    438557 non-null  object \n",
            " 10  DAYS_BIRTH           438557 non-null  int64  \n",
            " 11  DAYS_EMPLOYED        438557 non-null  int64  \n",
            " 12  FLAG_MOBIL           438557 non-null  int64  \n",
            " 13  FLAG_WORK_PHONE      438557 non-null  int64  \n",
            " 14  FLAG_PHONE           438557 non-null  int64  \n",
            " 15  FLAG_EMAIL           438557 non-null  int64  \n",
            " 16  OCCUPATION_TYPE      304354 non-null  object \n",
            " 17  CNT_FAM_MEMBERS      438557 non-null  float64\n",
            "dtypes: float64(2), int64(8), object(8)\n",
            "memory usage: 60.2+ MB\n"
          ]
        }
      ]
    },
    {
      "cell_type": "markdown",
      "source": [
        "--**Insight**--\n",
        "\n",
        "\n",
        "*   Terdapat 18 fitur yang merepresentasikan informasi tentang artikel tersebut, yaitu id, jenis kelamin, dan data email , no telp dan lain sebagainya \n",
        "*   didapat bahwa terdapat 3 tipe data yaitu : integer,object dan float\n",
        "*   Hampir semua fitur tidak memiliki missing values. Hanya fitur Occupation_type yaitu pekerjaan yang memiliki missing value ( 304354 dari 438557)\n",
        "\n",
        "\n",
        "\n",
        "\n"
      ],
      "metadata": {
        "id": "pjiPgZtTsH1l"
      }
    },
    {
      "cell_type": "code",
      "source": [
        "application_details.describe().T"
      ],
      "metadata": {
        "colab": {
          "base_uri": "https://localhost:8080/",
          "height": 427
        },
        "id": "_-UvHSpdqkNS",
        "outputId": "94f86038-571b-40d1-c753-61644e305793"
      },
      "execution_count": null,
      "outputs": [
        {
          "output_type": "execute_result",
          "data": {
            "text/plain": [
              "                     count          mean            std        min        25%  \\\n",
              "ID                438557.0  6.022176e+06  571637.023257  5008804.0  5609375.0   \n",
              "CNT_CHILDREN      438557.0  4.273903e-01       0.724882        0.0        0.0   \n",
              "AMT_INCOME_TOTAL  438557.0  1.875243e+05  110086.853066    26100.0   121500.0   \n",
              "DAYS_BIRTH        438557.0 -1.599790e+04    4185.030007   -25201.0   -19483.0   \n",
              "DAYS_EMPLOYED     438557.0  6.056368e+04  138767.799647   -17531.0    -3103.0   \n",
              "FLAG_MOBIL        438557.0  1.000000e+00       0.000000        1.0        1.0   \n",
              "FLAG_WORK_PHONE   438557.0  2.061328e-01       0.404527        0.0        0.0   \n",
              "FLAG_PHONE        438557.0  2.877710e-01       0.452724        0.0        0.0   \n",
              "FLAG_EMAIL        438557.0  1.082071e-01       0.310642        0.0        0.0   \n",
              "CNT_FAM_MEMBERS   438557.0  2.194465e+00       0.897207        1.0        2.0   \n",
              "\n",
              "                        50%        75%        max  \n",
              "ID                6047745.0  6456971.0  7999952.0  \n",
              "CNT_CHILDREN            0.0        1.0       19.0  \n",
              "AMT_INCOME_TOTAL   160780.5   225000.0  6750000.0  \n",
              "DAYS_BIRTH         -15630.0   -12514.0    -7489.0  \n",
              "DAYS_EMPLOYED       -1467.0     -371.0   365243.0  \n",
              "FLAG_MOBIL              1.0        1.0        1.0  \n",
              "FLAG_WORK_PHONE         0.0        0.0        1.0  \n",
              "FLAG_PHONE              0.0        1.0        1.0  \n",
              "FLAG_EMAIL              0.0        0.0        1.0  \n",
              "CNT_FAM_MEMBERS         2.0        3.0       20.0  "
            ],
            "text/html": [
              "\n",
              "  <div id=\"df-29a6d248-c745-4d6d-a950-09c9dd209d33\">\n",
              "    <div class=\"colab-df-container\">\n",
              "      <div>\n",
              "<style scoped>\n",
              "    .dataframe tbody tr th:only-of-type {\n",
              "        vertical-align: middle;\n",
              "    }\n",
              "\n",
              "    .dataframe tbody tr th {\n",
              "        vertical-align: top;\n",
              "    }\n",
              "\n",
              "    .dataframe thead th {\n",
              "        text-align: right;\n",
              "    }\n",
              "</style>\n",
              "<table border=\"1\" class=\"dataframe\">\n",
              "  <thead>\n",
              "    <tr style=\"text-align: right;\">\n",
              "      <th></th>\n",
              "      <th>count</th>\n",
              "      <th>mean</th>\n",
              "      <th>std</th>\n",
              "      <th>min</th>\n",
              "      <th>25%</th>\n",
              "      <th>50%</th>\n",
              "      <th>75%</th>\n",
              "      <th>max</th>\n",
              "    </tr>\n",
              "  </thead>\n",
              "  <tbody>\n",
              "    <tr>\n",
              "      <th>ID</th>\n",
              "      <td>438557.0</td>\n",
              "      <td>6.022176e+06</td>\n",
              "      <td>571637.023257</td>\n",
              "      <td>5008804.0</td>\n",
              "      <td>5609375.0</td>\n",
              "      <td>6047745.0</td>\n",
              "      <td>6456971.0</td>\n",
              "      <td>7999952.0</td>\n",
              "    </tr>\n",
              "    <tr>\n",
              "      <th>CNT_CHILDREN</th>\n",
              "      <td>438557.0</td>\n",
              "      <td>4.273903e-01</td>\n",
              "      <td>0.724882</td>\n",
              "      <td>0.0</td>\n",
              "      <td>0.0</td>\n",
              "      <td>0.0</td>\n",
              "      <td>1.0</td>\n",
              "      <td>19.0</td>\n",
              "    </tr>\n",
              "    <tr>\n",
              "      <th>AMT_INCOME_TOTAL</th>\n",
              "      <td>438557.0</td>\n",
              "      <td>1.875243e+05</td>\n",
              "      <td>110086.853066</td>\n",
              "      <td>26100.0</td>\n",
              "      <td>121500.0</td>\n",
              "      <td>160780.5</td>\n",
              "      <td>225000.0</td>\n",
              "      <td>6750000.0</td>\n",
              "    </tr>\n",
              "    <tr>\n",
              "      <th>DAYS_BIRTH</th>\n",
              "      <td>438557.0</td>\n",
              "      <td>-1.599790e+04</td>\n",
              "      <td>4185.030007</td>\n",
              "      <td>-25201.0</td>\n",
              "      <td>-19483.0</td>\n",
              "      <td>-15630.0</td>\n",
              "      <td>-12514.0</td>\n",
              "      <td>-7489.0</td>\n",
              "    </tr>\n",
              "    <tr>\n",
              "      <th>DAYS_EMPLOYED</th>\n",
              "      <td>438557.0</td>\n",
              "      <td>6.056368e+04</td>\n",
              "      <td>138767.799647</td>\n",
              "      <td>-17531.0</td>\n",
              "      <td>-3103.0</td>\n",
              "      <td>-1467.0</td>\n",
              "      <td>-371.0</td>\n",
              "      <td>365243.0</td>\n",
              "    </tr>\n",
              "    <tr>\n",
              "      <th>FLAG_MOBIL</th>\n",
              "      <td>438557.0</td>\n",
              "      <td>1.000000e+00</td>\n",
              "      <td>0.000000</td>\n",
              "      <td>1.0</td>\n",
              "      <td>1.0</td>\n",
              "      <td>1.0</td>\n",
              "      <td>1.0</td>\n",
              "      <td>1.0</td>\n",
              "    </tr>\n",
              "    <tr>\n",
              "      <th>FLAG_WORK_PHONE</th>\n",
              "      <td>438557.0</td>\n",
              "      <td>2.061328e-01</td>\n",
              "      <td>0.404527</td>\n",
              "      <td>0.0</td>\n",
              "      <td>0.0</td>\n",
              "      <td>0.0</td>\n",
              "      <td>0.0</td>\n",
              "      <td>1.0</td>\n",
              "    </tr>\n",
              "    <tr>\n",
              "      <th>FLAG_PHONE</th>\n",
              "      <td>438557.0</td>\n",
              "      <td>2.877710e-01</td>\n",
              "      <td>0.452724</td>\n",
              "      <td>0.0</td>\n",
              "      <td>0.0</td>\n",
              "      <td>0.0</td>\n",
              "      <td>1.0</td>\n",
              "      <td>1.0</td>\n",
              "    </tr>\n",
              "    <tr>\n",
              "      <th>FLAG_EMAIL</th>\n",
              "      <td>438557.0</td>\n",
              "      <td>1.082071e-01</td>\n",
              "      <td>0.310642</td>\n",
              "      <td>0.0</td>\n",
              "      <td>0.0</td>\n",
              "      <td>0.0</td>\n",
              "      <td>0.0</td>\n",
              "      <td>1.0</td>\n",
              "    </tr>\n",
              "    <tr>\n",
              "      <th>CNT_FAM_MEMBERS</th>\n",
              "      <td>438557.0</td>\n",
              "      <td>2.194465e+00</td>\n",
              "      <td>0.897207</td>\n",
              "      <td>1.0</td>\n",
              "      <td>2.0</td>\n",
              "      <td>2.0</td>\n",
              "      <td>3.0</td>\n",
              "      <td>20.0</td>\n",
              "    </tr>\n",
              "  </tbody>\n",
              "</table>\n",
              "</div>\n",
              "      <button class=\"colab-df-convert\" onclick=\"convertToInteractive('df-29a6d248-c745-4d6d-a950-09c9dd209d33')\"\n",
              "              title=\"Convert this dataframe to an interactive table.\"\n",
              "              style=\"display:none;\">\n",
              "        \n",
              "  <svg xmlns=\"http://www.w3.org/2000/svg\" height=\"24px\"viewBox=\"0 0 24 24\"\n",
              "       width=\"24px\">\n",
              "    <path d=\"M0 0h24v24H0V0z\" fill=\"none\"/>\n",
              "    <path d=\"M18.56 5.44l.94 2.06.94-2.06 2.06-.94-2.06-.94-.94-2.06-.94 2.06-2.06.94zm-11 1L8.5 8.5l.94-2.06 2.06-.94-2.06-.94L8.5 2.5l-.94 2.06-2.06.94zm10 10l.94 2.06.94-2.06 2.06-.94-2.06-.94-.94-2.06-.94 2.06-2.06.94z\"/><path d=\"M17.41 7.96l-1.37-1.37c-.4-.4-.92-.59-1.43-.59-.52 0-1.04.2-1.43.59L10.3 9.45l-7.72 7.72c-.78.78-.78 2.05 0 2.83L4 21.41c.39.39.9.59 1.41.59.51 0 1.02-.2 1.41-.59l7.78-7.78 2.81-2.81c.8-.78.8-2.07 0-2.86zM5.41 20L4 18.59l7.72-7.72 1.47 1.35L5.41 20z\"/>\n",
              "  </svg>\n",
              "      </button>\n",
              "      \n",
              "  <style>\n",
              "    .colab-df-container {\n",
              "      display:flex;\n",
              "      flex-wrap:wrap;\n",
              "      gap: 12px;\n",
              "    }\n",
              "\n",
              "    .colab-df-convert {\n",
              "      background-color: #E8F0FE;\n",
              "      border: none;\n",
              "      border-radius: 50%;\n",
              "      cursor: pointer;\n",
              "      display: none;\n",
              "      fill: #1967D2;\n",
              "      height: 32px;\n",
              "      padding: 0 0 0 0;\n",
              "      width: 32px;\n",
              "    }\n",
              "\n",
              "    .colab-df-convert:hover {\n",
              "      background-color: #E2EBFA;\n",
              "      box-shadow: 0px 1px 2px rgba(60, 64, 67, 0.3), 0px 1px 3px 1px rgba(60, 64, 67, 0.15);\n",
              "      fill: #174EA6;\n",
              "    }\n",
              "\n",
              "    [theme=dark] .colab-df-convert {\n",
              "      background-color: #3B4455;\n",
              "      fill: #D2E3FC;\n",
              "    }\n",
              "\n",
              "    [theme=dark] .colab-df-convert:hover {\n",
              "      background-color: #434B5C;\n",
              "      box-shadow: 0px 1px 3px 1px rgba(0, 0, 0, 0.15);\n",
              "      filter: drop-shadow(0px 1px 2px rgba(0, 0, 0, 0.3));\n",
              "      fill: #FFFFFF;\n",
              "    }\n",
              "  </style>\n",
              "\n",
              "      <script>\n",
              "        const buttonEl =\n",
              "          document.querySelector('#df-29a6d248-c745-4d6d-a950-09c9dd209d33 button.colab-df-convert');\n",
              "        buttonEl.style.display =\n",
              "          google.colab.kernel.accessAllowed ? 'block' : 'none';\n",
              "\n",
              "        async function convertToInteractive(key) {\n",
              "          const element = document.querySelector('#df-29a6d248-c745-4d6d-a950-09c9dd209d33');\n",
              "          const dataTable =\n",
              "            await google.colab.kernel.invokeFunction('convertToInteractive',\n",
              "                                                     [key], {});\n",
              "          if (!dataTable) return;\n",
              "\n",
              "          const docLinkHtml = 'Like what you see? Visit the ' +\n",
              "            '<a target=\"_blank\" href=https://colab.research.google.com/notebooks/data_table.ipynb>data table notebook</a>'\n",
              "            + ' to learn more about interactive tables.';\n",
              "          element.innerHTML = '';\n",
              "          dataTable['output_type'] = 'display_data';\n",
              "          await google.colab.output.renderOutput(dataTable, element);\n",
              "          const docLink = document.createElement('div');\n",
              "          docLink.innerHTML = docLinkHtml;\n",
              "          element.appendChild(docLink);\n",
              "        }\n",
              "      </script>\n",
              "    </div>\n",
              "  </div>\n",
              "  "
            ]
          },
          "metadata": {},
          "execution_count": 4
        }
      ]
    },
    {
      "cell_type": "markdown",
      "source": [
        "--**Insight**--\n",
        "\n",
        "*   Untuk fitur jumlah anak: max(19) min(0) \n",
        "*   fitur jumlah pendapatan total : max(6750000) min(26100)\n",
        "*   days_birth : Hitung mundur dari hari ini (0), -1 berarti kemarin \n",
        "*   days_employed : Hitung mundur dari hari ini (0). Jika positif, berarti orang tersebut sedang menganggur."
      ],
      "metadata": {
        "id": "kSP6OROcu5i_"
      }
    },
    {
      "cell_type": "code",
      "source": [
        "credit_record.info()"
      ],
      "metadata": {
        "colab": {
          "base_uri": "https://localhost:8080/"
        },
        "id": "dwatNgrGq83L",
        "outputId": "8b929acc-2064-4fbf-813d-e5951368f059"
      },
      "execution_count": null,
      "outputs": [
        {
          "output_type": "stream",
          "name": "stdout",
          "text": [
            "<class 'pandas.core.frame.DataFrame'>\n",
            "RangeIndex: 1048575 entries, 0 to 1048574\n",
            "Data columns (total 3 columns):\n",
            " #   Column          Non-Null Count    Dtype \n",
            "---  ------          --------------    ----- \n",
            " 0   ID              1048575 non-null  int64 \n",
            " 1   MONTHS_BALANCE  1048575 non-null  int64 \n",
            " 2   STATUS          1048575 non-null  object\n",
            "dtypes: int64(2), object(1)\n",
            "memory usage: 24.0+ MB\n"
          ]
        }
      ]
    },
    {
      "cell_type": "markdown",
      "source": [
        "--**Insight**--\n",
        "\n",
        "\n",
        "*   Terdapat 3 fitur yang merepresentasikan informasi tentang artikel tersebut, yaitu ID, Rekam Bulan dan Status\n",
        "*   didapat bahwa terdapat 2 tipe data yaitu : integer dan object\n",
        "*   semua fitur tidak memiliki missing values"
      ],
      "metadata": {
        "id": "4jGgDoQHuA2h"
      }
    },
    {
      "cell_type": "code",
      "source": [
        "credit_record.describe().T"
      ],
      "metadata": {
        "colab": {
          "base_uri": "https://localhost:8080/",
          "height": 156
        },
        "id": "-R9DR86irKKN",
        "outputId": "97891ff7-e6ca-411d-a735-5251a4c29155"
      },
      "execution_count": null,
      "outputs": [
        {
          "output_type": "execute_result",
          "data": {
            "text/plain": [
              "                    count          mean           std        min        25%  \\\n",
              "ID              1048575.0  5.068286e+06  46150.578505  5001711.0  5023644.0   \n",
              "MONTHS_BALANCE  1048575.0 -1.913700e+01     14.023498      -60.0      -29.0   \n",
              "\n",
              "                      50%        75%        max  \n",
              "ID              5062104.0  5113856.0  5150487.0  \n",
              "MONTHS_BALANCE      -17.0       -7.0        0.0  "
            ],
            "text/html": [
              "\n",
              "  <div id=\"df-822814c4-141c-4fb1-8064-36c4849eafd7\">\n",
              "    <div class=\"colab-df-container\">\n",
              "      <div>\n",
              "<style scoped>\n",
              "    .dataframe tbody tr th:only-of-type {\n",
              "        vertical-align: middle;\n",
              "    }\n",
              "\n",
              "    .dataframe tbody tr th {\n",
              "        vertical-align: top;\n",
              "    }\n",
              "\n",
              "    .dataframe thead th {\n",
              "        text-align: right;\n",
              "    }\n",
              "</style>\n",
              "<table border=\"1\" class=\"dataframe\">\n",
              "  <thead>\n",
              "    <tr style=\"text-align: right;\">\n",
              "      <th></th>\n",
              "      <th>count</th>\n",
              "      <th>mean</th>\n",
              "      <th>std</th>\n",
              "      <th>min</th>\n",
              "      <th>25%</th>\n",
              "      <th>50%</th>\n",
              "      <th>75%</th>\n",
              "      <th>max</th>\n",
              "    </tr>\n",
              "  </thead>\n",
              "  <tbody>\n",
              "    <tr>\n",
              "      <th>ID</th>\n",
              "      <td>1048575.0</td>\n",
              "      <td>5.068286e+06</td>\n",
              "      <td>46150.578505</td>\n",
              "      <td>5001711.0</td>\n",
              "      <td>5023644.0</td>\n",
              "      <td>5062104.0</td>\n",
              "      <td>5113856.0</td>\n",
              "      <td>5150487.0</td>\n",
              "    </tr>\n",
              "    <tr>\n",
              "      <th>MONTHS_BALANCE</th>\n",
              "      <td>1048575.0</td>\n",
              "      <td>-1.913700e+01</td>\n",
              "      <td>14.023498</td>\n",
              "      <td>-60.0</td>\n",
              "      <td>-29.0</td>\n",
              "      <td>-17.0</td>\n",
              "      <td>-7.0</td>\n",
              "      <td>0.0</td>\n",
              "    </tr>\n",
              "  </tbody>\n",
              "</table>\n",
              "</div>\n",
              "      <button class=\"colab-df-convert\" onclick=\"convertToInteractive('df-822814c4-141c-4fb1-8064-36c4849eafd7')\"\n",
              "              title=\"Convert this dataframe to an interactive table.\"\n",
              "              style=\"display:none;\">\n",
              "        \n",
              "  <svg xmlns=\"http://www.w3.org/2000/svg\" height=\"24px\"viewBox=\"0 0 24 24\"\n",
              "       width=\"24px\">\n",
              "    <path d=\"M0 0h24v24H0V0z\" fill=\"none\"/>\n",
              "    <path d=\"M18.56 5.44l.94 2.06.94-2.06 2.06-.94-2.06-.94-.94-2.06-.94 2.06-2.06.94zm-11 1L8.5 8.5l.94-2.06 2.06-.94-2.06-.94L8.5 2.5l-.94 2.06-2.06.94zm10 10l.94 2.06.94-2.06 2.06-.94-2.06-.94-.94-2.06-.94 2.06-2.06.94z\"/><path d=\"M17.41 7.96l-1.37-1.37c-.4-.4-.92-.59-1.43-.59-.52 0-1.04.2-1.43.59L10.3 9.45l-7.72 7.72c-.78.78-.78 2.05 0 2.83L4 21.41c.39.39.9.59 1.41.59.51 0 1.02-.2 1.41-.59l7.78-7.78 2.81-2.81c.8-.78.8-2.07 0-2.86zM5.41 20L4 18.59l7.72-7.72 1.47 1.35L5.41 20z\"/>\n",
              "  </svg>\n",
              "      </button>\n",
              "      \n",
              "  <style>\n",
              "    .colab-df-container {\n",
              "      display:flex;\n",
              "      flex-wrap:wrap;\n",
              "      gap: 12px;\n",
              "    }\n",
              "\n",
              "    .colab-df-convert {\n",
              "      background-color: #E8F0FE;\n",
              "      border: none;\n",
              "      border-radius: 50%;\n",
              "      cursor: pointer;\n",
              "      display: none;\n",
              "      fill: #1967D2;\n",
              "      height: 32px;\n",
              "      padding: 0 0 0 0;\n",
              "      width: 32px;\n",
              "    }\n",
              "\n",
              "    .colab-df-convert:hover {\n",
              "      background-color: #E2EBFA;\n",
              "      box-shadow: 0px 1px 2px rgba(60, 64, 67, 0.3), 0px 1px 3px 1px rgba(60, 64, 67, 0.15);\n",
              "      fill: #174EA6;\n",
              "    }\n",
              "\n",
              "    [theme=dark] .colab-df-convert {\n",
              "      background-color: #3B4455;\n",
              "      fill: #D2E3FC;\n",
              "    }\n",
              "\n",
              "    [theme=dark] .colab-df-convert:hover {\n",
              "      background-color: #434B5C;\n",
              "      box-shadow: 0px 1px 3px 1px rgba(0, 0, 0, 0.15);\n",
              "      filter: drop-shadow(0px 1px 2px rgba(0, 0, 0, 0.3));\n",
              "      fill: #FFFFFF;\n",
              "    }\n",
              "  </style>\n",
              "\n",
              "      <script>\n",
              "        const buttonEl =\n",
              "          document.querySelector('#df-822814c4-141c-4fb1-8064-36c4849eafd7 button.colab-df-convert');\n",
              "        buttonEl.style.display =\n",
              "          google.colab.kernel.accessAllowed ? 'block' : 'none';\n",
              "\n",
              "        async function convertToInteractive(key) {\n",
              "          const element = document.querySelector('#df-822814c4-141c-4fb1-8064-36c4849eafd7');\n",
              "          const dataTable =\n",
              "            await google.colab.kernel.invokeFunction('convertToInteractive',\n",
              "                                                     [key], {});\n",
              "          if (!dataTable) return;\n",
              "\n",
              "          const docLinkHtml = 'Like what you see? Visit the ' +\n",
              "            '<a target=\"_blank\" href=https://colab.research.google.com/notebooks/data_table.ipynb>data table notebook</a>'\n",
              "            + ' to learn more about interactive tables.';\n",
              "          element.innerHTML = '';\n",
              "          dataTable['output_type'] = 'display_data';\n",
              "          await google.colab.output.renderOutput(dataTable, element);\n",
              "          const docLink = document.createElement('div');\n",
              "          docLink.innerHTML = docLinkHtml;\n",
              "          element.appendChild(docLink);\n",
              "        }\n",
              "      </script>\n",
              "    </div>\n",
              "  </div>\n",
              "  "
            ]
          },
          "metadata": {},
          "execution_count": 6
        }
      ]
    },
    {
      "cell_type": "markdown",
      "source": [
        "--**Insight**--\n",
        "\n",
        "*   record month: Bulan dari data yang diekstraksi adalah titik awal, mundur, 0 adalah bulan saat ini, -1 adalah bulan sebelumnya : max record_month = 0 dan min record_month =-6 (6 bulan)\n",
        "\n",
        "\n",
        "\n"
      ],
      "metadata": {
        "id": "OgxkfX_Lv9Oj"
      }
    },
    {
      "cell_type": "markdown",
      "source": [
        "#**Checking Skewness**\n",
        "\n",
        "---\n",
        "\n"
      ],
      "metadata": {
        "id": "QltccY9UrL4H"
      }
    },
    {
      "cell_type": "code",
      "source": [
        "application_details.skew() # mengukur kemiringan distribusi data"
      ],
      "metadata": {
        "colab": {
          "base_uri": "https://localhost:8080/"
        },
        "id": "bNzuFVtyrOL_",
        "outputId": "ab7f0402-2c45-441a-9272-1a8060a42b48"
      },
      "execution_count": null,
      "outputs": [
        {
          "output_type": "stream",
          "name": "stderr",
          "text": [
            "/usr/local/lib/python3.7/dist-packages/ipykernel_launcher.py:1: FutureWarning: Dropping of nuisance columns in DataFrame reductions (with 'numeric_only=None') is deprecated; in a future version this will raise TypeError.  Select only valid columns before calling the reduction.\n",
            "  \"\"\"Entry point for launching an IPython kernel.\n"
          ]
        },
        {
          "output_type": "execute_result",
          "data": {
            "text/plain": [
              "ID                  0.212718\n",
              "CNT_CHILDREN        1.806941\n",
              "AMT_INCOME_TOTAL    8.834066\n",
              "DAYS_BIRTH         -0.160181\n",
              "DAYS_EMPLOYED       1.739495\n",
              "FLAG_MOBIL          0.000000\n",
              "FLAG_WORK_PHONE     1.452898\n",
              "FLAG_PHONE          0.937568\n",
              "FLAG_EMAIL          2.522482\n",
              "CNT_FAM_MEMBERS     0.919676\n",
              "dtype: float64"
            ]
          },
          "metadata": {},
          "execution_count": 9
        }
      ]
    },
    {
      "cell_type": "markdown",
      "source": [
        "--** Insight **--\n",
        "\n",
        "\n",
        "*   Kemiringan paling besar amount income sebesar 8.8 (kemiringan distribusi data condong ke kiri/left skew)\n",
        "\n"
      ],
      "metadata": {
        "id": "0ThIy_Z8w9cH"
      }
    },
    {
      "cell_type": "code",
      "source": [
        "credit_record.skew()"
      ],
      "metadata": {
        "colab": {
          "base_uri": "https://localhost:8080/"
        },
        "id": "lSsf3t_trQoH",
        "outputId": "8de114a1-faec-4233-bcae-c1944eb65fc8"
      },
      "execution_count": null,
      "outputs": [
        {
          "output_type": "stream",
          "name": "stderr",
          "text": [
            "/usr/local/lib/python3.7/dist-packages/ipykernel_launcher.py:1: FutureWarning: Dropping of nuisance columns in DataFrame reductions (with 'numeric_only=None') is deprecated; in a future version this will raise TypeError.  Select only valid columns before calling the reduction.\n",
            "  \"\"\"Entry point for launching an IPython kernel.\n"
          ]
        },
        {
          "output_type": "execute_result",
          "data": {
            "text/plain": [
              "ID                0.163081\n",
              "MONTHS_BALANCE   -0.620084\n",
              "dtype: float64"
            ]
          },
          "metadata": {},
          "execution_count": 10
        }
      ]
    },
    {
      "cell_type": "markdown",
      "source": [
        "#**Count Plot of Categorical Features: application_details**\n",
        "\n",
        "---\n",
        "\n"
      ],
      "metadata": {
        "id": "G3SvfTKqrTzK"
      }
    },
    {
      "cell_type": "code",
      "source": [
        "def countplot_applicants(features): #package seaborn,countplot = graph sederhana yang menghitung jumlah data yang sama , membuat countplot applicant\n",
        "    for feature in features:\n",
        "        plt.figure(figsize=(9, 9))\n",
        "        ax=sns.countplot(y=application_details[feature], hue='CODE_GENDER' , data=application_details) #memplotkan code_gender\n",
        "        plt.legend(loc='best')\n",
        "        total = len(application_details[feature]) #jumlah masing masing diukur dari data application_details\n",
        "        for p in ax.patches:\n",
        "            percentage = '{:.1f}%'.format(100 * p.get_width()/total)\n",
        "            x = p.get_x() + p.get_width() + 0.02\n",
        "            y = p.get_y() + p.get_height()/2\n",
        "            ax.annotate(percentage, (x, y))\n",
        "    plt.show()"
      ],
      "metadata": {
        "id": "uPGDqybWrUqs"
      },
      "execution_count": null,
      "outputs": []
    },
    {
      "cell_type": "code",
      "source": [
        "countplot_applicants(['CODE_GENDER', 'FLAG_OWN_CAR', 'FLAG_OWN_REALTY', 'NAME_INCOME_TYPE', 'NAME_EDUCATION_TYPE', 'NAME_FAMILY_STATUS', 'NAME_HOUSING_TYPE', 'OCCUPATION_TYPE']) \n",
        "#membentuk list untuk menampilkan code_gender, flag_own_car, flag_own_reality, name_income_type hingga occupation_type\n"
      ],
      "metadata": {
        "colab": {
          "base_uri": "https://localhost:8080/",
          "height": 1000
        },
        "id": "qs9N7iyfrW3B",
        "outputId": "b1327d02-7513-4d12-e9fc-135ac4ecd80d"
      },
      "execution_count": null,
      "outputs": [
        {
          "output_type": "display_data",
          "data": {
            "text/plain": [
              "<Figure size 648x648 with 1 Axes>"
            ],
            "image/png": "[encoded data removed]"
          },
          "metadata": {
            "needs_background": "light"
          }
        },
        {
          "output_type": "display_data",
          "data": {
            "text/plain": [
              "<Figure size 648x648 with 1 Axes>"
            ],
            "image/png": "[encoded data removed]"
          },
          "metadata": {
            "needs_background": "light"
          }
        },
        {
          "output_type": "display_data",
          "data": {
            "text/plain": [
              "<Figure size 648x648 with 1 Axes>"
            ],
            "image/png": "[encoded data removed]"
          },
          "metadata": {
            "needs_background": "light"
          }
        },
        {
          "output_type": "display_data",
          "data": {
            "text/plain": [
              "<Figure size 648x648 with 1 Axes>"
            ],
            "image/png": "[encoded data removed]"
          },
          "metadata": {
            "needs_background": "light"
          }
        },
        {
          "output_type": "display_data",
          "data": {
            "text/plain": [
              "<Figure size 648x648 with 1 Axes>"
            ],
            "image/png": "[encoded data removed]"
          },
          "metadata": {
            "needs_background": "light"
          }
        },
        {
          "output_type": "display_data",
          "data": {
            "text/plain": [
              "<Figure size 648x648 with 1 Axes>"
            ],
            "image/png": "[encoded data removed]"
          },
          "metadata": {
            "needs_background": "light"
          }
        },
        {
          "output_type": "display_data",
          "data": {
            "text/plain": [
              "<Figure size 648x648 with 1 Axes>"
            ],
            "image/png": "[encoded data removed]"
          },
          "metadata": {
            "needs_background": "light"
          }
        },
        {
          "output_type": "display_data",
          "data": {
            "text/plain": [
              "<Figure size 648x648 with 1 Axes>"
            ],
            "image/png": "[encoded data removed]"
          },
          "metadata": {
            "needs_background": "light"
          }
        }
      ]
    },
    {
      "cell_type": "markdown",
      "source": [
        "Wawasan dari Analisis CountPlot: applictaion_details\n",
        "\n",
        "Jenis Kelamin (Code_Gender)\n",
        "2. 36,9% lamaran dari laki-laki dan 67,1% lamaran dari perempuan.\n",
        "\n",
        "Memiliki Mobil (flag_own_car)\n",
        "5. 20,1% pelamar pria dan 17,1% pelamar wanita memiliki mobil.\n",
        "6. 12,8% pelamar pria dan 50% pelamar wanita tidak memiliki mobil.\n",
        "\n",
        "Memiliki properti\n",
        "7. 21,9% pelamar pria dan 47,5% pelamar wanita memiliki properti.\n",
        "8. 11% pelamar pria dan 19,7% pelamar wanita tidak memiliki properti.\n",
        "\n",
        "tipe edukasi (name_type_education)\n",
        "9. 19,4% pelamar pria dan 32,2% pelamar wanita bekerja.\n",
        "10. 8,4% pelamar pria dan 14,5% pelamar wanita adalah rekanan komersial.\n",
        "11. 2,7% pelamar pria dan 14,5% pelamar wanita adalah pensiunan.\n",
        "12. 2,4% pelamar pria dan 5,9% pelamar wanita adalah pegawai negeri.\n",
        "13. 8,5% pelamar pria dan 18,3% pelamar wanita telah menyelesaikan pendidikan tinggi mereka.\n",
        "14. 22,5% pelamar pria dan 46,3% pelamar wanita telah menyelesaikan pendidikan menengah mereka.\n",
        "15. 1,4% pelamar pria dan 2% pelamar wanita tidak menyelesaikan pendidikan tinggi.\n",
        "16. 0,4% pelamar pria dan 0,6% pelamar wanita tidak menyelesaikan pendidikan menengah.\n",
        "17. 0% pelamar pria dan 0,1% pelamar wanita memiliki gelar akademik.\n",
        "\n",
        "Status Keluarga (name_family_status)\n",
        "18. 2,2% pelamar pria dan 6,1% pelamar wanita telah melakukan perkawinan sipil.\n",
        "19. 24,9% pelamar pria dan 43,5% pelamar wanita sudah menikah.\n",
        "20. 4,3% pelamar pria dan 8,3% pelamar wanita masih lajang.\n",
        "21. 1,2% pelamar pria dan 5% pelamar wanita dipisahkan.\n",
        "22. 0,2% pelamar pria dan 4,3% pelamar wanita janda.\n",
        "\n",
        "tipe tempat tinggal (name_house_typing)\n",
        "23. 0,6% pelamar pria dan 0,7% pelamar wanita tinggal di apartemen sewaan.\n",
        "24. 28,8% pelamar pria dan 61,0% pelamar wanita tinggal di apartemen.\n",
        "25. 0,6% pelamar pria dan 0,7% pelamar wanita tinggal di apartemen sewaan.\n",
        "26. 1% pelamar pria dan 2,3% pelamar wanita tinggal di apartemen kota.\n",
        "27. 1,9% pelamar pria dan 2,4% pelamar wanita tinggal bersama orang tua mereka.\n",
        "28. 0,4% pelamar pria dan 0,5% pelamar wanita tinggal di apartemen perkantoran.\n",
        "\n",
        "Detail pekerjaan:\n",
        "  1. staf keamanan: pria-1,2% dan wanita-0.\n",
        "6%\n",
        "  2. staf penjualan: pria-1,2% dan wanita-8,2%\n",
        "  3. akuntan: pria-0,1% dan wanita-3,5%\n",
        "  4. tenaga kerja: laki-laki-10% dan perempuan-7,9%\n",
        "  5. manajer: pria-3,5% dan wanita-4,6%\n",
        "  6. pengemudi: pria-5,6% dan wanita-0,4%\n",
        "  7. staf inti: pria-2,1% dan wanita-7,7%\n",
        "  8. staf teknologi dengan keterampilan tinggi: pria-1,3% dan wanita-2,6%\n",
        "  9. staf kebersihan: pria-0,1% dan wanita-1,3%\n",
        "  10. staf layanan swasta: pria-0% dan wanita-0,8%\n",
        "  11. staf memasak: pria-0,2% dan wanita-1,7%\n",
        "  12. pekerja berketerampilan rendah: laki-laki-0,4% dan perempuan-0,1%\n",
        "  13. tenaga medis: laki-laki-0,1% dan perempuan-3%\n",
        "  14. rahasia: laki-laki-0% dan perempuan-0,4%\n",
        "  15. pelayan/staf barmen: pria-0,1% dan wanita-0,3%\n",
        "  16. staf jam: pria-0% dan wanita-0.2%\n",
        "  17. agen properti: pria-0% dan wanita-0.2%\n",
        "  18. stafnya: pria-0,1% dan wanita-0%"
      ],
      "metadata": {
        "id": "FysL-Wyzz02Y"
      }
    },
    {
      "cell_type": "markdown",
      "source": [
        "# **Count Plot of Categorical Features: credit_Record**\n",
        "\n",
        "\n",
        "---\n",
        "\n"
      ],
      "metadata": {
        "id": "d-6Vc9mKreDQ"
      }
    },
    {
      "cell_type": "code",
      "source": [
        "def countplot_credit(features): #countplot dari package seaborn bagian credit\n",
        "    for feature in features:\n",
        "        plt.figure(figsize=(9, 9))\n",
        "        ax=sns.countplot(y=credit_record[feature], data=credit_record)\n",
        "        total = len(credit_record[feature])\n",
        "        for p in ax.patches:\n",
        "            percentage = '{:.1f}%'.format(100 * p.get_width()/total)\n",
        "            x = p.get_x() + p.get_width() + 0.02\n",
        "            y = p.get_y() + p.get_height()/2\n",
        "            ax.annotate(percentage, (x, y))\n",
        "    plt.show()"
      ],
      "metadata": {
        "id": "LLWGrHzRref2"
      },
      "execution_count": null,
      "outputs": []
    },
    {
      "cell_type": "code",
      "source": [
        "countplot_credit(['STATUS']) # countplot status"
      ],
      "metadata": {
        "colab": {
          "base_uri": "https://localhost:8080/",
          "height": 557
        },
        "id": "rieQmAufrgY8",
        "outputId": "83eef0eb-a87e-471c-81a9-ab5dd027c3f0"
      },
      "execution_count": null,
      "outputs": [
        {
          "output_type": "display_data",
          "data": {
            "text/plain": [
              "<Figure size 648x648 with 1 Axes>"
            ],
            "image/png": "[encoded data removed]"
          },
          "metadata": {
            "needs_background": "light"
          }
        }
      ]
    },
    {
      "cell_type": "markdown",
      "source": [
        "--**Insight**--\n",
        "\n",
        "Dari Analisis CountPlot: credit_record \n",
        "\n",
        "*   C: pinjaman untuk bulan itu sudah dibayar \n",
        "*   X: tidak ada pinjaman untuk bulan itu\n",
        "*   0: pinjaman jatuh tempo 1 hingga 29 hari\n",
        "*   2: pinjaman 60 hingga 89 hari jatuh tempo\n",
        "*   3: pinjaman 90 hingga 119 jatuh tempo hari\n",
        "*   4: pinjaman terlambat 120 hingga 149 hari\n",
        "*   5: pinjaman terlambat lebih dari 150 hari\n",
        "\n",
        "Hasil\n",
        "\n",
        "\n",
        "1.   20% pemohon tidak memiliki pinjaman bulan yang sedang berjalan. \n",
        "2.   36,5% pelamar memiliki keterlambatan selama 1-29 hari.\n",
        "3.   42,2% pemohon sudah membayar pinjaman bulan berjalan.\n",
        "4.   1,1% pelamar memiliki keterlambatan selama 30-59 hari.\n",
        "5.   0,1% pelamar memiliki keterlambatan selama 60-89 hari.\n",
        "6.   0% pelamar memiliki keterlambatan selama 90-119 hari.\n",
        "7.   0% pelamar memiliki keterlambatan selama 120-149 hari.\n",
        "8.   0,2% pelamar telah terlambat selama 150 hari."
      ],
      "metadata": {
        "id": "NbXYBIlkztHA"
      }
    },
    {
      "cell_type": "markdown",
      "source": [
        "# **Finding Missing Values from application_details**\n",
        "\n",
        "\n",
        "---\n",
        "\n"
      ],
      "metadata": {
        "id": "sT5rgyAarjPW"
      }
    },
    {
      "cell_type": "code",
      "source": [
        "application_details.isnull().sum()"
      ],
      "metadata": {
        "colab": {
          "base_uri": "https://localhost:8080/"
        },
        "id": "6soBH4zSrnds",
        "outputId": "35d5e804-1057-4353-ca4c-4c41b65a0329"
      },
      "execution_count": null,
      "outputs": [
        {
          "output_type": "execute_result",
          "data": {
            "text/plain": [
              "ID                          0\n",
              "CODE_GENDER                 0\n",
              "FLAG_OWN_CAR                0\n",
              "FLAG_OWN_REALTY             0\n",
              "CNT_CHILDREN                0\n",
              "AMT_INCOME_TOTAL            0\n",
              "NAME_INCOME_TYPE            0\n",
              "NAME_EDUCATION_TYPE         0\n",
              "NAME_FAMILY_STATUS          0\n",
              "NAME_HOUSING_TYPE           0\n",
              "DAYS_BIRTH                  0\n",
              "DAYS_EMPLOYED               0\n",
              "FLAG_MOBIL                  0\n",
              "FLAG_WORK_PHONE             0\n",
              "FLAG_PHONE                  0\n",
              "FLAG_EMAIL                  0\n",
              "OCCUPATION_TYPE        134203\n",
              "CNT_FAM_MEMBERS             0\n",
              "dtype: int64"
            ]
          },
          "metadata": {},
          "execution_count": 15
        }
      ]
    },
    {
      "cell_type": "markdown",
      "source": [
        " --**Insight**--\n",
        " terdapat 134203 missing values di fitur occupation type\n",
        "\n"
      ],
      "metadata": {
        "id": "QPiiol7OrpMH"
      }
    },
    {
      "cell_type": "code",
      "source": [
        "def countplot_occupation(features): #countplot fitur occupation(pekerjaan) yang memiliki missing values\n",
        "    for feature in features:\n",
        "        plt.figure(figsize=(30, 30))\n",
        "        ax=sns.countplot(y=application_details[feature], hue='NAME_EDUCATION_TYPE' , data=application_details) #dengan hue detail visualisasi dari kolom tipe edukasi \n",
        "        plt.legend(loc='best')\n",
        "        total = len(application_details[feature])\n",
        "        for p in ax.patches:\n",
        "            percentage = '{:.1f}%'.format(100 * p.get_width()/total)\n",
        "            x = p.get_x() + p.get_width() + 0.02\n",
        "            y = p.get_y() + p.get_height()/2\n",
        "            ax.annotate(percentage, (x, y))\n",
        "    plt.show()"
      ],
      "metadata": {
        "id": "5OXp46IyrqtK"
      },
      "execution_count": null,
      "outputs": []
    },
    {
      "cell_type": "code",
      "source": [
        "countplot_occupation(['OCCUPATION_TYPE']) #menampilkan occupation_type "
      ],
      "metadata": {
        "colab": {
          "base_uri": "https://localhost:8080/",
          "height": 800
        },
        "id": "GERd0m9Zrsn2",
        "outputId": "b80d1015-e4c0-4887-b4e0-72f64299cbf4"
      },
      "execution_count": null,
      "outputs": [
        {
          "output_type": "display_data",
          "data": {
            "text/plain": [
              "<Figure size 2160x2160 with 1 Axes>"
            ],
            "image/png": "[encoded data removed]"
          },
          "metadata": {
            "needs_background": "light"
          }
        }
      ]
    },
    {
      "cell_type": "code",
      "source": [
        "def occupation_by_education_by_gender(occupations, educations, genders, length): \n",
        "    Gender = []\n",
        "    Education = []\n",
        "    Occupation = []\n",
        "    Percentage = []\n",
        "    for gender in genders:\n",
        "        for education in educations:\n",
        "            for occupation in occupations:\n",
        "                Gender.append(gender)\n",
        "                Education.append(education)\n",
        "                Occupation.append(occupation)\n",
        "                temp_df_1=application_details.loc[application_details['OCCUPATION_TYPE'] == occupation] # loc digunakan untuk melakukan indexing data , berarti untuk temp_Df_1 menggunakan indeks occupation_type dari data application_details disimpan juga dengan nama lain occupation\n",
        "                temp_df_2=temp_df_1.loc[temp_df_1['CODE_GENDER'] == gender] #temp_df_2 diambil dari temp_df_1 yang menggunakan indeks code_gender dari temp_df_1 disimpan juga dengan \"gender\"\n",
        "                temp_df_3=temp_df_2.loc[temp_df_2['NAME_EDUCATION_TYPE'] == education] #temp_df_3 diambil dari temp_df_2 yang menggunakan indeks name_education_type dari temp_df_2 disimpan juga dengan \"education\"\n",
        "                length_filter = len(temp_df_3) #diukur dari panjang teemp_df_3\n",
        "                Percentage.append(length_filter/length)\n",
        "    percent_dict={\n",
        "        'Gender': Gender,\n",
        "        'Education': Education,\n",
        "        'Occupation': Occupation,\n",
        "        'Popularity Percentage': Percentage\n",
        "    }\n",
        "    df = pd.DataFrame(percent_dict)\n",
        "    df.to_excel('Occupation_popularity_index.xlsx', index=False) #define ke excle dengan nama Occupation_popularity_index.xlsx"
      ],
      "metadata": {
        "id": "7F5bDET7rwFY"
      },
      "execution_count": null,
      "outputs": []
    },
    {
      "cell_type": "code",
      "source": [
        "occupation_by_education_by_gender(list(application_details['OCCUPATION_TYPE'].unique()), list(application_details['NAME_EDUCATION_TYPE'].unique()), list(application_details['CODE_GENDER'].unique()), len(application_details)) \n",
        "#membuat list occupation dari edukasi dan gender "
      ],
      "metadata": {
        "id": "WW2t2nYNrywH"
      },
      "execution_count": null,
      "outputs": []
    },
    {
      "cell_type": "code",
      "source": [
        "occupation_popularity = pd.read_excel('Occupation_popularity_index.xlsx')\n",
        "#membaca occupation_popularity_index yang sudah dibuat dan disimpan dengan nama occupation_popularity"
      ],
      "metadata": {
        "id": "VzWk5D5Er0Yh"
      },
      "execution_count": null,
      "outputs": []
    },
    {
      "cell_type": "markdown",
      "source": [
        "**Replacing blank 'OCCUPATION_TYPE' with most popular occupation**\n",
        "\n"
      ],
      "metadata": {
        "id": "DL20r14gr3aJ"
      }
    },
    {
      "cell_type": "code",
      "source": [
        "occupation_popularity['Tag'] = occupation_popularity['Gender']+ '_' + occupation_popularity['Education']"
      ],
      "metadata": {
        "id": "ZKohf1gwr5RM"
      },
      "execution_count": null,
      "outputs": []
    },
    {
      "cell_type": "markdown",
      "source": [
        "--**Insight**--\n",
        "\n",
        "membuat tag dengan isi gender dan tipe edukasi "
      ],
      "metadata": {
        "id": "CTQpis3M8kbf"
      }
    },
    {
      "cell_type": "markdown",
      "source": [
        "**Creating 'Tag' vs popularity dictionary**"
      ],
      "metadata": {
        "id": "sVlxwSdAr7Nc"
      }
    },
    {
      "cell_type": "code",
      "source": [
        "def Dict(data): #define dictionary\n",
        "    tag_list=list(data['Tag'].unique())\n",
        "    popular_occupation = []\n",
        "    data_grouped = data.groupby('Tag')\n",
        "    for tag in tag_list:\n",
        "        grouped_data = data_grouped.get_group(tag)\n",
        "        popular_occupation.append(grouped_data.loc[grouped_data['Popularity Percentage'] == max(list(grouped_data['Popularity Percentage']))]['Occupation'].tolist()[0])\n",
        "    Tag_dict={\n",
        "        'Tag': tag_list,\n",
        "        'Occupation': popular_occupation\n",
        "    }\n",
        "    return Tag_dict"
      ],
      "metadata": {
        "id": "cR6ZfEKYsTiw"
      },
      "execution_count": null,
      "outputs": []
    },
    {
      "cell_type": "code",
      "source": [
        "dict_df = Dict(occupation_popularity) # membuat dict_df yang merupakan dictionary dari occupation popularity"
      ],
      "metadata": {
        "id": "MDbuLQr3sVks"
      },
      "execution_count": null,
      "outputs": []
    },
    {
      "cell_type": "code",
      "source": [
        "pd.DataFrame(dict_df).to_excel('Tag_vs_Occupation.xlsx', index=False) #package pandas dan membuat dataframe dan disimpan ke dalam bentuk tag_vs_occupation.xlsx"
      ],
      "metadata": {
        "id": "JcIkmr4vsXiQ"
      },
      "execution_count": null,
      "outputs": []
    },
    {
      "cell_type": "code",
      "source": [
        "tag_data = pd.read_excel('Tag_vs_Occupation.xlsx') #membaca tag_vs_occupation dan disimpan dengan nama tag_data"
      ],
      "metadata": {
        "id": "85S-BY1psZG3"
      },
      "execution_count": null,
      "outputs": []
    },
    {
      "cell_type": "code",
      "source": [
        "tag_data #menampilkan tag_data yang sudah dibuat"
      ],
      "metadata": {
        "colab": {
          "base_uri": "https://localhost:8080/",
          "height": 363
        },
        "id": "ucAr3znusa4M",
        "outputId": "0c6c2857-8e01-49f5-818d-63693d012c03"
      },
      "execution_count": null,
      "outputs": [
        {
          "output_type": "execute_result",
          "data": {
            "text/plain": [
              "                               Tag  Occupation\n",
              "0               M_Higher education    Managers\n",
              "1  M_Secondary / secondary special    Laborers\n",
              "2              M_Incomplete higher    Laborers\n",
              "3                M_Lower secondary    Laborers\n",
              "4                M_Academic degree  Core staff\n",
              "5               F_Higher education  Core staff\n",
              "6  F_Secondary / secondary special    Laborers\n",
              "7              F_Incomplete higher  Core staff\n",
              "8                F_Lower secondary    Laborers\n",
              "9                F_Academic degree    Managers"
            ],
            "text/html": [
              "\n",
              "  <div id=\"df-2deedded-1c19-44fc-848c-2c65eef79767\">\n",
              "    <div class=\"colab-df-container\">\n",
              "      <div>\n",
              "<style scoped>\n",
              "    .dataframe tbody tr th:only-of-type {\n",
              "        vertical-align: middle;\n",
              "    }\n",
              "\n",
              "    .dataframe tbody tr th {\n",
              "        vertical-align: top;\n",
              "    }\n",
              "\n",
              "    .dataframe thead th {\n",
              "        text-align: right;\n",
              "    }\n",
              "</style>\n",
              "<table border=\"1\" class=\"dataframe\">\n",
              "  <thead>\n",
              "    <tr style=\"text-align: right;\">\n",
              "      <th></th>\n",
              "      <th>Tag</th>\n",
              "      <th>Occupation</th>\n",
              "    </tr>\n",
              "  </thead>\n",
              "  <tbody>\n",
              "    <tr>\n",
              "      <th>0</th>\n",
              "      <td>M_Higher education</td>\n",
              "      <td>Managers</td>\n",
              "    </tr>\n",
              "    <tr>\n",
              "      <th>1</th>\n",
              "      <td>M_Secondary / secondary special</td>\n",
              "      <td>Laborers</td>\n",
              "    </tr>\n",
              "    <tr>\n",
              "      <th>2</th>\n",
              "      <td>M_Incomplete higher</td>\n",
              "      <td>Laborers</td>\n",
              "    </tr>\n",
              "    <tr>\n",
              "      <th>3</th>\n",
              "      <td>M_Lower secondary</td>\n",
              "      <td>Laborers</td>\n",
              "    </tr>\n",
              "    <tr>\n",
              "      <th>4</th>\n",
              "      <td>M_Academic degree</td>\n",
              "      <td>Core staff</td>\n",
              "    </tr>\n",
              "    <tr>\n",
              "      <th>5</th>\n",
              "      <td>F_Higher education</td>\n",
              "      <td>Core staff</td>\n",
              "    </tr>\n",
              "    <tr>\n",
              "      <th>6</th>\n",
              "      <td>F_Secondary / secondary special</td>\n",
              "      <td>Laborers</td>\n",
              "    </tr>\n",
              "    <tr>\n",
              "      <th>7</th>\n",
              "      <td>F_Incomplete higher</td>\n",
              "      <td>Core staff</td>\n",
              "    </tr>\n",
              "    <tr>\n",
              "      <th>8</th>\n",
              "      <td>F_Lower secondary</td>\n",
              "      <td>Laborers</td>\n",
              "    </tr>\n",
              "    <tr>\n",
              "      <th>9</th>\n",
              "      <td>F_Academic degree</td>\n",
              "      <td>Managers</td>\n",
              "    </tr>\n",
              "  </tbody>\n",
              "</table>\n",
              "</div>\n",
              "      <button class=\"colab-df-convert\" onclick=\"convertToInteractive('df-2deedded-1c19-44fc-848c-2c65eef79767')\"\n",
              "              title=\"Convert this dataframe to an interactive table.\"\n",
              "              style=\"display:none;\">\n",
              "        \n",
              "  <svg xmlns=\"http://www.w3.org/2000/svg\" height=\"24px\"viewBox=\"0 0 24 24\"\n",
              "       width=\"24px\">\n",
              "    <path d=\"M0 0h24v24H0V0z\" fill=\"none\"/>\n",
              "    <path d=\"M18.56 5.44l.94 2.06.94-2.06 2.06-.94-2.06-.94-.94-2.06-.94 2.06-2.06.94zm-11 1L8.5 8.5l.94-2.06 2.06-.94-2.06-.94L8.5 2.5l-.94 2.06-2.06.94zm10 10l.94 2.06.94-2.06 2.06-.94-2.06-.94-.94-2.06-.94 2.06-2.06.94z\"/><path d=\"M17.41 7.96l-1.37-1.37c-.4-.4-.92-.59-1.43-.59-.52 0-1.04.2-1.43.59L10.3 9.45l-7.72 7.72c-.78.78-.78 2.05 0 2.83L4 21.41c.39.39.9.59 1.41.59.51 0 1.02-.2 1.41-.59l7.78-7.78 2.81-2.81c.8-.78.8-2.07 0-2.86zM5.41 20L4 18.59l7.72-7.72 1.47 1.35L5.41 20z\"/>\n",
              "  </svg>\n",
              "      </button>\n",
              "      \n",
              "  <style>\n",
              "    .colab-df-container {\n",
              "      display:flex;\n",
              "      flex-wrap:wrap;\n",
              "      gap: 12px;\n",
              "    }\n",
              "\n",
              "    .colab-df-convert {\n",
              "      background-color: #E8F0FE;\n",
              "      border: none;\n",
              "      border-radius: 50%;\n",
              "      cursor: pointer;\n",
              "      display: none;\n",
              "      fill: #1967D2;\n",
              "      height: 32px;\n",
              "      padding: 0 0 0 0;\n",
              "      width: 32px;\n",
              "    }\n",
              "\n",
              "    .colab-df-convert:hover {\n",
              "      background-color: #E2EBFA;\n",
              "      box-shadow: 0px 1px 2px rgba(60, 64, 67, 0.3), 0px 1px 3px 1px rgba(60, 64, 67, 0.15);\n",
              "      fill: #174EA6;\n",
              "    }\n",
              "\n",
              "    [theme=dark] .colab-df-convert {\n",
              "      background-color: #3B4455;\n",
              "      fill: #D2E3FC;\n",
              "    }\n",
              "\n",
              "    [theme=dark] .colab-df-convert:hover {\n",
              "      background-color: #434B5C;\n",
              "      box-shadow: 0px 1px 3px 1px rgba(0, 0, 0, 0.15);\n",
              "      filter: drop-shadow(0px 1px 2px rgba(0, 0, 0, 0.3));\n",
              "      fill: #FFFFFF;\n",
              "    }\n",
              "  </style>\n",
              "\n",
              "      <script>\n",
              "        const buttonEl =\n",
              "          document.querySelector('#df-2deedded-1c19-44fc-848c-2c65eef79767 button.colab-df-convert');\n",
              "        buttonEl.style.display =\n",
              "          google.colab.kernel.accessAllowed ? 'block' : 'none';\n",
              "\n",
              "        async function convertToInteractive(key) {\n",
              "          const element = document.querySelector('#df-2deedded-1c19-44fc-848c-2c65eef79767');\n",
              "          const dataTable =\n",
              "            await google.colab.kernel.invokeFunction('convertToInteractive',\n",
              "                                                     [key], {});\n",
              "          if (!dataTable) return;\n",
              "\n",
              "          const docLinkHtml = 'Like what you see? Visit the ' +\n",
              "            '<a target=\"_blank\" href=https://colab.research.google.com/notebooks/data_table.ipynb>data table notebook</a>'\n",
              "            + ' to learn more about interactive tables.';\n",
              "          element.innerHTML = '';\n",
              "          dataTable['output_type'] = 'display_data';\n",
              "          await google.colab.output.renderOutput(dataTable, element);\n",
              "          const docLink = document.createElement('div');\n",
              "          docLink.innerHTML = docLinkHtml;\n",
              "          element.appendChild(docLink);\n",
              "        }\n",
              "      </script>\n",
              "    </div>\n",
              "  </div>\n",
              "  "
            ]
          },
          "metadata": {},
          "execution_count": 26
        }
      ]
    },
    {
      "cell_type": "markdown",
      "source": [
        "--**Insight**--\n",
        "\n",
        "Menampilkan tag (gender,tipe edukasi) dan occupation (managers/laborers/core staff)"
      ],
      "metadata": {
        "id": "RIsqOo17-V2U"
      }
    },
    {
      "cell_type": "code",
      "source": [
        "tag_g = list(tag_data['Tag']) #membuat tag_g dari list tag_data bagian tag\n",
        "occu_g = list(tag_data['Occupation']) # membuat occu_g dari list tag_data bagian occupation\n",
        "tag_dict = {} #disimpan dalam tag_dict\n",
        "for index in range(len(tag_g)): \n",
        "    tag_dict[tag_g[index]] = occu_g[index]"
      ],
      "metadata": {
        "id": "ep2IER_nscYH"
      },
      "execution_count": null,
      "outputs": []
    },
    {
      "cell_type": "code",
      "source": [
        "tag_dict"
      ],
      "metadata": {
        "colab": {
          "base_uri": "https://localhost:8080/"
        },
        "id": "1R_h8SUYsd8Z",
        "outputId": "eaf3426c-635f-4435-976b-82c0b83476f5"
      },
      "execution_count": null,
      "outputs": [
        {
          "output_type": "execute_result",
          "data": {
            "text/plain": [
              "{'F_Academic degree': 'Managers',\n",
              " 'F_Higher education': 'Core staff',\n",
              " 'F_Incomplete higher': 'Core staff',\n",
              " 'F_Lower secondary': 'Laborers',\n",
              " 'F_Secondary / secondary special': 'Laborers',\n",
              " 'M_Academic degree': 'Core staff',\n",
              " 'M_Higher education': 'Managers',\n",
              " 'M_Incomplete higher': 'Laborers',\n",
              " 'M_Lower secondary': 'Laborers',\n",
              " 'M_Secondary / secondary special': 'Laborers'}"
            ]
          },
          "metadata": {},
          "execution_count": 28
        }
      ]
    },
    {
      "cell_type": "code",
      "source": [
        "application_details['Tag'] = application_details['CODE_GENDER']+ '_' + application_details['NAME_EDUCATION_TYPE'] "
      ],
      "metadata": {
        "id": "I6BHFJghsfyf"
      },
      "execution_count": null,
      "outputs": []
    },
    {
      "cell_type": "code",
      "source": [
        "def Replace_nan_occupation(df): #define occupation yang NaN\n",
        "    for key in tag_dict:\n",
        "        if df['Tag'] == key and pd.isnull(df['OCCUPATION_TYPE']):\n",
        "            df['OCCUPATION_TYPE'] = tag_dict[key]\n",
        "    return df "
      ],
      "metadata": {
        "id": "geVNpsu6shVg"
      },
      "execution_count": null,
      "outputs": []
    },
    {
      "cell_type": "code",
      "source": [
        "len(application_details) #menghitung panjang application_details"
      ],
      "metadata": {
        "colab": {
          "base_uri": "https://localhost:8080/"
        },
        "id": "VBid4eadsipH",
        "outputId": "73104d55-6d7d-402d-9b66-41d7d39d3f37"
      },
      "execution_count": null,
      "outputs": [
        {
          "output_type": "execute_result",
          "data": {
            "text/plain": [
              "438557"
            ]
          },
          "metadata": {},
          "execution_count": 31
        }
      ]
    },
    {
      "cell_type": "code",
      "source": [
        "application_details = application_details.apply(Replace_nan_occupation, axis=1)\n",
        "#replace missing values dari df replace_nan_ossupation yang sudah dibuat"
      ],
      "metadata": {
        "id": "4NlhJfDsskIg"
      },
      "execution_count": null,
      "outputs": []
    },
    {
      "cell_type": "code",
      "source": [
        "len(application_details) #menghitung panjang application_details"
      ],
      "metadata": {
        "colab": {
          "base_uri": "https://localhost:8080/"
        },
        "id": "F5h0nT3Tsl5A",
        "outputId": "2872b610-0e47-476a-87b1-538f409ddd4d"
      },
      "execution_count": null,
      "outputs": [
        {
          "output_type": "execute_result",
          "data": {
            "text/plain": [
              "438557"
            ]
          },
          "metadata": {},
          "execution_count": 33
        }
      ]
    },
    {
      "cell_type": "code",
      "source": [
        "application_details.isnull().sum() #melihat missing values dari summary  appliaction_details "
      ],
      "metadata": {
        "colab": {
          "base_uri": "https://localhost:8080/"
        },
        "id": "g6RfFW04snVv",
        "outputId": "e70c6778-b899-4ad5-bdf9-f74e3f0cf3c7"
      },
      "execution_count": null,
      "outputs": [
        {
          "output_type": "execute_result",
          "data": {
            "text/plain": [
              "ID                     0\n",
              "CODE_GENDER            0\n",
              "FLAG_OWN_CAR           0\n",
              "FLAG_OWN_REALTY        0\n",
              "CNT_CHILDREN           0\n",
              "AMT_INCOME_TOTAL       0\n",
              "NAME_INCOME_TYPE       0\n",
              "NAME_EDUCATION_TYPE    0\n",
              "NAME_FAMILY_STATUS     0\n",
              "NAME_HOUSING_TYPE      0\n",
              "DAYS_BIRTH             0\n",
              "DAYS_EMPLOYED          0\n",
              "FLAG_MOBIL             0\n",
              "FLAG_WORK_PHONE        0\n",
              "FLAG_PHONE             0\n",
              "FLAG_EMAIL             0\n",
              "OCCUPATION_TYPE        0\n",
              "CNT_FAM_MEMBERS        0\n",
              "Tag                    0\n",
              "dtype: int64"
            ]
          },
          "metadata": {},
          "execution_count": 34
        }
      ]
    },
    {
      "cell_type": "markdown",
      "source": [
        "Converting Days format features to readable format"
      ],
      "metadata": {
        "id": "wFSO_X5Gspyn"
      }
    },
    {
      "cell_type": "code",
      "source": [
        "application_details['AGE'] = np.ceil(pd.to_timedelta(application_details['DAYS_BIRTH'], unit='D').dt.days / -365.25) #mengubah format days_birth"
      ],
      "metadata": {
        "id": "vLttPsG7stYz"
      },
      "execution_count": null,
      "outputs": []
    },
    {
      "cell_type": "code",
      "source": [
        "application_details['AGE']"
      ],
      "metadata": {
        "colab": {
          "base_uri": "https://localhost:8080/"
        },
        "id": "U_d1iIPqst5e",
        "outputId": "52ff947a-1f23-4f22-cbb9-7ecd4e2dc2c3"
      },
      "execution_count": null,
      "outputs": [
        {
          "output_type": "execute_result",
          "data": {
            "text/plain": [
              "0         33.0\n",
              "1         33.0\n",
              "2         59.0\n",
              "3         53.0\n",
              "4         53.0\n",
              "          ... \n",
              "438552    63.0\n",
              "438553    44.0\n",
              "438554    23.0\n",
              "438555    60.0\n",
              "438556    52.0\n",
              "Name: AGE, Length: 438557, dtype: float64"
            ]
          },
          "metadata": {},
          "execution_count": 36
        }
      ]
    },
    {
      "cell_type": "code",
      "source": [
        "application_details.drop('DAYS_BIRTH', axis=1, inplace=True)"
      ],
      "metadata": {
        "id": "MnVziWDfswUR"
      },
      "execution_count": null,
      "outputs": []
    },
    {
      "cell_type": "code",
      "source": [
        "application_details.loc[(application_details['DAYS_EMPLOYED'] > 0), 'DAYS_EMPLOYED'] = 0\n",
        "application_details['YEARS_EMPLOYED'] = np.ceil(pd.to_timedelta(application_details['DAYS_EMPLOYED'], unit='D').dt.days / -365.25) #mengubah format days_employed "
      ],
      "metadata": {
        "id": "QlnOw9m-swt2"
      },
      "execution_count": null,
      "outputs": []
    },
    {
      "cell_type": "code",
      "source": [
        "application_details['YEARS_EMPLOYED']"
      ],
      "metadata": {
        "colab": {
          "base_uri": "https://localhost:8080/"
        },
        "id": "d0u5tzhrs0AD",
        "outputId": "2c9f1661-6580-4133-b829-75ddde4ab79a"
      },
      "execution_count": null,
      "outputs": [
        {
          "output_type": "execute_result",
          "data": {
            "text/plain": [
              "0         13.0\n",
              "1         13.0\n",
              "2          4.0\n",
              "3          9.0\n",
              "4          9.0\n",
              "          ... \n",
              "438552    -0.0\n",
              "438553     9.0\n",
              "438554     2.0\n",
              "438555    -0.0\n",
              "438556     4.0\n",
              "Name: YEARS_EMPLOYED, Length: 438557, dtype: float64"
            ]
          },
          "metadata": {},
          "execution_count": 39
        }
      ]
    },
    {
      "cell_type": "code",
      "source": [
        "application_details.drop(['DAYS_EMPLOYED', 'Tag'], axis=1, inplace=True)"
      ],
      "metadata": {
        "id": "to_3IHvXs1Yq"
      },
      "execution_count": null,
      "outputs": []
    },
    {
      "cell_type": "code",
      "source": [
        "application_details.columns"
      ],
      "metadata": {
        "colab": {
          "base_uri": "https://localhost:8080/"
        },
        "id": "UEVUnyGis3eg",
        "outputId": "4cb7e058-ed70-49f9-852d-60755eecbc08"
      },
      "execution_count": null,
      "outputs": [
        {
          "output_type": "execute_result",
          "data": {
            "text/plain": [
              "Index(['ID', 'CODE_GENDER', 'FLAG_OWN_CAR', 'FLAG_OWN_REALTY', 'CNT_CHILDREN',\n",
              "       'AMT_INCOME_TOTAL', 'NAME_INCOME_TYPE', 'NAME_EDUCATION_TYPE',\n",
              "       'NAME_FAMILY_STATUS', 'NAME_HOUSING_TYPE', 'FLAG_MOBIL',\n",
              "       'FLAG_WORK_PHONE', 'FLAG_PHONE', 'FLAG_EMAIL', 'OCCUPATION_TYPE',\n",
              "       'CNT_FAM_MEMBERS', 'AGE', 'YEARS_EMPLOYED'],\n",
              "      dtype='object')"
            ]
          },
          "metadata": {},
          "execution_count": 41
        }
      ]
    },
    {
      "cell_type": "markdown",
      "source": [
        "Encoding Categorical Features to Numerical Values"
      ],
      "metadata": {
        "id": "Bh0Ery0ls7u6"
      }
    },
    {
      "cell_type": "code",
      "source": [
        "def Cat_to_Num(features): #Mengubah categorical menjadi numerical\n",
        "    for feature in features:\n",
        "        feature_list = list(np.unique(application_details[feature]))\n",
        "        feature_dict = {}\n",
        "        for i in range(len(feature_list)):\n",
        "                       feature_dict[feature_list[i]] = i\n",
        "        application_details.replace({feature : feature_dict}, inplace=True)\n",
        "        print(feature, '-->', feature_dict)"
      ],
      "metadata": {
        "id": "4w38hmofs46I"
      },
      "execution_count": null,
      "outputs": []
    },
    {
      "cell_type": "code",
      "source": [
        "categorical_features = ['CODE_GENDER', 'FLAG_OWN_CAR', 'FLAG_OWN_REALTY', 'NAME_INCOME_TYPE', 'NAME_FAMILY_STATUS', 'OCCUPATION_TYPE', 'NAME_HOUSING_TYPE', 'NAME_EDUCATION_TYPE']\n",
        "Cat_to_Num(categorical_features)"
      ],
      "metadata": {
        "colab": {
          "base_uri": "https://localhost:8080/"
        },
        "id": "WxZ7_5jts-Ui",
        "outputId": "c067cad6-afa5-48dc-df8f-1cc78e89b69c"
      },
      "execution_count": null,
      "outputs": [
        {
          "output_type": "stream",
          "name": "stdout",
          "text": [
            "CODE_GENDER --> {'F': 0, 'M': 1}\n",
            "FLAG_OWN_CAR --> {'N': 0, 'Y': 1}\n",
            "FLAG_OWN_REALTY --> {'N': 0, 'Y': 1}\n",
            "NAME_INCOME_TYPE --> {'Commercial associate': 0, 'Pensioner': 1, 'State servant': 2, 'Student': 3, 'Working': 4}\n",
            "NAME_FAMILY_STATUS --> {'Civil marriage': 0, 'Married': 1, 'Separated': 2, 'Single / not married': 3, 'Widow': 4}\n",
            "OCCUPATION_TYPE --> {'Accountants': 0, 'Cleaning staff': 1, 'Cooking staff': 2, 'Core staff': 3, 'Drivers': 4, 'HR staff': 5, 'High skill tech staff': 6, 'IT staff': 7, 'Laborers': 8, 'Low-skill Laborers': 9, 'Managers': 10, 'Medicine staff': 11, 'Private service staff': 12, 'Realty agents': 13, 'Sales staff': 14, 'Secretaries': 15, 'Security staff': 16, 'Waiters/barmen staff': 17}\n",
            "NAME_HOUSING_TYPE --> {'Co-op apartment': 0, 'House / apartment': 1, 'Municipal apartment': 2, 'Office apartment': 3, 'Rented apartment': 4, 'With parents': 5}\n",
            "NAME_EDUCATION_TYPE --> {'Academic degree': 0, 'Higher education': 1, 'Incomplete higher': 2, 'Lower secondary': 3, 'Secondary / secondary special': 4}\n"
          ]
        }
      ]
    },
    {
      "cell_type": "markdown",
      "source": [
        "Mengubah\n",
        "\n",
        "1.   Code Gender = female -> 0 , Male -> 1\n",
        "2.   Flag = No -> 0 , Yes -> 1\n",
        "3.   Name Income Type = Commercial associate -> 0 , pensioner -> 1 , State servant -> 2 , Student -> 3 , Working -> 4\n",
        "4.   Name Family Status = Civil Marriage -> 0 , ...\n",
        "5.   Occupation Type = Acountant -> 0 , Cleaning Staff -> 1 , Cooking Staff -> 2\n",
        "6.   Name Housing Type = Co-op apatment -> 0 , House/Apartement -> 1 , Municipal apartment -> 2\n",
        "7.   Name Education Type = Academic Degree -> 0 , Higher Education -> 1 , Incomplete Higher -> 2 , Lower Secondary -> 3 , Secondary -> 4\n"
      ],
      "metadata": {
        "id": "rZt2KJ1ZBgH0"
      }
    },
    {
      "cell_type": "code",
      "source": [
        "application_details.head(10) # melihat 10 data teratas dari application_details"
      ],
      "metadata": {
        "colab": {
          "base_uri": "https://localhost:8080/",
          "height": 427
        },
        "id": "x-OdLgoitAOX",
        "outputId": "0bbf69d9-6ce9-4bac-c43e-256e624bf7b3"
      },
      "execution_count": null,
      "outputs": [
        {
          "output_type": "execute_result",
          "data": {
            "text/plain": [
              "        ID  CODE_GENDER  FLAG_OWN_CAR  FLAG_OWN_REALTY  CNT_CHILDREN  \\\n",
              "0  5008804            1             1                1             0   \n",
              "1  5008805            1             1                1             0   \n",
              "2  5008806            1             1                1             0   \n",
              "3  5008808            0             0                1             0   \n",
              "4  5008809            0             0                1             0   \n",
              "5  5008810            0             0                1             0   \n",
              "6  5008811            0             0                1             0   \n",
              "7  5008812            0             0                1             0   \n",
              "8  5008813            0             0                1             0   \n",
              "9  5008814            0             0                1             0   \n",
              "\n",
              "   AMT_INCOME_TOTAL  NAME_INCOME_TYPE  NAME_EDUCATION_TYPE  \\\n",
              "0          427500.0                 4                    1   \n",
              "1          427500.0                 4                    1   \n",
              "2          112500.0                 4                    4   \n",
              "3          270000.0                 0                    4   \n",
              "4          270000.0                 0                    4   \n",
              "5          270000.0                 0                    4   \n",
              "6          270000.0                 0                    4   \n",
              "7          283500.0                 1                    1   \n",
              "8          283500.0                 1                    1   \n",
              "9          283500.0                 1                    1   \n",
              "\n",
              "   NAME_FAMILY_STATUS  NAME_HOUSING_TYPE  FLAG_MOBIL  FLAG_WORK_PHONE  \\\n",
              "0                   0                  4           1                1   \n",
              "1                   0                  4           1                1   \n",
              "2                   1                  1           1                0   \n",
              "3                   3                  1           1                0   \n",
              "4                   3                  1           1                0   \n",
              "5                   3                  1           1                0   \n",
              "6                   3                  1           1                0   \n",
              "7                   2                  1           1                0   \n",
              "8                   2                  1           1                0   \n",
              "9                   2                  1           1                0   \n",
              "\n",
              "   FLAG_PHONE  FLAG_EMAIL  OCCUPATION_TYPE  CNT_FAM_MEMBERS   AGE  \\\n",
              "0           0           0               10              2.0  33.0   \n",
              "1           0           0               10              2.0  33.0   \n",
              "2           0           0               16              2.0  59.0   \n",
              "3           1           1               14              1.0  53.0   \n",
              "4           1           1               14              1.0  53.0   \n",
              "5           1           1               14              1.0  53.0   \n",
              "6           1           1               14              1.0  53.0   \n",
              "7           0           0                3              1.0  62.0   \n",
              "8           0           0                3              1.0  62.0   \n",
              "9           0           0                3              1.0  62.0   \n",
              "\n",
              "   YEARS_EMPLOYED  \n",
              "0            13.0  \n",
              "1            13.0  \n",
              "2             4.0  \n",
              "3             9.0  \n",
              "4             9.0  \n",
              "5             9.0  \n",
              "6             9.0  \n",
              "7            -0.0  \n",
              "8            -0.0  \n",
              "9            -0.0  "
            ],
            "text/html": [
              "\n",
              "  <div id=\"df-ea9b1576-8eba-4ff4-8433-406167a6dfb8\">\n",
              "    <div class=\"colab-df-container\">\n",
              "      <div>\n",
              "<style scoped>\n",
              "    .dataframe tbody tr th:only-of-type {\n",
              "        vertical-align: middle;\n",
              "    }\n",
              "\n",
              "    .dataframe tbody tr th {\n",
              "        vertical-align: top;\n",
              "    }\n",
              "\n",
              "    .dataframe thead th {\n",
              "        text-align: right;\n",
              "    }\n",
              "</style>\n",
              "<table border=\"1\" class=\"dataframe\">\n",
              "  <thead>\n",
              "    <tr style=\"text-align: right;\">\n",
              "      <th></th>\n",
              "      <th>ID</th>\n",
              "      <th>CODE_GENDER</th>\n",
              "      <th>FLAG_OWN_CAR</th>\n",
              "      <th>FLAG_OWN_REALTY</th>\n",
              "      <th>CNT_CHILDREN</th>\n",
              "      <th>AMT_INCOME_TOTAL</th>\n",
              "      <th>NAME_INCOME_TYPE</th>\n",
              "      <th>NAME_EDUCATION_TYPE</th>\n",
              "      <th>NAME_FAMILY_STATUS</th>\n",
              "      <th>NAME_HOUSING_TYPE</th>\n",
              "      <th>FLAG_MOBIL</th>\n",
              "      <th>FLAG_WORK_PHONE</th>\n",
              "      <th>FLAG_PHONE</th>\n",
              "      <th>FLAG_EMAIL</th>\n",
              "      <th>OCCUPATION_TYPE</th>\n",
              "      <th>CNT_FAM_MEMBERS</th>\n",
              "      <th>AGE</th>\n",
              "      <th>YEARS_EMPLOYED</th>\n",
              "    </tr>\n",
              "  </thead>\n",
              "  <tbody>\n",
              "    <tr>\n",
              "      <th>0</th>\n",
              "      <td>5008804</td>\n",
              "      <td>1</td>\n",
              "      <td>1</td>\n",
              "      <td>1</td>\n",
              "      <td>0</td>\n",
              "      <td>427500.0</td>\n",
              "      <td>4</td>\n",
              "      <td>1</td>\n",
              "      <td>0</td>\n",
              "      <td>4</td>\n",
              "      <td>1</td>\n",
              "      <td>1</td>\n",
              "      <td>0</td>\n",
              "      <td>0</td>\n",
              "      <td>10</td>\n",
              "      <td>2.0</td>\n",
              "      <td>33.0</td>\n",
              "      <td>13.0</td>\n",
              "    </tr>\n",
              "    <tr>\n",
              "      <th>1</th>\n",
              "      <td>5008805</td>\n",
              "      <td>1</td>\n",
              "      <td>1</td>\n",
              "      <td>1</td>\n",
              "      <td>0</td>\n",
              "      <td>427500.0</td>\n",
              "      <td>4</td>\n",
              "      <td>1</td>\n",
              "      <td>0</td>\n",
              "      <td>4</td>\n",
              "      <td>1</td>\n",
              "      <td>1</td>\n",
              "      <td>0</td>\n",
              "      <td>0</td>\n",
              "      <td>10</td>\n",
              "      <td>2.0</td>\n",
              "      <td>33.0</td>\n",
              "      <td>13.0</td>\n",
              "    </tr>\n",
              "    <tr>\n",
              "      <th>2</th>\n",
              "      <td>5008806</td>\n",
              "      <td>1</td>\n",
              "      <td>1</td>\n",
              "      <td>1</td>\n",
              "      <td>0</td>\n",
              "      <td>112500.0</td>\n",
              "      <td>4</td>\n",
              "      <td>4</td>\n",
              "      <td>1</td>\n",
              "      <td>1</td>\n",
              "      <td>1</td>\n",
              "      <td>0</td>\n",
              "      <td>0</td>\n",
              "      <td>0</td>\n",
              "      <td>16</td>\n",
              "      <td>2.0</td>\n",
              "      <td>59.0</td>\n",
              "      <td>4.0</td>\n",
              "    </tr>\n",
              "    <tr>\n",
              "      <th>3</th>\n",
              "      <td>5008808</td>\n",
              "      <td>0</td>\n",
              "      <td>0</td>\n",
              "      <td>1</td>\n",
              "      <td>0</td>\n",
              "      <td>270000.0</td>\n",
              "      <td>0</td>\n",
              "      <td>4</td>\n",
              "      <td>3</td>\n",
              "      <td>1</td>\n",
              "      <td>1</td>\n",
              "      <td>0</td>\n",
              "      <td>1</td>\n",
              "      <td>1</td>\n",
              "      <td>14</td>\n",
              "      <td>1.0</td>\n",
              "      <td>53.0</td>\n",
              "      <td>9.0</td>\n",
              "    </tr>\n",
              "    <tr>\n",
              "      <th>4</th>\n",
              "      <td>5008809</td>\n",
              "      <td>0</td>\n",
              "      <td>0</td>\n",
              "      <td>1</td>\n",
              "      <td>0</td>\n",
              "      <td>270000.0</td>\n",
              "      <td>0</td>\n",
              "      <td>4</td>\n",
              "      <td>3</td>\n",
              "      <td>1</td>\n",
              "      <td>1</td>\n",
              "      <td>0</td>\n",
              "      <td>1</td>\n",
              "      <td>1</td>\n",
              "      <td>14</td>\n",
              "      <td>1.0</td>\n",
              "      <td>53.0</td>\n",
              "      <td>9.0</td>\n",
              "    </tr>\n",
              "    <tr>\n",
              "      <th>5</th>\n",
              "      <td>5008810</td>\n",
              "      <td>0</td>\n",
              "      <td>0</td>\n",
              "      <td>1</td>\n",
              "      <td>0</td>\n",
              "      <td>270000.0</td>\n",
              "      <td>0</td>\n",
              "      <td>4</td>\n",
              "      <td>3</td>\n",
              "      <td>1</td>\n",
              "      <td>1</td>\n",
              "      <td>0</td>\n",
              "      <td>1</td>\n",
              "      <td>1</td>\n",
              "      <td>14</td>\n",
              "      <td>1.0</td>\n",
              "      <td>53.0</td>\n",
              "      <td>9.0</td>\n",
              "    </tr>\n",
              "    <tr>\n",
              "      <th>6</th>\n",
              "      <td>5008811</td>\n",
              "      <td>0</td>\n",
              "      <td>0</td>\n",
              "      <td>1</td>\n",
              "      <td>0</td>\n",
              "      <td>270000.0</td>\n",
              "      <td>0</td>\n",
              "      <td>4</td>\n",
              "      <td>3</td>\n",
              "      <td>1</td>\n",
              "      <td>1</td>\n",
              "      <td>0</td>\n",
              "      <td>1</td>\n",
              "      <td>1</td>\n",
              "      <td>14</td>\n",
              "      <td>1.0</td>\n",
              "      <td>53.0</td>\n",
              "      <td>9.0</td>\n",
              "    </tr>\n",
              "    <tr>\n",
              "      <th>7</th>\n",
              "      <td>5008812</td>\n",
              "      <td>0</td>\n",
              "      <td>0</td>\n",
              "      <td>1</td>\n",
              "      <td>0</td>\n",
              "      <td>283500.0</td>\n",
              "      <td>1</td>\n",
              "      <td>1</td>\n",
              "      <td>2</td>\n",
              "      <td>1</td>\n",
              "      <td>1</td>\n",
              "      <td>0</td>\n",
              "      <td>0</td>\n",
              "      <td>0</td>\n",
              "      <td>3</td>\n",
              "      <td>1.0</td>\n",
              "      <td>62.0</td>\n",
              "      <td>-0.0</td>\n",
              "    </tr>\n",
              "    <tr>\n",
              "      <th>8</th>\n",
              "      <td>5008813</td>\n",
              "      <td>0</td>\n",
              "      <td>0</td>\n",
              "      <td>1</td>\n",
              "      <td>0</td>\n",
              "      <td>283500.0</td>\n",
              "      <td>1</td>\n",
              "      <td>1</td>\n",
              "      <td>2</td>\n",
              "      <td>1</td>\n",
              "      <td>1</td>\n",
              "      <td>0</td>\n",
              "      <td>0</td>\n",
              "      <td>0</td>\n",
              "      <td>3</td>\n",
              "      <td>1.0</td>\n",
              "      <td>62.0</td>\n",
              "      <td>-0.0</td>\n",
              "    </tr>\n",
              "    <tr>\n",
              "      <th>9</th>\n",
              "      <td>5008814</td>\n",
              "      <td>0</td>\n",
              "      <td>0</td>\n",
              "      <td>1</td>\n",
              "      <td>0</td>\n",
              "      <td>283500.0</td>\n",
              "      <td>1</td>\n",
              "      <td>1</td>\n",
              "      <td>2</td>\n",
              "      <td>1</td>\n",
              "      <td>1</td>\n",
              "      <td>0</td>\n",
              "      <td>0</td>\n",
              "      <td>0</td>\n",
              "      <td>3</td>\n",
              "      <td>1.0</td>\n",
              "      <td>62.0</td>\n",
              "      <td>-0.0</td>\n",
              "    </tr>\n",
              "  </tbody>\n",
              "</table>\n",
              "</div>\n",
              "      <button class=\"colab-df-convert\" onclick=\"convertToInteractive('df-ea9b1576-8eba-4ff4-8433-406167a6dfb8')\"\n",
              "              title=\"Convert this dataframe to an interactive table.\"\n",
              "              style=\"display:none;\">\n",
              "        \n",
              "  <svg xmlns=\"http://www.w3.org/2000/svg\" height=\"24px\"viewBox=\"0 0 24 24\"\n",
              "       width=\"24px\">\n",
              "    <path d=\"M0 0h24v24H0V0z\" fill=\"none\"/>\n",
              "    <path d=\"M18.56 5.44l.94 2.06.94-2.06 2.06-.94-2.06-.94-.94-2.06-.94 2.06-2.06.94zm-11 1L8.5 8.5l.94-2.06 2.06-.94-2.06-.94L8.5 2.5l-.94 2.06-2.06.94zm10 10l.94 2.06.94-2.06 2.06-.94-2.06-.94-.94-2.06-.94 2.06-2.06.94z\"/><path d=\"M17.41 7.96l-1.37-1.37c-.4-.4-.92-.59-1.43-.59-.52 0-1.04.2-1.43.59L10.3 9.45l-7.72 7.72c-.78.78-.78 2.05 0 2.83L4 21.41c.39.39.9.59 1.41.59.51 0 1.02-.2 1.41-.59l7.78-7.78 2.81-2.81c.8-.78.8-2.07 0-2.86zM5.41 20L4 18.59l7.72-7.72 1.47 1.35L5.41 20z\"/>\n",
              "  </svg>\n",
              "      </button>\n",
              "      \n",
              "  <style>\n",
              "    .colab-df-container {\n",
              "      display:flex;\n",
              "      flex-wrap:wrap;\n",
              "      gap: 12px;\n",
              "    }\n",
              "\n",
              "    .colab-df-convert {\n",
              "      background-color: #E8F0FE;\n",
              "      border: none;\n",
              "      border-radius: 50%;\n",
              "      cursor: pointer;\n",
              "      display: none;\n",
              "      fill: #1967D2;\n",
              "      height: 32px;\n",
              "      padding: 0 0 0 0;\n",
              "      width: 32px;\n",
              "    }\n",
              "\n",
              "    .colab-df-convert:hover {\n",
              "      background-color: #E2EBFA;\n",
              "      box-shadow: 0px 1px 2px rgba(60, 64, 67, 0.3), 0px 1px 3px 1px rgba(60, 64, 67, 0.15);\n",
              "      fill: #174EA6;\n",
              "    }\n",
              "\n",
              "    [theme=dark] .colab-df-convert {\n",
              "      background-color: #3B4455;\n",
              "      fill: #D2E3FC;\n",
              "    }\n",
              "\n",
              "    [theme=dark] .colab-df-convert:hover {\n",
              "      background-color: #434B5C;\n",
              "      box-shadow: 0px 1px 3px 1px rgba(0, 0, 0, 0.15);\n",
              "      filter: drop-shadow(0px 1px 2px rgba(0, 0, 0, 0.3));\n",
              "      fill: #FFFFFF;\n",
              "    }\n",
              "  </style>\n",
              "\n",
              "      <script>\n",
              "        const buttonEl =\n",
              "          document.querySelector('#df-ea9b1576-8eba-4ff4-8433-406167a6dfb8 button.colab-df-convert');\n",
              "        buttonEl.style.display =\n",
              "          google.colab.kernel.accessAllowed ? 'block' : 'none';\n",
              "\n",
              "        async function convertToInteractive(key) {\n",
              "          const element = document.querySelector('#df-ea9b1576-8eba-4ff4-8433-406167a6dfb8');\n",
              "          const dataTable =\n",
              "            await google.colab.kernel.invokeFunction('convertToInteractive',\n",
              "                                                     [key], {});\n",
              "          if (!dataTable) return;\n",
              "\n",
              "          const docLinkHtml = 'Like what you see? Visit the ' +\n",
              "            '<a target=\"_blank\" href=https://colab.research.google.com/notebooks/data_table.ipynb>data table notebook</a>'\n",
              "            + ' to learn more about interactive tables.';\n",
              "          element.innerHTML = '';\n",
              "          dataTable['output_type'] = 'display_data';\n",
              "          await google.colab.output.renderOutput(dataTable, element);\n",
              "          const docLink = document.createElement('div');\n",
              "          docLink.innerHTML = docLinkHtml;\n",
              "          element.appendChild(docLink);\n",
              "        }\n",
              "      </script>\n",
              "    </div>\n",
              "  </div>\n",
              "  "
            ]
          },
          "metadata": {},
          "execution_count": 44
        }
      ]
    },
    {
      "cell_type": "markdown",
      "source": [
        "#**Credit_record data/evaluation**\n",
        "\n",
        "\n",
        "---\n",
        "\n"
      ],
      "metadata": {
        "id": "pG4voInItCfN"
      }
    },
    {
      "cell_type": "code",
      "source": [
        "convert_to = {'C' : 'Good_Debt', 'X' : 'Good_Debt', '0' : 'Good_Debt', '1' : 'Neutral_Debt', '2' : 'Neutral_Debt', '3' : 'Bad_Debt', '4' : 'Bad_Debt', '5' : 'Bad_Debt'}\n",
        "credit_record.replace({'STATUS' : convert_to}, inplace=True) #mengubah status C,X,0,1,2,3,4 dan 5"
      ],
      "metadata": {
        "id": "_fxCrv2dtD4E"
      },
      "execution_count": null,
      "outputs": []
    },
    {
      "cell_type": "code",
      "source": [
        "credit_record #menampilkan credit_record "
      ],
      "metadata": {
        "colab": {
          "base_uri": "https://localhost:8080/",
          "height": 424
        },
        "id": "uya-MxZVtFl1",
        "outputId": "afe8e0e4-5b63-4805-e68c-009b8ec86422"
      },
      "execution_count": null,
      "outputs": [
        {
          "output_type": "execute_result",
          "data": {
            "text/plain": [
              "              ID  MONTHS_BALANCE     STATUS\n",
              "0        5001711               0  Good_Debt\n",
              "1        5001711              -1  Good_Debt\n",
              "2        5001711              -2  Good_Debt\n",
              "3        5001711              -3  Good_Debt\n",
              "4        5001712               0  Good_Debt\n",
              "...          ...             ...        ...\n",
              "1048570  5150487             -25  Good_Debt\n",
              "1048571  5150487             -26  Good_Debt\n",
              "1048572  5150487             -27  Good_Debt\n",
              "1048573  5150487             -28  Good_Debt\n",
              "1048574  5150487             -29  Good_Debt\n",
              "\n",
              "[1048575 rows x 3 columns]"
            ],
            "text/html": [
              "\n",
              "  <div id=\"df-40c5b6be-a254-4f3a-9217-9b3fd8450c58\">\n",
              "    <div class=\"colab-df-container\">\n",
              "      <div>\n",
              "<style scoped>\n",
              "    .dataframe tbody tr th:only-of-type {\n",
              "        vertical-align: middle;\n",
              "    }\n",
              "\n",
              "    .dataframe tbody tr th {\n",
              "        vertical-align: top;\n",
              "    }\n",
              "\n",
              "    .dataframe thead th {\n",
              "        text-align: right;\n",
              "    }\n",
              "</style>\n",
              "<table border=\"1\" class=\"dataframe\">\n",
              "  <thead>\n",
              "    <tr style=\"text-align: right;\">\n",
              "      <th></th>\n",
              "      <th>ID</th>\n",
              "      <th>MONTHS_BALANCE</th>\n",
              "      <th>STATUS</th>\n",
              "    </tr>\n",
              "  </thead>\n",
              "  <tbody>\n",
              "    <tr>\n",
              "      <th>0</th>\n",
              "      <td>5001711</td>\n",
              "      <td>0</td>\n",
              "      <td>Good_Debt</td>\n",
              "    </tr>\n",
              "    <tr>\n",
              "      <th>1</th>\n",
              "      <td>5001711</td>\n",
              "      <td>-1</td>\n",
              "      <td>Good_Debt</td>\n",
              "    </tr>\n",
              "    <tr>\n",
              "      <th>2</th>\n",
              "      <td>5001711</td>\n",
              "      <td>-2</td>\n",
              "      <td>Good_Debt</td>\n",
              "    </tr>\n",
              "    <tr>\n",
              "      <th>3</th>\n",
              "      <td>5001711</td>\n",
              "      <td>-3</td>\n",
              "      <td>Good_Debt</td>\n",
              "    </tr>\n",
              "    <tr>\n",
              "      <th>4</th>\n",
              "      <td>5001712</td>\n",
              "      <td>0</td>\n",
              "      <td>Good_Debt</td>\n",
              "    </tr>\n",
              "    <tr>\n",
              "      <th>...</th>\n",
              "      <td>...</td>\n",
              "      <td>...</td>\n",
              "      <td>...</td>\n",
              "    </tr>\n",
              "    <tr>\n",
              "      <th>1048570</th>\n",
              "      <td>5150487</td>\n",
              "      <td>-25</td>\n",
              "      <td>Good_Debt</td>\n",
              "    </tr>\n",
              "    <tr>\n",
              "      <th>1048571</th>\n",
              "      <td>5150487</td>\n",
              "      <td>-26</td>\n",
              "      <td>Good_Debt</td>\n",
              "    </tr>\n",
              "    <tr>\n",
              "      <th>1048572</th>\n",
              "      <td>5150487</td>\n",
              "      <td>-27</td>\n",
              "      <td>Good_Debt</td>\n",
              "    </tr>\n",
              "    <tr>\n",
              "      <th>1048573</th>\n",
              "      <td>5150487</td>\n",
              "      <td>-28</td>\n",
              "      <td>Good_Debt</td>\n",
              "    </tr>\n",
              "    <tr>\n",
              "      <th>1048574</th>\n",
              "      <td>5150487</td>\n",
              "      <td>-29</td>\n",
              "      <td>Good_Debt</td>\n",
              "    </tr>\n",
              "  </tbody>\n",
              "</table>\n",
              "<p>1048575 rows × 3 columns</p>\n",
              "</div>\n",
              "      <button class=\"colab-df-convert\" onclick=\"convertToInteractive('df-40c5b6be-a254-4f3a-9217-9b3fd8450c58')\"\n",
              "              title=\"Convert this dataframe to an interactive table.\"\n",
              "              style=\"display:none;\">\n",
              "        \n",
              "  <svg xmlns=\"http://www.w3.org/2000/svg\" height=\"24px\"viewBox=\"0 0 24 24\"\n",
              "       width=\"24px\">\n",
              "    <path d=\"M0 0h24v24H0V0z\" fill=\"none\"/>\n",
              "    <path d=\"M18.56 5.44l.94 2.06.94-2.06 2.06-.94-2.06-.94-.94-2.06-.94 2.06-2.06.94zm-11 1L8.5 8.5l.94-2.06 2.06-.94-2.06-.94L8.5 2.5l-.94 2.06-2.06.94zm10 10l.94 2.06.94-2.06 2.06-.94-2.06-.94-.94-2.06-.94 2.06-2.06.94z\"/><path d=\"M17.41 7.96l-1.37-1.37c-.4-.4-.92-.59-1.43-.59-.52 0-1.04.2-1.43.59L10.3 9.45l-7.72 7.72c-.78.78-.78 2.05 0 2.83L4 21.41c.39.39.9.59 1.41.59.51 0 1.02-.2 1.41-.59l7.78-7.78 2.81-2.81c.8-.78.8-2.07 0-2.86zM5.41 20L4 18.59l7.72-7.72 1.47 1.35L5.41 20z\"/>\n",
              "  </svg>\n",
              "      </button>\n",
              "      \n",
              "  <style>\n",
              "    .colab-df-container {\n",
              "      display:flex;\n",
              "      flex-wrap:wrap;\n",
              "      gap: 12px;\n",
              "    }\n",
              "\n",
              "    .colab-df-convert {\n",
              "      background-color: #E8F0FE;\n",
              "      border: none;\n",
              "      border-radius: 50%;\n",
              "      cursor: pointer;\n",
              "      display: none;\n",
              "      fill: #1967D2;\n",
              "      height: 32px;\n",
              "      padding: 0 0 0 0;\n",
              "      width: 32px;\n",
              "    }\n",
              "\n",
              "    .colab-df-convert:hover {\n",
              "      background-color: #E2EBFA;\n",
              "      box-shadow: 0px 1px 2px rgba(60, 64, 67, 0.3), 0px 1px 3px 1px rgba(60, 64, 67, 0.15);\n",
              "      fill: #174EA6;\n",
              "    }\n",
              "\n",
              "    [theme=dark] .colab-df-convert {\n",
              "      background-color: #3B4455;\n",
              "      fill: #D2E3FC;\n",
              "    }\n",
              "\n",
              "    [theme=dark] .colab-df-convert:hover {\n",
              "      background-color: #434B5C;\n",
              "      box-shadow: 0px 1px 3px 1px rgba(0, 0, 0, 0.15);\n",
              "      filter: drop-shadow(0px 1px 2px rgba(0, 0, 0, 0.3));\n",
              "      fill: #FFFFFF;\n",
              "    }\n",
              "  </style>\n",
              "\n",
              "      <script>\n",
              "        const buttonEl =\n",
              "          document.querySelector('#df-40c5b6be-a254-4f3a-9217-9b3fd8450c58 button.colab-df-convert');\n",
              "        buttonEl.style.display =\n",
              "          google.colab.kernel.accessAllowed ? 'block' : 'none';\n",
              "\n",
              "        async function convertToInteractive(key) {\n",
              "          const element = document.querySelector('#df-40c5b6be-a254-4f3a-9217-9b3fd8450c58');\n",
              "          const dataTable =\n",
              "            await google.colab.kernel.invokeFunction('convertToInteractive',\n",
              "                                                     [key], {});\n",
              "          if (!dataTable) return;\n",
              "\n",
              "          const docLinkHtml = 'Like what you see? Visit the ' +\n",
              "            '<a target=\"_blank\" href=https://colab.research.google.com/notebooks/data_table.ipynb>data table notebook</a>'\n",
              "            + ' to learn more about interactive tables.';\n",
              "          element.innerHTML = '';\n",
              "          dataTable['output_type'] = 'display_data';\n",
              "          await google.colab.output.renderOutput(dataTable, element);\n",
              "          const docLink = document.createElement('div');\n",
              "          docLink.innerHTML = docLinkHtml;\n",
              "          element.appendChild(docLink);\n",
              "        }\n",
              "      </script>\n",
              "    </div>\n",
              "  </div>\n",
              "  "
            ]
          },
          "metadata": {},
          "execution_count": 46
        }
      ]
    },
    {
      "cell_type": "markdown",
      "source": [
        "Counting the number of debts"
      ],
      "metadata": {
        "id": "CEaNRwBqtIO9"
      }
    },
    {
      "cell_type": "code",
      "source": [
        "credit_record = credit_record.value_counts(subset=['ID', 'STATUS']).unstack(fill_value=0) # subset id dan status"
      ],
      "metadata": {
        "id": "OpyM_K7XtKC1"
      },
      "execution_count": null,
      "outputs": []
    },
    {
      "cell_type": "code",
      "source": [
        "credit_record #menampilkan credit_record "
      ],
      "metadata": {
        "colab": {
          "base_uri": "https://localhost:8080/",
          "height": 455
        },
        "id": "eHIKe-odtLQn",
        "outputId": "c0e3891f-96e9-4b12-d317-4faf47d4eb72"
      },
      "execution_count": null,
      "outputs": [
        {
          "output_type": "execute_result",
          "data": {
            "text/plain": [
              "STATUS   Bad_Debt  Good_Debt  Neutral_Debt\n",
              "ID                                        \n",
              "5001711         0          4             0\n",
              "5001712         0         19             0\n",
              "5001713         0         22             0\n",
              "5001714         0         15             0\n",
              "5001715         0         60             0\n",
              "...           ...        ...           ...\n",
              "5150482         0         18             0\n",
              "5150483         0         18             0\n",
              "5150484         0         13             0\n",
              "5150485         0          2             0\n",
              "5150487         0         30             0\n",
              "\n",
              "[45985 rows x 3 columns]"
            ],
            "text/html": [
              "\n",
              "  <div id=\"df-d0dbe4fa-44bf-495c-a231-b26b776cc1af\">\n",
              "    <div class=\"colab-df-container\">\n",
              "      <div>\n",
              "<style scoped>\n",
              "    .dataframe tbody tr th:only-of-type {\n",
              "        vertical-align: middle;\n",
              "    }\n",
              "\n",
              "    .dataframe tbody tr th {\n",
              "        vertical-align: top;\n",
              "    }\n",
              "\n",
              "    .dataframe thead th {\n",
              "        text-align: right;\n",
              "    }\n",
              "</style>\n",
              "<table border=\"1\" class=\"dataframe\">\n",
              "  <thead>\n",
              "    <tr style=\"text-align: right;\">\n",
              "      <th>STATUS</th>\n",
              "      <th>Bad_Debt</th>\n",
              "      <th>Good_Debt</th>\n",
              "      <th>Neutral_Debt</th>\n",
              "    </tr>\n",
              "    <tr>\n",
              "      <th>ID</th>\n",
              "      <th></th>\n",
              "      <th></th>\n",
              "      <th></th>\n",
              "    </tr>\n",
              "  </thead>\n",
              "  <tbody>\n",
              "    <tr>\n",
              "      <th>5001711</th>\n",
              "      <td>0</td>\n",
              "      <td>4</td>\n",
              "      <td>0</td>\n",
              "    </tr>\n",
              "    <tr>\n",
              "      <th>5001712</th>\n",
              "      <td>0</td>\n",
              "      <td>19</td>\n",
              "      <td>0</td>\n",
              "    </tr>\n",
              "    <tr>\n",
              "      <th>5001713</th>\n",
              "      <td>0</td>\n",
              "      <td>22</td>\n",
              "      <td>0</td>\n",
              "    </tr>\n",
              "    <tr>\n",
              "      <th>5001714</th>\n",
              "      <td>0</td>\n",
              "      <td>15</td>\n",
              "      <td>0</td>\n",
              "    </tr>\n",
              "    <tr>\n",
              "      <th>5001715</th>\n",
              "      <td>0</td>\n",
              "      <td>60</td>\n",
              "      <td>0</td>\n",
              "    </tr>\n",
              "    <tr>\n",
              "      <th>...</th>\n",
              "      <td>...</td>\n",
              "      <td>...</td>\n",
              "      <td>...</td>\n",
              "    </tr>\n",
              "    <tr>\n",
              "      <th>5150482</th>\n",
              "      <td>0</td>\n",
              "      <td>18</td>\n",
              "      <td>0</td>\n",
              "    </tr>\n",
              "    <tr>\n",
              "      <th>5150483</th>\n",
              "      <td>0</td>\n",
              "      <td>18</td>\n",
              "      <td>0</td>\n",
              "    </tr>\n",
              "    <tr>\n",
              "      <th>5150484</th>\n",
              "      <td>0</td>\n",
              "      <td>13</td>\n",
              "      <td>0</td>\n",
              "    </tr>\n",
              "    <tr>\n",
              "      <th>5150485</th>\n",
              "      <td>0</td>\n",
              "      <td>2</td>\n",
              "      <td>0</td>\n",
              "    </tr>\n",
              "    <tr>\n",
              "      <th>5150487</th>\n",
              "      <td>0</td>\n",
              "      <td>30</td>\n",
              "      <td>0</td>\n",
              "    </tr>\n",
              "  </tbody>\n",
              "</table>\n",
              "<p>45985 rows × 3 columns</p>\n",
              "</div>\n",
              "      <button class=\"colab-df-convert\" onclick=\"convertToInteractive('df-d0dbe4fa-44bf-495c-a231-b26b776cc1af')\"\n",
              "              title=\"Convert this dataframe to an interactive table.\"\n",
              "              style=\"display:none;\">\n",
              "        \n",
              "  <svg xmlns=\"http://www.w3.org/2000/svg\" height=\"24px\"viewBox=\"0 0 24 24\"\n",
              "       width=\"24px\">\n",
              "    <path d=\"M0 0h24v24H0V0z\" fill=\"none\"/>\n",
              "    <path d=\"M18.56 5.44l.94 2.06.94-2.06 2.06-.94-2.06-.94-.94-2.06-.94 2.06-2.06.94zm-11 1L8.5 8.5l.94-2.06 2.06-.94-2.06-.94L8.5 2.5l-.94 2.06-2.06.94zm10 10l.94 2.06.94-2.06 2.06-.94-2.06-.94-.94-2.06-.94 2.06-2.06.94z\"/><path d=\"M17.41 7.96l-1.37-1.37c-.4-.4-.92-.59-1.43-.59-.52 0-1.04.2-1.43.59L10.3 9.45l-7.72 7.72c-.78.78-.78 2.05 0 2.83L4 21.41c.39.39.9.59 1.41.59.51 0 1.02-.2 1.41-.59l7.78-7.78 2.81-2.81c.8-.78.8-2.07 0-2.86zM5.41 20L4 18.59l7.72-7.72 1.47 1.35L5.41 20z\"/>\n",
              "  </svg>\n",
              "      </button>\n",
              "      \n",
              "  <style>\n",
              "    .colab-df-container {\n",
              "      display:flex;\n",
              "      flex-wrap:wrap;\n",
              "      gap: 12px;\n",
              "    }\n",
              "\n",
              "    .colab-df-convert {\n",
              "      background-color: #E8F0FE;\n",
              "      border: none;\n",
              "      border-radius: 50%;\n",
              "      cursor: pointer;\n",
              "      display: none;\n",
              "      fill: #1967D2;\n",
              "      height: 32px;\n",
              "      padding: 0 0 0 0;\n",
              "      width: 32px;\n",
              "    }\n",
              "\n",
              "    .colab-df-convert:hover {\n",
              "      background-color: #E2EBFA;\n",
              "      box-shadow: 0px 1px 2px rgba(60, 64, 67, 0.3), 0px 1px 3px 1px rgba(60, 64, 67, 0.15);\n",
              "      fill: #174EA6;\n",
              "    }\n",
              "\n",
              "    [theme=dark] .colab-df-convert {\n",
              "      background-color: #3B4455;\n",
              "      fill: #D2E3FC;\n",
              "    }\n",
              "\n",
              "    [theme=dark] .colab-df-convert:hover {\n",
              "      background-color: #434B5C;\n",
              "      box-shadow: 0px 1px 3px 1px rgba(0, 0, 0, 0.15);\n",
              "      filter: drop-shadow(0px 1px 2px rgba(0, 0, 0, 0.3));\n",
              "      fill: #FFFFFF;\n",
              "    }\n",
              "  </style>\n",
              "\n",
              "      <script>\n",
              "        const buttonEl =\n",
              "          document.querySelector('#df-d0dbe4fa-44bf-495c-a231-b26b776cc1af button.colab-df-convert');\n",
              "        buttonEl.style.display =\n",
              "          google.colab.kernel.accessAllowed ? 'block' : 'none';\n",
              "\n",
              "        async function convertToInteractive(key) {\n",
              "          const element = document.querySelector('#df-d0dbe4fa-44bf-495c-a231-b26b776cc1af');\n",
              "          const dataTable =\n",
              "            await google.colab.kernel.invokeFunction('convertToInteractive',\n",
              "                                                     [key], {});\n",
              "          if (!dataTable) return;\n",
              "\n",
              "          const docLinkHtml = 'Like what you see? Visit the ' +\n",
              "            '<a target=\"_blank\" href=https://colab.research.google.com/notebooks/data_table.ipynb>data table notebook</a>'\n",
              "            + ' to learn more about interactive tables.';\n",
              "          element.innerHTML = '';\n",
              "          dataTable['output_type'] = 'display_data';\n",
              "          await google.colab.output.renderOutput(dataTable, element);\n",
              "          const docLink = document.createElement('div');\n",
              "          docLink.innerHTML = docLinkHtml;\n",
              "          element.appendChild(docLink);\n",
              "        }\n",
              "      </script>\n",
              "    </div>\n",
              "  </div>\n",
              "  "
            ]
          },
          "metadata": {},
          "execution_count": 48
        }
      ]
    },
    {
      "cell_type": "markdown",
      "source": [
        "Creating Credit Approval Status"
      ],
      "metadata": {
        "id": "Xu935EVftNai"
      }
    },
    {
      "cell_type": "code",
      "source": [
        "#membuat creidt approval status dengan memberikan penomoran \n",
        "credit_record.loc[(credit_record['Good_Debt'] > credit_record['Neutral_Debt']), 'CREDIT_APPROVAL_STATUS'] = 1 # jika  'good debt' lebih besar dari 'neutral debt' maka status credit approval = 1\n",
        "credit_record.loc[(credit_record['Good_Debt'] > credit_record['Bad_Debt']), 'CREDIT_APPROVAL_STATUS'] = 1 #jika..\n",
        "credit_record.loc[(credit_record['Neutral_Debt'] > credit_record['Good_Debt']), 'CREDIT_APPROVAL_STATUS'] = 0 #jika...\n",
        "credit_record.loc[(credit_record['Neutral_Debt'] > credit_record['Bad_Debt']), 'CREDIT_APPROVAL_STATUS'] = 1\n",
        "credit_record.loc[(credit_record['Bad_Debt'] > credit_record['Good_Debt']), 'CREDIT_APPROVAL_STATUS'] = 0\n",
        "credit_record.loc[(credit_record['Bad_Debt'] > credit_record['Neutral_Debt']), 'CREDIT_APPROVAL_STATUS'] = 0"
      ],
      "metadata": {
        "id": "HKTsguRTtOb9"
      },
      "execution_count": null,
      "outputs": []
    },
    {
      "cell_type": "code",
      "source": [
        "credit_record #menampilkan credit record yang sudah ditambahkan status approval"
      ],
      "metadata": {
        "colab": {
          "base_uri": "https://localhost:8080/",
          "height": 455
        },
        "id": "OfllZnwetRRg",
        "outputId": "463945c9-be22-44b4-bd52-cd9e6ac4177a"
      },
      "execution_count": null,
      "outputs": [
        {
          "output_type": "execute_result",
          "data": {
            "text/plain": [
              "STATUS   Bad_Debt  Good_Debt  Neutral_Debt  CREDIT_APPROVAL_STATUS\n",
              "ID                                                                \n",
              "5001711         0          4             0                     1.0\n",
              "5001712         0         19             0                     1.0\n",
              "5001713         0         22             0                     1.0\n",
              "5001714         0         15             0                     1.0\n",
              "5001715         0         60             0                     1.0\n",
              "...           ...        ...           ...                     ...\n",
              "5150482         0         18             0                     1.0\n",
              "5150483         0         18             0                     1.0\n",
              "5150484         0         13             0                     1.0\n",
              "5150485         0          2             0                     1.0\n",
              "5150487         0         30             0                     1.0\n",
              "\n",
              "[45985 rows x 4 columns]"
            ],
            "text/html": [
              "\n",
              "  <div id=\"df-5927ad3c-3b53-4cca-8e3a-c2a68a07b424\">\n",
              "    <div class=\"colab-df-container\">\n",
              "      <div>\n",
              "<style scoped>\n",
              "    .dataframe tbody tr th:only-of-type {\n",
              "        vertical-align: middle;\n",
              "    }\n",
              "\n",
              "    .dataframe tbody tr th {\n",
              "        vertical-align: top;\n",
              "    }\n",
              "\n",
              "    .dataframe thead th {\n",
              "        text-align: right;\n",
              "    }\n",
              "</style>\n",
              "<table border=\"1\" class=\"dataframe\">\n",
              "  <thead>\n",
              "    <tr style=\"text-align: right;\">\n",
              "      <th>STATUS</th>\n",
              "      <th>Bad_Debt</th>\n",
              "      <th>Good_Debt</th>\n",
              "      <th>Neutral_Debt</th>\n",
              "      <th>CREDIT_APPROVAL_STATUS</th>\n",
              "    </tr>\n",
              "    <tr>\n",
              "      <th>ID</th>\n",
              "      <th></th>\n",
              "      <th></th>\n",
              "      <th></th>\n",
              "      <th></th>\n",
              "    </tr>\n",
              "  </thead>\n",
              "  <tbody>\n",
              "    <tr>\n",
              "      <th>5001711</th>\n",
              "      <td>0</td>\n",
              "      <td>4</td>\n",
              "      <td>0</td>\n",
              "      <td>1.0</td>\n",
              "    </tr>\n",
              "    <tr>\n",
              "      <th>5001712</th>\n",
              "      <td>0</td>\n",
              "      <td>19</td>\n",
              "      <td>0</td>\n",
              "      <td>1.0</td>\n",
              "    </tr>\n",
              "    <tr>\n",
              "      <th>5001713</th>\n",
              "      <td>0</td>\n",
              "      <td>22</td>\n",
              "      <td>0</td>\n",
              "      <td>1.0</td>\n",
              "    </tr>\n",
              "    <tr>\n",
              "      <th>5001714</th>\n",
              "      <td>0</td>\n",
              "      <td>15</td>\n",
              "      <td>0</td>\n",
              "      <td>1.0</td>\n",
              "    </tr>\n",
              "    <tr>\n",
              "      <th>5001715</th>\n",
              "      <td>0</td>\n",
              "      <td>60</td>\n",
              "      <td>0</td>\n",
              "      <td>1.0</td>\n",
              "    </tr>\n",
              "    <tr>\n",
              "      <th>...</th>\n",
              "      <td>...</td>\n",
              "      <td>...</td>\n",
              "      <td>...</td>\n",
              "      <td>...</td>\n",
              "    </tr>\n",
              "    <tr>\n",
              "      <th>5150482</th>\n",
              "      <td>0</td>\n",
              "      <td>18</td>\n",
              "      <td>0</td>\n",
              "      <td>1.0</td>\n",
              "    </tr>\n",
              "    <tr>\n",
              "      <th>5150483</th>\n",
              "      <td>0</td>\n",
              "      <td>18</td>\n",
              "      <td>0</td>\n",
              "      <td>1.0</td>\n",
              "    </tr>\n",
              "    <tr>\n",
              "      <th>5150484</th>\n",
              "      <td>0</td>\n",
              "      <td>13</td>\n",
              "      <td>0</td>\n",
              "      <td>1.0</td>\n",
              "    </tr>\n",
              "    <tr>\n",
              "      <th>5150485</th>\n",
              "      <td>0</td>\n",
              "      <td>2</td>\n",
              "      <td>0</td>\n",
              "      <td>1.0</td>\n",
              "    </tr>\n",
              "    <tr>\n",
              "      <th>5150487</th>\n",
              "      <td>0</td>\n",
              "      <td>30</td>\n",
              "      <td>0</td>\n",
              "      <td>1.0</td>\n",
              "    </tr>\n",
              "  </tbody>\n",
              "</table>\n",
              "<p>45985 rows × 4 columns</p>\n",
              "</div>\n",
              "      <button class=\"colab-df-convert\" onclick=\"convertToInteractive('df-5927ad3c-3b53-4cca-8e3a-c2a68a07b424')\"\n",
              "              title=\"Convert this dataframe to an interactive table.\"\n",
              "              style=\"display:none;\">\n",
              "        \n",
              "  <svg xmlns=\"http://www.w3.org/2000/svg\" height=\"24px\"viewBox=\"0 0 24 24\"\n",
              "       width=\"24px\">\n",
              "    <path d=\"M0 0h24v24H0V0z\" fill=\"none\"/>\n",
              "    <path d=\"M18.56 5.44l.94 2.06.94-2.06 2.06-.94-2.06-.94-.94-2.06-.94 2.06-2.06.94zm-11 1L8.5 8.5l.94-2.06 2.06-.94-2.06-.94L8.5 2.5l-.94 2.06-2.06.94zm10 10l.94 2.06.94-2.06 2.06-.94-2.06-.94-.94-2.06-.94 2.06-2.06.94z\"/><path d=\"M17.41 7.96l-1.37-1.37c-.4-.4-.92-.59-1.43-.59-.52 0-1.04.2-1.43.59L10.3 9.45l-7.72 7.72c-.78.78-.78 2.05 0 2.83L4 21.41c.39.39.9.59 1.41.59.51 0 1.02-.2 1.41-.59l7.78-7.78 2.81-2.81c.8-.78.8-2.07 0-2.86zM5.41 20L4 18.59l7.72-7.72 1.47 1.35L5.41 20z\"/>\n",
              "  </svg>\n",
              "      </button>\n",
              "      \n",
              "  <style>\n",
              "    .colab-df-container {\n",
              "      display:flex;\n",
              "      flex-wrap:wrap;\n",
              "      gap: 12px;\n",
              "    }\n",
              "\n",
              "    .colab-df-convert {\n",
              "      background-color: #E8F0FE;\n",
              "      border: none;\n",
              "      border-radius: 50%;\n",
              "      cursor: pointer;\n",
              "      display: none;\n",
              "      fill: #1967D2;\n",
              "      height: 32px;\n",
              "      padding: 0 0 0 0;\n",
              "      width: 32px;\n",
              "    }\n",
              "\n",
              "    .colab-df-convert:hover {\n",
              "      background-color: #E2EBFA;\n",
              "      box-shadow: 0px 1px 2px rgba(60, 64, 67, 0.3), 0px 1px 3px 1px rgba(60, 64, 67, 0.15);\n",
              "      fill: #174EA6;\n",
              "    }\n",
              "\n",
              "    [theme=dark] .colab-df-convert {\n",
              "      background-color: #3B4455;\n",
              "      fill: #D2E3FC;\n",
              "    }\n",
              "\n",
              "    [theme=dark] .colab-df-convert:hover {\n",
              "      background-color: #434B5C;\n",
              "      box-shadow: 0px 1px 3px 1px rgba(0, 0, 0, 0.15);\n",
              "      filter: drop-shadow(0px 1px 2px rgba(0, 0, 0, 0.3));\n",
              "      fill: #FFFFFF;\n",
              "    }\n",
              "  </style>\n",
              "\n",
              "      <script>\n",
              "        const buttonEl =\n",
              "          document.querySelector('#df-5927ad3c-3b53-4cca-8e3a-c2a68a07b424 button.colab-df-convert');\n",
              "        buttonEl.style.display =\n",
              "          google.colab.kernel.accessAllowed ? 'block' : 'none';\n",
              "\n",
              "        async function convertToInteractive(key) {\n",
              "          const element = document.querySelector('#df-5927ad3c-3b53-4cca-8e3a-c2a68a07b424');\n",
              "          const dataTable =\n",
              "            await google.colab.kernel.invokeFunction('convertToInteractive',\n",
              "                                                     [key], {});\n",
              "          if (!dataTable) return;\n",
              "\n",
              "          const docLinkHtml = 'Like what you see? Visit the ' +\n",
              "            '<a target=\"_blank\" href=https://colab.research.google.com/notebooks/data_table.ipynb>data table notebook</a>'\n",
              "            + ' to learn more about interactive tables.';\n",
              "          element.innerHTML = '';\n",
              "          dataTable['output_type'] = 'display_data';\n",
              "          await google.colab.output.renderOutput(dataTable, element);\n",
              "          const docLink = document.createElement('div');\n",
              "          docLink.innerHTML = docLinkHtml;\n",
              "          element.appendChild(docLink);\n",
              "        }\n",
              "      </script>\n",
              "    </div>\n",
              "  </div>\n",
              "  "
            ]
          },
          "metadata": {},
          "execution_count": 50
        }
      ]
    },
    {
      "cell_type": "markdown",
      "source": [
        "--**Insight**--\n",
        "didapat status approval dari setiap ID nya\n",
        "\n",
        "credit approval status untuk 1 = di approve \n",
        ", \n",
        "credit approval status untuk 0 = tidak di approve  "
      ],
      "metadata": {
        "id": "NlKSYcMSWjnm"
      }
    },
    {
      "cell_type": "code",
      "source": [
        "np.unique(credit_record['CREDIT_APPROVAL_STATUS']) #package numpy"
      ],
      "metadata": {
        "id": "mLL88nhLtSyO",
        "colab": {
          "base_uri": "https://localhost:8080/"
        },
        "outputId": "62466e16-bf2b-43aa-b413-d225e4f16114"
      },
      "execution_count": null,
      "outputs": [
        {
          "output_type": "execute_result",
          "data": {
            "text/plain": [
              "array([0., 1.])"
            ]
          },
          "metadata": {},
          "execution_count": 51
        }
      ]
    },
    {
      "cell_type": "code",
      "source": [
        "credit_record['CREDIT_APPROVAL_STATUS'] = credit_record['CREDIT_APPROVAL_STATUS'].astype('int') # menjadikan tipe data integer"
      ],
      "metadata": {
        "id": "eMgscz6WtUe8"
      },
      "execution_count": null,
      "outputs": []
    },
    {
      "cell_type": "code",
      "source": [
        "credit_record"
      ],
      "metadata": {
        "colab": {
          "base_uri": "https://localhost:8080/",
          "height": 455
        },
        "id": "s1IOK11etWr3",
        "outputId": "e2755e17-2561-4f7d-d380-a148d1e60fc8"
      },
      "execution_count": null,
      "outputs": [
        {
          "output_type": "execute_result",
          "data": {
            "text/plain": [
              "STATUS   Bad_Debt  Good_Debt  Neutral_Debt  CREDIT_APPROVAL_STATUS\n",
              "ID                                                                \n",
              "5001711         0          4             0                       1\n",
              "5001712         0         19             0                       1\n",
              "5001713         0         22             0                       1\n",
              "5001714         0         15             0                       1\n",
              "5001715         0         60             0                       1\n",
              "...           ...        ...           ...                     ...\n",
              "5150482         0         18             0                       1\n",
              "5150483         0         18             0                       1\n",
              "5150484         0         13             0                       1\n",
              "5150485         0          2             0                       1\n",
              "5150487         0         30             0                       1\n",
              "\n",
              "[45985 rows x 4 columns]"
            ],
            "text/html": [
              "\n",
              "  <div id=\"df-6059d96b-583f-41ed-b28e-fd84a9a810a6\">\n",
              "    <div class=\"colab-df-container\">\n",
              "      <div>\n",
              "<style scoped>\n",
              "    .dataframe tbody tr th:only-of-type {\n",
              "        vertical-align: middle;\n",
              "    }\n",
              "\n",
              "    .dataframe tbody tr th {\n",
              "        vertical-align: top;\n",
              "    }\n",
              "\n",
              "    .dataframe thead th {\n",
              "        text-align: right;\n",
              "    }\n",
              "</style>\n",
              "<table border=\"1\" class=\"dataframe\">\n",
              "  <thead>\n",
              "    <tr style=\"text-align: right;\">\n",
              "      <th>STATUS</th>\n",
              "      <th>Bad_Debt</th>\n",
              "      <th>Good_Debt</th>\n",
              "      <th>Neutral_Debt</th>\n",
              "      <th>CREDIT_APPROVAL_STATUS</th>\n",
              "    </tr>\n",
              "    <tr>\n",
              "      <th>ID</th>\n",
              "      <th></th>\n",
              "      <th></th>\n",
              "      <th></th>\n",
              "      <th></th>\n",
              "    </tr>\n",
              "  </thead>\n",
              "  <tbody>\n",
              "    <tr>\n",
              "      <th>5001711</th>\n",
              "      <td>0</td>\n",
              "      <td>4</td>\n",
              "      <td>0</td>\n",
              "      <td>1</td>\n",
              "    </tr>\n",
              "    <tr>\n",
              "      <th>5001712</th>\n",
              "      <td>0</td>\n",
              "      <td>19</td>\n",
              "      <td>0</td>\n",
              "      <td>1</td>\n",
              "    </tr>\n",
              "    <tr>\n",
              "      <th>5001713</th>\n",
              "      <td>0</td>\n",
              "      <td>22</td>\n",
              "      <td>0</td>\n",
              "      <td>1</td>\n",
              "    </tr>\n",
              "    <tr>\n",
              "      <th>5001714</th>\n",
              "      <td>0</td>\n",
              "      <td>15</td>\n",
              "      <td>0</td>\n",
              "      <td>1</td>\n",
              "    </tr>\n",
              "    <tr>\n",
              "      <th>5001715</th>\n",
              "      <td>0</td>\n",
              "      <td>60</td>\n",
              "      <td>0</td>\n",
              "      <td>1</td>\n",
              "    </tr>\n",
              "    <tr>\n",
              "      <th>...</th>\n",
              "      <td>...</td>\n",
              "      <td>...</td>\n",
              "      <td>...</td>\n",
              "      <td>...</td>\n",
              "    </tr>\n",
              "    <tr>\n",
              "      <th>5150482</th>\n",
              "      <td>0</td>\n",
              "      <td>18</td>\n",
              "      <td>0</td>\n",
              "      <td>1</td>\n",
              "    </tr>\n",
              "    <tr>\n",
              "      <th>5150483</th>\n",
              "      <td>0</td>\n",
              "      <td>18</td>\n",
              "      <td>0</td>\n",
              "      <td>1</td>\n",
              "    </tr>\n",
              "    <tr>\n",
              "      <th>5150484</th>\n",
              "      <td>0</td>\n",
              "      <td>13</td>\n",
              "      <td>0</td>\n",
              "      <td>1</td>\n",
              "    </tr>\n",
              "    <tr>\n",
              "      <th>5150485</th>\n",
              "      <td>0</td>\n",
              "      <td>2</td>\n",
              "      <td>0</td>\n",
              "      <td>1</td>\n",
              "    </tr>\n",
              "    <tr>\n",
              "      <th>5150487</th>\n",
              "      <td>0</td>\n",
              "      <td>30</td>\n",
              "      <td>0</td>\n",
              "      <td>1</td>\n",
              "    </tr>\n",
              "  </tbody>\n",
              "</table>\n",
              "<p>45985 rows × 4 columns</p>\n",
              "</div>\n",
              "      <button class=\"colab-df-convert\" onclick=\"convertToInteractive('df-6059d96b-583f-41ed-b28e-fd84a9a810a6')\"\n",
              "              title=\"Convert this dataframe to an interactive table.\"\n",
              "              style=\"display:none;\">\n",
              "        \n",
              "  <svg xmlns=\"http://www.w3.org/2000/svg\" height=\"24px\"viewBox=\"0 0 24 24\"\n",
              "       width=\"24px\">\n",
              "    <path d=\"M0 0h24v24H0V0z\" fill=\"none\"/>\n",
              "    <path d=\"M18.56 5.44l.94 2.06.94-2.06 2.06-.94-2.06-.94-.94-2.06-.94 2.06-2.06.94zm-11 1L8.5 8.5l.94-2.06 2.06-.94-2.06-.94L8.5 2.5l-.94 2.06-2.06.94zm10 10l.94 2.06.94-2.06 2.06-.94-2.06-.94-.94-2.06-.94 2.06-2.06.94z\"/><path d=\"M17.41 7.96l-1.37-1.37c-.4-.4-.92-.59-1.43-.59-.52 0-1.04.2-1.43.59L10.3 9.45l-7.72 7.72c-.78.78-.78 2.05 0 2.83L4 21.41c.39.39.9.59 1.41.59.51 0 1.02-.2 1.41-.59l7.78-7.78 2.81-2.81c.8-.78.8-2.07 0-2.86zM5.41 20L4 18.59l7.72-7.72 1.47 1.35L5.41 20z\"/>\n",
              "  </svg>\n",
              "      </button>\n",
              "      \n",
              "  <style>\n",
              "    .colab-df-container {\n",
              "      display:flex;\n",
              "      flex-wrap:wrap;\n",
              "      gap: 12px;\n",
              "    }\n",
              "\n",
              "    .colab-df-convert {\n",
              "      background-color: #E8F0FE;\n",
              "      border: none;\n",
              "      border-radius: 50%;\n",
              "      cursor: pointer;\n",
              "      display: none;\n",
              "      fill: #1967D2;\n",
              "      height: 32px;\n",
              "      padding: 0 0 0 0;\n",
              "      width: 32px;\n",
              "    }\n",
              "\n",
              "    .colab-df-convert:hover {\n",
              "      background-color: #E2EBFA;\n",
              "      box-shadow: 0px 1px 2px rgba(60, 64, 67, 0.3), 0px 1px 3px 1px rgba(60, 64, 67, 0.15);\n",
              "      fill: #174EA6;\n",
              "    }\n",
              "\n",
              "    [theme=dark] .colab-df-convert {\n",
              "      background-color: #3B4455;\n",
              "      fill: #D2E3FC;\n",
              "    }\n",
              "\n",
              "    [theme=dark] .colab-df-convert:hover {\n",
              "      background-color: #434B5C;\n",
              "      box-shadow: 0px 1px 3px 1px rgba(0, 0, 0, 0.15);\n",
              "      filter: drop-shadow(0px 1px 2px rgba(0, 0, 0, 0.3));\n",
              "      fill: #FFFFFF;\n",
              "    }\n",
              "  </style>\n",
              "\n",
              "      <script>\n",
              "        const buttonEl =\n",
              "          document.querySelector('#df-6059d96b-583f-41ed-b28e-fd84a9a810a6 button.colab-df-convert');\n",
              "        buttonEl.style.display =\n",
              "          google.colab.kernel.accessAllowed ? 'block' : 'none';\n",
              "\n",
              "        async function convertToInteractive(key) {\n",
              "          const element = document.querySelector('#df-6059d96b-583f-41ed-b28e-fd84a9a810a6');\n",
              "          const dataTable =\n",
              "            await google.colab.kernel.invokeFunction('convertToInteractive',\n",
              "                                                     [key], {});\n",
              "          if (!dataTable) return;\n",
              "\n",
              "          const docLinkHtml = 'Like what you see? Visit the ' +\n",
              "            '<a target=\"_blank\" href=https://colab.research.google.com/notebooks/data_table.ipynb>data table notebook</a>'\n",
              "            + ' to learn more about interactive tables.';\n",
              "          element.innerHTML = '';\n",
              "          dataTable['output_type'] = 'display_data';\n",
              "          await google.colab.output.renderOutput(dataTable, element);\n",
              "          const docLink = document.createElement('div');\n",
              "          docLink.innerHTML = docLinkHtml;\n",
              "          element.appendChild(docLink);\n",
              "        }\n",
              "      </script>\n",
              "    </div>\n",
              "  </div>\n",
              "  "
            ]
          },
          "metadata": {},
          "execution_count": 53
        }
      ]
    },
    {
      "cell_type": "markdown",
      "source": [
        ""
      ],
      "metadata": {
        "id": "rEOTQKRFYj2v"
      }
    },
    {
      "cell_type": "code",
      "source": [
        "credit_record.drop(['Bad_Debt', 'Good_Debt', 'Neutral_Debt'], axis=1, inplace=True) \n",
        "#menghilangan kolom bad_debt, good debt dan neutral debt"
      ],
      "metadata": {
        "id": "0PLHwlOrtXYB"
      },
      "execution_count": null,
      "outputs": []
    },
    {
      "cell_type": "code",
      "source": [
        "credit_record "
      ],
      "metadata": {
        "colab": {
          "base_uri": "https://localhost:8080/",
          "height": 455
        },
        "id": "nRDREmdltYaW",
        "outputId": "e1382e3b-1da5-4d17-f877-f29efc0b9761"
      },
      "execution_count": null,
      "outputs": [
        {
          "output_type": "execute_result",
          "data": {
            "text/plain": [
              "STATUS   CREDIT_APPROVAL_STATUS\n",
              "ID                             \n",
              "5001711                       1\n",
              "5001712                       1\n",
              "5001713                       1\n",
              "5001714                       1\n",
              "5001715                       1\n",
              "...                         ...\n",
              "5150482                       1\n",
              "5150483                       1\n",
              "5150484                       1\n",
              "5150485                       1\n",
              "5150487                       1\n",
              "\n",
              "[45985 rows x 1 columns]"
            ],
            "text/html": [
              "\n",
              "  <div id=\"df-99ecefd9-1390-48e0-b712-ceacc7341139\">\n",
              "    <div class=\"colab-df-container\">\n",
              "      <div>\n",
              "<style scoped>\n",
              "    .dataframe tbody tr th:only-of-type {\n",
              "        vertical-align: middle;\n",
              "    }\n",
              "\n",
              "    .dataframe tbody tr th {\n",
              "        vertical-align: top;\n",
              "    }\n",
              "\n",
              "    .dataframe thead th {\n",
              "        text-align: right;\n",
              "    }\n",
              "</style>\n",
              "<table border=\"1\" class=\"dataframe\">\n",
              "  <thead>\n",
              "    <tr style=\"text-align: right;\">\n",
              "      <th>STATUS</th>\n",
              "      <th>CREDIT_APPROVAL_STATUS</th>\n",
              "    </tr>\n",
              "    <tr>\n",
              "      <th>ID</th>\n",
              "      <th></th>\n",
              "    </tr>\n",
              "  </thead>\n",
              "  <tbody>\n",
              "    <tr>\n",
              "      <th>5001711</th>\n",
              "      <td>1</td>\n",
              "    </tr>\n",
              "    <tr>\n",
              "      <th>5001712</th>\n",
              "      <td>1</td>\n",
              "    </tr>\n",
              "    <tr>\n",
              "      <th>5001713</th>\n",
              "      <td>1</td>\n",
              "    </tr>\n",
              "    <tr>\n",
              "      <th>5001714</th>\n",
              "      <td>1</td>\n",
              "    </tr>\n",
              "    <tr>\n",
              "      <th>5001715</th>\n",
              "      <td>1</td>\n",
              "    </tr>\n",
              "    <tr>\n",
              "      <th>...</th>\n",
              "      <td>...</td>\n",
              "    </tr>\n",
              "    <tr>\n",
              "      <th>5150482</th>\n",
              "      <td>1</td>\n",
              "    </tr>\n",
              "    <tr>\n",
              "      <th>5150483</th>\n",
              "      <td>1</td>\n",
              "    </tr>\n",
              "    <tr>\n",
              "      <th>5150484</th>\n",
              "      <td>1</td>\n",
              "    </tr>\n",
              "    <tr>\n",
              "      <th>5150485</th>\n",
              "      <td>1</td>\n",
              "    </tr>\n",
              "    <tr>\n",
              "      <th>5150487</th>\n",
              "      <td>1</td>\n",
              "    </tr>\n",
              "  </tbody>\n",
              "</table>\n",
              "<p>45985 rows × 1 columns</p>\n",
              "</div>\n",
              "      <button class=\"colab-df-convert\" onclick=\"convertToInteractive('df-99ecefd9-1390-48e0-b712-ceacc7341139')\"\n",
              "              title=\"Convert this dataframe to an interactive table.\"\n",
              "              style=\"display:none;\">\n",
              "        \n",
              "  <svg xmlns=\"http://www.w3.org/2000/svg\" height=\"24px\"viewBox=\"0 0 24 24\"\n",
              "       width=\"24px\">\n",
              "    <path d=\"M0 0h24v24H0V0z\" fill=\"none\"/>\n",
              "    <path d=\"M18.56 5.44l.94 2.06.94-2.06 2.06-.94-2.06-.94-.94-2.06-.94 2.06-2.06.94zm-11 1L8.5 8.5l.94-2.06 2.06-.94-2.06-.94L8.5 2.5l-.94 2.06-2.06.94zm10 10l.94 2.06.94-2.06 2.06-.94-2.06-.94-.94-2.06-.94 2.06-2.06.94z\"/><path d=\"M17.41 7.96l-1.37-1.37c-.4-.4-.92-.59-1.43-.59-.52 0-1.04.2-1.43.59L10.3 9.45l-7.72 7.72c-.78.78-.78 2.05 0 2.83L4 21.41c.39.39.9.59 1.41.59.51 0 1.02-.2 1.41-.59l7.78-7.78 2.81-2.81c.8-.78.8-2.07 0-2.86zM5.41 20L4 18.59l7.72-7.72 1.47 1.35L5.41 20z\"/>\n",
              "  </svg>\n",
              "      </button>\n",
              "      \n",
              "  <style>\n",
              "    .colab-df-container {\n",
              "      display:flex;\n",
              "      flex-wrap:wrap;\n",
              "      gap: 12px;\n",
              "    }\n",
              "\n",
              "    .colab-df-convert {\n",
              "      background-color: #E8F0FE;\n",
              "      border: none;\n",
              "      border-radius: 50%;\n",
              "      cursor: pointer;\n",
              "      display: none;\n",
              "      fill: #1967D2;\n",
              "      height: 32px;\n",
              "      padding: 0 0 0 0;\n",
              "      width: 32px;\n",
              "    }\n",
              "\n",
              "    .colab-df-convert:hover {\n",
              "      background-color: #E2EBFA;\n",
              "      box-shadow: 0px 1px 2px rgba(60, 64, 67, 0.3), 0px 1px 3px 1px rgba(60, 64, 67, 0.15);\n",
              "      fill: #174EA6;\n",
              "    }\n",
              "\n",
              "    [theme=dark] .colab-df-convert {\n",
              "      background-color: #3B4455;\n",
              "      fill: #D2E3FC;\n",
              "    }\n",
              "\n",
              "    [theme=dark] .colab-df-convert:hover {\n",
              "      background-color: #434B5C;\n",
              "      box-shadow: 0px 1px 3px 1px rgba(0, 0, 0, 0.15);\n",
              "      filter: drop-shadow(0px 1px 2px rgba(0, 0, 0, 0.3));\n",
              "      fill: #FFFFFF;\n",
              "    }\n",
              "  </style>\n",
              "\n",
              "      <script>\n",
              "        const buttonEl =\n",
              "          document.querySelector('#df-99ecefd9-1390-48e0-b712-ceacc7341139 button.colab-df-convert');\n",
              "        buttonEl.style.display =\n",
              "          google.colab.kernel.accessAllowed ? 'block' : 'none';\n",
              "\n",
              "        async function convertToInteractive(key) {\n",
              "          const element = document.querySelector('#df-99ecefd9-1390-48e0-b712-ceacc7341139');\n",
              "          const dataTable =\n",
              "            await google.colab.kernel.invokeFunction('convertToInteractive',\n",
              "                                                     [key], {});\n",
              "          if (!dataTable) return;\n",
              "\n",
              "          const docLinkHtml = 'Like what you see? Visit the ' +\n",
              "            '<a target=\"_blank\" href=https://colab.research.google.com/notebooks/data_table.ipynb>data table notebook</a>'\n",
              "            + ' to learn more about interactive tables.';\n",
              "          element.innerHTML = '';\n",
              "          dataTable['output_type'] = 'display_data';\n",
              "          await google.colab.output.renderOutput(dataTable, element);\n",
              "          const docLink = document.createElement('div');\n",
              "          docLink.innerHTML = docLinkHtml;\n",
              "          element.appendChild(docLink);\n",
              "        }\n",
              "      </script>\n",
              "    </div>\n",
              "  </div>\n",
              "  "
            ]
          },
          "metadata": {},
          "execution_count": 55
        }
      ]
    },
    {
      "cell_type": "markdown",
      "source": [
        "melakukan merging "
      ],
      "metadata": {
        "id": "A03LcSTitan7"
      }
    },
    {
      "cell_type": "code",
      "source": [
        "Final_Credit_data = application_details.merge(credit_record, how='inner', on=['ID']) #merge credit dan application data disimpan dalam bentuk final credit data "
      ],
      "metadata": {
        "id": "X94SmlRVtcB7"
      },
      "execution_count": null,
      "outputs": []
    },
    {
      "cell_type": "code",
      "source": [
        "Final_Credit_data.head(10) # melihat 10 data teratas dari final_credit_data "
      ],
      "metadata": {
        "colab": {
          "base_uri": "https://localhost:8080/",
          "height": 427
        },
        "id": "uuhJXEprtdUI",
        "outputId": "89f6e16f-95d4-4b2a-f0ac-c4f3c605a9f8"
      },
      "execution_count": null,
      "outputs": [
        {
          "output_type": "execute_result",
          "data": {
            "text/plain": [
              "        ID  CODE_GENDER  FLAG_OWN_CAR  FLAG_OWN_REALTY  CNT_CHILDREN  \\\n",
              "0  5008804            1             1                1             0   \n",
              "1  5008805            1             1                1             0   \n",
              "2  5008806            1             1                1             0   \n",
              "3  5008808            0             0                1             0   \n",
              "4  5008809            0             0                1             0   \n",
              "5  5008810            0             0                1             0   \n",
              "6  5008811            0             0                1             0   \n",
              "7  5008812            0             0                1             0   \n",
              "8  5008813            0             0                1             0   \n",
              "9  5008814            0             0                1             0   \n",
              "\n",
              "   AMT_INCOME_TOTAL  NAME_INCOME_TYPE  NAME_EDUCATION_TYPE  \\\n",
              "0          427500.0                 4                    1   \n",
              "1          427500.0                 4                    1   \n",
              "2          112500.0                 4                    4   \n",
              "3          270000.0                 0                    4   \n",
              "4          270000.0                 0                    4   \n",
              "5          270000.0                 0                    4   \n",
              "6          270000.0                 0                    4   \n",
              "7          283500.0                 1                    1   \n",
              "8          283500.0                 1                    1   \n",
              "9          283500.0                 1                    1   \n",
              "\n",
              "   NAME_FAMILY_STATUS  NAME_HOUSING_TYPE  FLAG_MOBIL  FLAG_WORK_PHONE  \\\n",
              "0                   0                  4           1                1   \n",
              "1                   0                  4           1                1   \n",
              "2                   1                  1           1                0   \n",
              "3                   3                  1           1                0   \n",
              "4                   3                  1           1                0   \n",
              "5                   3                  1           1                0   \n",
              "6                   3                  1           1                0   \n",
              "7                   2                  1           1                0   \n",
              "8                   2                  1           1                0   \n",
              "9                   2                  1           1                0   \n",
              "\n",
              "   FLAG_PHONE  FLAG_EMAIL  OCCUPATION_TYPE  CNT_FAM_MEMBERS   AGE  \\\n",
              "0           0           0               10              2.0  33.0   \n",
              "1           0           0               10              2.0  33.0   \n",
              "2           0           0               16              2.0  59.0   \n",
              "3           1           1               14              1.0  53.0   \n",
              "4           1           1               14              1.0  53.0   \n",
              "5           1           1               14              1.0  53.0   \n",
              "6           1           1               14              1.0  53.0   \n",
              "7           0           0                3              1.0  62.0   \n",
              "8           0           0                3              1.0  62.0   \n",
              "9           0           0                3              1.0  62.0   \n",
              "\n",
              "   YEARS_EMPLOYED  CREDIT_APPROVAL_STATUS  \n",
              "0            13.0                       1  \n",
              "1            13.0                       1  \n",
              "2             4.0                       1  \n",
              "3             9.0                       1  \n",
              "4             9.0                       1  \n",
              "5             9.0                       1  \n",
              "6             9.0                       1  \n",
              "7            -0.0                       1  \n",
              "8            -0.0                       1  \n",
              "9            -0.0                       1  "
            ],
            "text/html": [
              "\n",
              "  <div id=\"df-d5d214ea-005d-4574-96a2-38e93d8214f9\">\n",
              "    <div class=\"colab-df-container\">\n",
              "      <div>\n",
              "<style scoped>\n",
              "    .dataframe tbody tr th:only-of-type {\n",
              "        vertical-align: middle;\n",
              "    }\n",
              "\n",
              "    .dataframe tbody tr th {\n",
              "        vertical-align: top;\n",
              "    }\n",
              "\n",
              "    .dataframe thead th {\n",
              "        text-align: right;\n",
              "    }\n",
              "</style>\n",
              "<table border=\"1\" class=\"dataframe\">\n",
              "  <thead>\n",
              "    <tr style=\"text-align: right;\">\n",
              "      <th></th>\n",
              "      <th>ID</th>\n",
              "      <th>CODE_GENDER</th>\n",
              "      <th>FLAG_OWN_CAR</th>\n",
              "      <th>FLAG_OWN_REALTY</th>\n",
              "      <th>CNT_CHILDREN</th>\n",
              "      <th>AMT_INCOME_TOTAL</th>\n",
              "      <th>NAME_INCOME_TYPE</th>\n",
              "      <th>NAME_EDUCATION_TYPE</th>\n",
              "      <th>NAME_FAMILY_STATUS</th>\n",
              "      <th>NAME_HOUSING_TYPE</th>\n",
              "      <th>FLAG_MOBIL</th>\n",
              "      <th>FLAG_WORK_PHONE</th>\n",
              "      <th>FLAG_PHONE</th>\n",
              "      <th>FLAG_EMAIL</th>\n",
              "      <th>OCCUPATION_TYPE</th>\n",
              "      <th>CNT_FAM_MEMBERS</th>\n",
              "      <th>AGE</th>\n",
              "      <th>YEARS_EMPLOYED</th>\n",
              "      <th>CREDIT_APPROVAL_STATUS</th>\n",
              "    </tr>\n",
              "  </thead>\n",
              "  <tbody>\n",
              "    <tr>\n",
              "      <th>0</th>\n",
              "      <td>5008804</td>\n",
              "      <td>1</td>\n",
              "      <td>1</td>\n",
              "      <td>1</td>\n",
              "      <td>0</td>\n",
              "      <td>427500.0</td>\n",
              "      <td>4</td>\n",
              "      <td>1</td>\n",
              "      <td>0</td>\n",
              "      <td>4</td>\n",
              "      <td>1</td>\n",
              "      <td>1</td>\n",
              "      <td>0</td>\n",
              "      <td>0</td>\n",
              "      <td>10</td>\n",
              "      <td>2.0</td>\n",
              "      <td>33.0</td>\n",
              "      <td>13.0</td>\n",
              "      <td>1</td>\n",
              "    </tr>\n",
              "    <tr>\n",
              "      <th>1</th>\n",
              "      <td>5008805</td>\n",
              "      <td>1</td>\n",
              "      <td>1</td>\n",
              "      <td>1</td>\n",
              "      <td>0</td>\n",
              "      <td>427500.0</td>\n",
              "      <td>4</td>\n",
              "      <td>1</td>\n",
              "      <td>0</td>\n",
              "      <td>4</td>\n",
              "      <td>1</td>\n",
              "      <td>1</td>\n",
              "      <td>0</td>\n",
              "      <td>0</td>\n",
              "      <td>10</td>\n",
              "      <td>2.0</td>\n",
              "      <td>33.0</td>\n",
              "      <td>13.0</td>\n",
              "      <td>1</td>\n",
              "    </tr>\n",
              "    <tr>\n",
              "      <th>2</th>\n",
              "      <td>5008806</td>\n",
              "      <td>1</td>\n",
              "      <td>1</td>\n",
              "      <td>1</td>\n",
              "      <td>0</td>\n",
              "      <td>112500.0</td>\n",
              "      <td>4</td>\n",
              "      <td>4</td>\n",
              "      <td>1</td>\n",
              "      <td>1</td>\n",
              "      <td>1</td>\n",
              "      <td>0</td>\n",
              "      <td>0</td>\n",
              "      <td>0</td>\n",
              "      <td>16</td>\n",
              "      <td>2.0</td>\n",
              "      <td>59.0</td>\n",
              "      <td>4.0</td>\n",
              "      <td>1</td>\n",
              "    </tr>\n",
              "    <tr>\n",
              "      <th>3</th>\n",
              "      <td>5008808</td>\n",
              "      <td>0</td>\n",
              "      <td>0</td>\n",
              "      <td>1</td>\n",
              "      <td>0</td>\n",
              "      <td>270000.0</td>\n",
              "      <td>0</td>\n",
              "      <td>4</td>\n",
              "      <td>3</td>\n",
              "      <td>1</td>\n",
              "      <td>1</td>\n",
              "      <td>0</td>\n",
              "      <td>1</td>\n",
              "      <td>1</td>\n",
              "      <td>14</td>\n",
              "      <td>1.0</td>\n",
              "      <td>53.0</td>\n",
              "      <td>9.0</td>\n",
              "      <td>1</td>\n",
              "    </tr>\n",
              "    <tr>\n",
              "      <th>4</th>\n",
              "      <td>5008809</td>\n",
              "      <td>0</td>\n",
              "      <td>0</td>\n",
              "      <td>1</td>\n",
              "      <td>0</td>\n",
              "      <td>270000.0</td>\n",
              "      <td>0</td>\n",
              "      <td>4</td>\n",
              "      <td>3</td>\n",
              "      <td>1</td>\n",
              "      <td>1</td>\n",
              "      <td>0</td>\n",
              "      <td>1</td>\n",
              "      <td>1</td>\n",
              "      <td>14</td>\n",
              "      <td>1.0</td>\n",
              "      <td>53.0</td>\n",
              "      <td>9.0</td>\n",
              "      <td>1</td>\n",
              "    </tr>\n",
              "    <tr>\n",
              "      <th>5</th>\n",
              "      <td>5008810</td>\n",
              "      <td>0</td>\n",
              "      <td>0</td>\n",
              "      <td>1</td>\n",
              "      <td>0</td>\n",
              "      <td>270000.0</td>\n",
              "      <td>0</td>\n",
              "      <td>4</td>\n",
              "      <td>3</td>\n",
              "      <td>1</td>\n",
              "      <td>1</td>\n",
              "      <td>0</td>\n",
              "      <td>1</td>\n",
              "      <td>1</td>\n",
              "      <td>14</td>\n",
              "      <td>1.0</td>\n",
              "      <td>53.0</td>\n",
              "      <td>9.0</td>\n",
              "      <td>1</td>\n",
              "    </tr>\n",
              "    <tr>\n",
              "      <th>6</th>\n",
              "      <td>5008811</td>\n",
              "      <td>0</td>\n",
              "      <td>0</td>\n",
              "      <td>1</td>\n",
              "      <td>0</td>\n",
              "      <td>270000.0</td>\n",
              "      <td>0</td>\n",
              "      <td>4</td>\n",
              "      <td>3</td>\n",
              "      <td>1</td>\n",
              "      <td>1</td>\n",
              "      <td>0</td>\n",
              "      <td>1</td>\n",
              "      <td>1</td>\n",
              "      <td>14</td>\n",
              "      <td>1.0</td>\n",
              "      <td>53.0</td>\n",
              "      <td>9.0</td>\n",
              "      <td>1</td>\n",
              "    </tr>\n",
              "    <tr>\n",
              "      <th>7</th>\n",
              "      <td>5008812</td>\n",
              "      <td>0</td>\n",
              "      <td>0</td>\n",
              "      <td>1</td>\n",
              "      <td>0</td>\n",
              "      <td>283500.0</td>\n",
              "      <td>1</td>\n",
              "      <td>1</td>\n",
              "      <td>2</td>\n",
              "      <td>1</td>\n",
              "      <td>1</td>\n",
              "      <td>0</td>\n",
              "      <td>0</td>\n",
              "      <td>0</td>\n",
              "      <td>3</td>\n",
              "      <td>1.0</td>\n",
              "      <td>62.0</td>\n",
              "      <td>-0.0</td>\n",
              "      <td>1</td>\n",
              "    </tr>\n",
              "    <tr>\n",
              "      <th>8</th>\n",
              "      <td>5008813</td>\n",
              "      <td>0</td>\n",
              "      <td>0</td>\n",
              "      <td>1</td>\n",
              "      <td>0</td>\n",
              "      <td>283500.0</td>\n",
              "      <td>1</td>\n",
              "      <td>1</td>\n",
              "      <td>2</td>\n",
              "      <td>1</td>\n",
              "      <td>1</td>\n",
              "      <td>0</td>\n",
              "      <td>0</td>\n",
              "      <td>0</td>\n",
              "      <td>3</td>\n",
              "      <td>1.0</td>\n",
              "      <td>62.0</td>\n",
              "      <td>-0.0</td>\n",
              "      <td>1</td>\n",
              "    </tr>\n",
              "    <tr>\n",
              "      <th>9</th>\n",
              "      <td>5008814</td>\n",
              "      <td>0</td>\n",
              "      <td>0</td>\n",
              "      <td>1</td>\n",
              "      <td>0</td>\n",
              "      <td>283500.0</td>\n",
              "      <td>1</td>\n",
              "      <td>1</td>\n",
              "      <td>2</td>\n",
              "      <td>1</td>\n",
              "      <td>1</td>\n",
              "      <td>0</td>\n",
              "      <td>0</td>\n",
              "      <td>0</td>\n",
              "      <td>3</td>\n",
              "      <td>1.0</td>\n",
              "      <td>62.0</td>\n",
              "      <td>-0.0</td>\n",
              "      <td>1</td>\n",
              "    </tr>\n",
              "  </tbody>\n",
              "</table>\n",
              "</div>\n",
              "      <button class=\"colab-df-convert\" onclick=\"convertToInteractive('df-d5d214ea-005d-4574-96a2-38e93d8214f9')\"\n",
              "              title=\"Convert this dataframe to an interactive table.\"\n",
              "              style=\"display:none;\">\n",
              "        \n",
              "  <svg xmlns=\"http://www.w3.org/2000/svg\" height=\"24px\"viewBox=\"0 0 24 24\"\n",
              "       width=\"24px\">\n",
              "    <path d=\"M0 0h24v24H0V0z\" fill=\"none\"/>\n",
              "    <path d=\"M18.56 5.44l.94 2.06.94-2.06 2.06-.94-2.06-.94-.94-2.06-.94 2.06-2.06.94zm-11 1L8.5 8.5l.94-2.06 2.06-.94-2.06-.94L8.5 2.5l-.94 2.06-2.06.94zm10 10l.94 2.06.94-2.06 2.06-.94-2.06-.94-.94-2.06-.94 2.06-2.06.94z\"/><path d=\"M17.41 7.96l-1.37-1.37c-.4-.4-.92-.59-1.43-.59-.52 0-1.04.2-1.43.59L10.3 9.45l-7.72 7.72c-.78.78-.78 2.05 0 2.83L4 21.41c.39.39.9.59 1.41.59.51 0 1.02-.2 1.41-.59l7.78-7.78 2.81-2.81c.8-.78.8-2.07 0-2.86zM5.41 20L4 18.59l7.72-7.72 1.47 1.35L5.41 20z\"/>\n",
              "  </svg>\n",
              "      </button>\n",
              "      \n",
              "  <style>\n",
              "    .colab-df-container {\n",
              "      display:flex;\n",
              "      flex-wrap:wrap;\n",
              "      gap: 12px;\n",
              "    }\n",
              "\n",
              "    .colab-df-convert {\n",
              "      background-color: #E8F0FE;\n",
              "      border: none;\n",
              "      border-radius: 50%;\n",
              "      cursor: pointer;\n",
              "      display: none;\n",
              "      fill: #1967D2;\n",
              "      height: 32px;\n",
              "      padding: 0 0 0 0;\n",
              "      width: 32px;\n",
              "    }\n",
              "\n",
              "    .colab-df-convert:hover {\n",
              "      background-color: #E2EBFA;\n",
              "      box-shadow: 0px 1px 2px rgba(60, 64, 67, 0.3), 0px 1px 3px 1px rgba(60, 64, 67, 0.15);\n",
              "      fill: #174EA6;\n",
              "    }\n",
              "\n",
              "    [theme=dark] .colab-df-convert {\n",
              "      background-color: #3B4455;\n",
              "      fill: #D2E3FC;\n",
              "    }\n",
              "\n",
              "    [theme=dark] .colab-df-convert:hover {\n",
              "      background-color: #434B5C;\n",
              "      box-shadow: 0px 1px 3px 1px rgba(0, 0, 0, 0.15);\n",
              "      filter: drop-shadow(0px 1px 2px rgba(0, 0, 0, 0.3));\n",
              "      fill: #FFFFFF;\n",
              "    }\n",
              "  </style>\n",
              "\n",
              "      <script>\n",
              "        const buttonEl =\n",
              "          document.querySelector('#df-d5d214ea-005d-4574-96a2-38e93d8214f9 button.colab-df-convert');\n",
              "        buttonEl.style.display =\n",
              "          google.colab.kernel.accessAllowed ? 'block' : 'none';\n",
              "\n",
              "        async function convertToInteractive(key) {\n",
              "          const element = document.querySelector('#df-d5d214ea-005d-4574-96a2-38e93d8214f9');\n",
              "          const dataTable =\n",
              "            await google.colab.kernel.invokeFunction('convertToInteractive',\n",
              "                                                     [key], {});\n",
              "          if (!dataTable) return;\n",
              "\n",
              "          const docLinkHtml = 'Like what you see? Visit the ' +\n",
              "            '<a target=\"_blank\" href=https://colab.research.google.com/notebooks/data_table.ipynb>data table notebook</a>'\n",
              "            + ' to learn more about interactive tables.';\n",
              "          element.innerHTML = '';\n",
              "          dataTable['output_type'] = 'display_data';\n",
              "          await google.colab.output.renderOutput(dataTable, element);\n",
              "          const docLink = document.createElement('div');\n",
              "          docLink.innerHTML = docLinkHtml;\n",
              "          element.appendChild(docLink);\n",
              "        }\n",
              "      </script>\n",
              "    </div>\n",
              "  </div>\n",
              "  "
            ]
          },
          "metadata": {},
          "execution_count": 57
        }
      ]
    },
    {
      "cell_type": "code",
      "source": [
        "credit_approval_data = Final_Credit_data.drop('ID', axis=1, inplace=False)"
      ],
      "metadata": {
        "id": "MlptgBO1tenb"
      },
      "execution_count": null,
      "outputs": []
    },
    {
      "cell_type": "code",
      "source": [
        "credit_approval_data #melihat credit approval data keseluruhan "
      ],
      "metadata": {
        "colab": {
          "base_uri": "https://localhost:8080/",
          "height": 488
        },
        "id": "ltOF1sAwtgFg",
        "outputId": "c3bd5090-4c0b-415c-913e-ada31f011cb8"
      },
      "execution_count": null,
      "outputs": [
        {
          "output_type": "execute_result",
          "data": {
            "text/plain": [
              "       CODE_GENDER  FLAG_OWN_CAR  FLAG_OWN_REALTY  CNT_CHILDREN  \\\n",
              "0                1             1                1             0   \n",
              "1                1             1                1             0   \n",
              "2                1             1                1             0   \n",
              "3                0             0                1             0   \n",
              "4                0             0                1             0   \n",
              "...            ...           ...              ...           ...   \n",
              "36452            1             1                1             0   \n",
              "36453            0             0                1             0   \n",
              "36454            0             0                1             0   \n",
              "36455            0             0                1             0   \n",
              "36456            1             0                1             0   \n",
              "\n",
              "       AMT_INCOME_TOTAL  NAME_INCOME_TYPE  NAME_EDUCATION_TYPE  \\\n",
              "0              427500.0                 4                    1   \n",
              "1              427500.0                 4                    1   \n",
              "2              112500.0                 4                    4   \n",
              "3              270000.0                 0                    4   \n",
              "4              270000.0                 0                    4   \n",
              "...                 ...               ...                  ...   \n",
              "36452          315000.0                 4                    4   \n",
              "36453          157500.0                 0                    1   \n",
              "36454          157500.0                 1                    1   \n",
              "36455          283500.0                 4                    4   \n",
              "36456          112500.0                 4                    4   \n",
              "\n",
              "       NAME_FAMILY_STATUS  NAME_HOUSING_TYPE  FLAG_MOBIL  FLAG_WORK_PHONE  \\\n",
              "0                       0                  4           1                1   \n",
              "1                       0                  4           1                1   \n",
              "2                       1                  1           1                0   \n",
              "3                       3                  1           1                0   \n",
              "4                       3                  1           1                0   \n",
              "...                   ...                ...         ...              ...   \n",
              "36452                   1                  1           1                0   \n",
              "36453                   1                  1           1                0   \n",
              "36454                   1                  1           1                0   \n",
              "36455                   1                  1           1                0   \n",
              "36456                   3                  4           1                0   \n",
              "\n",
              "       FLAG_PHONE  FLAG_EMAIL  OCCUPATION_TYPE  CNT_FAM_MEMBERS   AGE  \\\n",
              "0               0           0               10              2.0  33.0   \n",
              "1               0           0               10              2.0  33.0   \n",
              "2               0           0               16              2.0  59.0   \n",
              "3               1           1               14              1.0  53.0   \n",
              "4               1           1               14              1.0  53.0   \n",
              "...           ...         ...              ...              ...   ...   \n",
              "36452           0           0               10              2.0  48.0   \n",
              "36453           1           1               11              2.0  34.0   \n",
              "36454           1           1               11              2.0  34.0   \n",
              "36455           0           0               14              2.0  50.0   \n",
              "36456           0           0                8              1.0  26.0   \n",
              "\n",
              "       YEARS_EMPLOYED  CREDIT_APPROVAL_STATUS  \n",
              "0                13.0                       1  \n",
              "1                13.0                       1  \n",
              "2                 4.0                       1  \n",
              "3                 9.0                       1  \n",
              "4                 9.0                       1  \n",
              "...               ...                     ...  \n",
              "36452             7.0                       0  \n",
              "36453             4.0                       0  \n",
              "36454             4.0                       1  \n",
              "36455             2.0                       1  \n",
              "36456             4.0                       1  \n",
              "\n",
              "[36457 rows x 18 columns]"
            ],
            "text/html": [
              "\n",
              "  <div id=\"df-cdd1b081-be21-4959-b64c-33684745dd8f\">\n",
              "    <div class=\"colab-df-container\">\n",
              "      <div>\n",
              "<style scoped>\n",
              "    .dataframe tbody tr th:only-of-type {\n",
              "        vertical-align: middle;\n",
              "    }\n",
              "\n",
              "    .dataframe tbody tr th {\n",
              "        vertical-align: top;\n",
              "    }\n",
              "\n",
              "    .dataframe thead th {\n",
              "        text-align: right;\n",
              "    }\n",
              "</style>\n",
              "<table border=\"1\" class=\"dataframe\">\n",
              "  <thead>\n",
              "    <tr style=\"text-align: right;\">\n",
              "      <th></th>\n",
              "      <th>CODE_GENDER</th>\n",
              "      <th>FLAG_OWN_CAR</th>\n",
              "      <th>FLAG_OWN_REALTY</th>\n",
              "      <th>CNT_CHILDREN</th>\n",
              "      <th>AMT_INCOME_TOTAL</th>\n",
              "      <th>NAME_INCOME_TYPE</th>\n",
              "      <th>NAME_EDUCATION_TYPE</th>\n",
              "      <th>NAME_FAMILY_STATUS</th>\n",
              "      <th>NAME_HOUSING_TYPE</th>\n",
              "      <th>FLAG_MOBIL</th>\n",
              "      <th>FLAG_WORK_PHONE</th>\n",
              "      <th>FLAG_PHONE</th>\n",
              "      <th>FLAG_EMAIL</th>\n",
              "      <th>OCCUPATION_TYPE</th>\n",
              "      <th>CNT_FAM_MEMBERS</th>\n",
              "      <th>AGE</th>\n",
              "      <th>YEARS_EMPLOYED</th>\n",
              "      <th>CREDIT_APPROVAL_STATUS</th>\n",
              "    </tr>\n",
              "  </thead>\n",
              "  <tbody>\n",
              "    <tr>\n",
              "      <th>0</th>\n",
              "      <td>1</td>\n",
              "      <td>1</td>\n",
              "      <td>1</td>\n",
              "      <td>0</td>\n",
              "      <td>427500.0</td>\n",
              "      <td>4</td>\n",
              "      <td>1</td>\n",
              "      <td>0</td>\n",
              "      <td>4</td>\n",
              "      <td>1</td>\n",
              "      <td>1</td>\n",
              "      <td>0</td>\n",
              "      <td>0</td>\n",
              "      <td>10</td>\n",
              "      <td>2.0</td>\n",
              "      <td>33.0</td>\n",
              "      <td>13.0</td>\n",
              "      <td>1</td>\n",
              "    </tr>\n",
              "    <tr>\n",
              "      <th>1</th>\n",
              "      <td>1</td>\n",
              "      <td>1</td>\n",
              "      <td>1</td>\n",
              "      <td>0</td>\n",
              "      <td>427500.0</td>\n",
              "      <td>4</td>\n",
              "      <td>1</td>\n",
              "      <td>0</td>\n",
              "      <td>4</td>\n",
              "      <td>1</td>\n",
              "      <td>1</td>\n",
              "      <td>0</td>\n",
              "      <td>0</td>\n",
              "      <td>10</td>\n",
              "      <td>2.0</td>\n",
              "      <td>33.0</td>\n",
              "      <td>13.0</td>\n",
              "      <td>1</td>\n",
              "    </tr>\n",
              "    <tr>\n",
              "      <th>2</th>\n",
              "      <td>1</td>\n",
              "      <td>1</td>\n",
              "      <td>1</td>\n",
              "      <td>0</td>\n",
              "      <td>112500.0</td>\n",
              "      <td>4</td>\n",
              "      <td>4</td>\n",
              "      <td>1</td>\n",
              "      <td>1</td>\n",
              "      <td>1</td>\n",
              "      <td>0</td>\n",
              "      <td>0</td>\n",
              "      <td>0</td>\n",
              "      <td>16</td>\n",
              "      <td>2.0</td>\n",
              "      <td>59.0</td>\n",
              "      <td>4.0</td>\n",
              "      <td>1</td>\n",
              "    </tr>\n",
              "    <tr>\n",
              "      <th>3</th>\n",
              "      <td>0</td>\n",
              "      <td>0</td>\n",
              "      <td>1</td>\n",
              "      <td>0</td>\n",
              "      <td>270000.0</td>\n",
              "      <td>0</td>\n",
              "      <td>4</td>\n",
              "      <td>3</td>\n",
              "      <td>1</td>\n",
              "      <td>1</td>\n",
              "      <td>0</td>\n",
              "      <td>1</td>\n",
              "      <td>1</td>\n",
              "      <td>14</td>\n",
              "      <td>1.0</td>\n",
              "      <td>53.0</td>\n",
              "      <td>9.0</td>\n",
              "      <td>1</td>\n",
              "    </tr>\n",
              "    <tr>\n",
              "      <th>4</th>\n",
              "      <td>0</td>\n",
              "      <td>0</td>\n",
              "      <td>1</td>\n",
              "      <td>0</td>\n",
              "      <td>270000.0</td>\n",
              "      <td>0</td>\n",
              "      <td>4</td>\n",
              "      <td>3</td>\n",
              "      <td>1</td>\n",
              "      <td>1</td>\n",
              "      <td>0</td>\n",
              "      <td>1</td>\n",
              "      <td>1</td>\n",
              "      <td>14</td>\n",
              "      <td>1.0</td>\n",
              "      <td>53.0</td>\n",
              "      <td>9.0</td>\n",
              "      <td>1</td>\n",
              "    </tr>\n",
              "    <tr>\n",
              "      <th>...</th>\n",
              "      <td>...</td>\n",
              "      <td>...</td>\n",
              "      <td>...</td>\n",
              "      <td>...</td>\n",
              "      <td>...</td>\n",
              "      <td>...</td>\n",
              "      <td>...</td>\n",
              "      <td>...</td>\n",
              "      <td>...</td>\n",
              "      <td>...</td>\n",
              "      <td>...</td>\n",
              "      <td>...</td>\n",
              "      <td>...</td>\n",
              "      <td>...</td>\n",
              "      <td>...</td>\n",
              "      <td>...</td>\n",
              "      <td>...</td>\n",
              "      <td>...</td>\n",
              "    </tr>\n",
              "    <tr>\n",
              "      <th>36452</th>\n",
              "      <td>1</td>\n",
              "      <td>1</td>\n",
              "      <td>1</td>\n",
              "      <td>0</td>\n",
              "      <td>315000.0</td>\n",
              "      <td>4</td>\n",
              "      <td>4</td>\n",
              "      <td>1</td>\n",
              "      <td>1</td>\n",
              "      <td>1</td>\n",
              "      <td>0</td>\n",
              "      <td>0</td>\n",
              "      <td>0</td>\n",
              "      <td>10</td>\n",
              "      <td>2.0</td>\n",
              "      <td>48.0</td>\n",
              "      <td>7.0</td>\n",
              "      <td>0</td>\n",
              "    </tr>\n",
              "    <tr>\n",
              "      <th>36453</th>\n",
              "      <td>0</td>\n",
              "      <td>0</td>\n",
              "      <td>1</td>\n",
              "      <td>0</td>\n",
              "      <td>157500.0</td>\n",
              "      <td>0</td>\n",
              "      <td>1</td>\n",
              "      <td>1</td>\n",
              "      <td>1</td>\n",
              "      <td>1</td>\n",
              "      <td>0</td>\n",
              "      <td>1</td>\n",
              "      <td>1</td>\n",
              "      <td>11</td>\n",
              "      <td>2.0</td>\n",
              "      <td>34.0</td>\n",
              "      <td>4.0</td>\n",
              "      <td>0</td>\n",
              "    </tr>\n",
              "    <tr>\n",
              "      <th>36454</th>\n",
              "      <td>0</td>\n",
              "      <td>0</td>\n",
              "      <td>1</td>\n",
              "      <td>0</td>\n",
              "      <td>157500.0</td>\n",
              "      <td>1</td>\n",
              "      <td>1</td>\n",
              "      <td>1</td>\n",
              "      <td>1</td>\n",
              "      <td>1</td>\n",
              "      <td>0</td>\n",
              "      <td>1</td>\n",
              "      <td>1</td>\n",
              "      <td>11</td>\n",
              "      <td>2.0</td>\n",
              "      <td>34.0</td>\n",
              "      <td>4.0</td>\n",
              "      <td>1</td>\n",
              "    </tr>\n",
              "    <tr>\n",
              "      <th>36455</th>\n",
              "      <td>0</td>\n",
              "      <td>0</td>\n",
              "      <td>1</td>\n",
              "      <td>0</td>\n",
              "      <td>283500.0</td>\n",
              "      <td>4</td>\n",
              "      <td>4</td>\n",
              "      <td>1</td>\n",
              "      <td>1</td>\n",
              "      <td>1</td>\n",
              "      <td>0</td>\n",
              "      <td>0</td>\n",
              "      <td>0</td>\n",
              "      <td>14</td>\n",
              "      <td>2.0</td>\n",
              "      <td>50.0</td>\n",
              "      <td>2.0</td>\n",
              "      <td>1</td>\n",
              "    </tr>\n",
              "    <tr>\n",
              "      <th>36456</th>\n",
              "      <td>1</td>\n",
              "      <td>0</td>\n",
              "      <td>1</td>\n",
              "      <td>0</td>\n",
              "      <td>112500.0</td>\n",
              "      <td>4</td>\n",
              "      <td>4</td>\n",
              "      <td>3</td>\n",
              "      <td>4</td>\n",
              "      <td>1</td>\n",
              "      <td>0</td>\n",
              "      <td>0</td>\n",
              "      <td>0</td>\n",
              "      <td>8</td>\n",
              "      <td>1.0</td>\n",
              "      <td>26.0</td>\n",
              "      <td>4.0</td>\n",
              "      <td>1</td>\n",
              "    </tr>\n",
              "  </tbody>\n",
              "</table>\n",
              "<p>36457 rows × 18 columns</p>\n",
              "</div>\n",
              "      <button class=\"colab-df-convert\" onclick=\"convertToInteractive('df-cdd1b081-be21-4959-b64c-33684745dd8f')\"\n",
              "              title=\"Convert this dataframe to an interactive table.\"\n",
              "              style=\"display:none;\">\n",
              "        \n",
              "  <svg xmlns=\"http://www.w3.org/2000/svg\" height=\"24px\"viewBox=\"0 0 24 24\"\n",
              "       width=\"24px\">\n",
              "    <path d=\"M0 0h24v24H0V0z\" fill=\"none\"/>\n",
              "    <path d=\"M18.56 5.44l.94 2.06.94-2.06 2.06-.94-2.06-.94-.94-2.06-.94 2.06-2.06.94zm-11 1L8.5 8.5l.94-2.06 2.06-.94-2.06-.94L8.5 2.5l-.94 2.06-2.06.94zm10 10l.94 2.06.94-2.06 2.06-.94-2.06-.94-.94-2.06-.94 2.06-2.06.94z\"/><path d=\"M17.41 7.96l-1.37-1.37c-.4-.4-.92-.59-1.43-.59-.52 0-1.04.2-1.43.59L10.3 9.45l-7.72 7.72c-.78.78-.78 2.05 0 2.83L4 21.41c.39.39.9.59 1.41.59.51 0 1.02-.2 1.41-.59l7.78-7.78 2.81-2.81c.8-.78.8-2.07 0-2.86zM5.41 20L4 18.59l7.72-7.72 1.47 1.35L5.41 20z\"/>\n",
              "  </svg>\n",
              "      </button>\n",
              "      \n",
              "  <style>\n",
              "    .colab-df-container {\n",
              "      display:flex;\n",
              "      flex-wrap:wrap;\n",
              "      gap: 12px;\n",
              "    }\n",
              "\n",
              "    .colab-df-convert {\n",
              "      background-color: #E8F0FE;\n",
              "      border: none;\n",
              "      border-radius: 50%;\n",
              "      cursor: pointer;\n",
              "      display: none;\n",
              "      fill: #1967D2;\n",
              "      height: 32px;\n",
              "      padding: 0 0 0 0;\n",
              "      width: 32px;\n",
              "    }\n",
              "\n",
              "    .colab-df-convert:hover {\n",
              "      background-color: #E2EBFA;\n",
              "      box-shadow: 0px 1px 2px rgba(60, 64, 67, 0.3), 0px 1px 3px 1px rgba(60, 64, 67, 0.15);\n",
              "      fill: #174EA6;\n",
              "    }\n",
              "\n",
              "    [theme=dark] .colab-df-convert {\n",
              "      background-color: #3B4455;\n",
              "      fill: #D2E3FC;\n",
              "    }\n",
              "\n",
              "    [theme=dark] .colab-df-convert:hover {\n",
              "      background-color: #434B5C;\n",
              "      box-shadow: 0px 1px 3px 1px rgba(0, 0, 0, 0.15);\n",
              "      filter: drop-shadow(0px 1px 2px rgba(0, 0, 0, 0.3));\n",
              "      fill: #FFFFFF;\n",
              "    }\n",
              "  </style>\n",
              "\n",
              "      <script>\n",
              "        const buttonEl =\n",
              "          document.querySelector('#df-cdd1b081-be21-4959-b64c-33684745dd8f button.colab-df-convert');\n",
              "        buttonEl.style.display =\n",
              "          google.colab.kernel.accessAllowed ? 'block' : 'none';\n",
              "\n",
              "        async function convertToInteractive(key) {\n",
              "          const element = document.querySelector('#df-cdd1b081-be21-4959-b64c-33684745dd8f');\n",
              "          const dataTable =\n",
              "            await google.colab.kernel.invokeFunction('convertToInteractive',\n",
              "                                                     [key], {});\n",
              "          if (!dataTable) return;\n",
              "\n",
              "          const docLinkHtml = 'Like what you see? Visit the ' +\n",
              "            '<a target=\"_blank\" href=https://colab.research.google.com/notebooks/data_table.ipynb>data table notebook</a>'\n",
              "            + ' to learn more about interactive tables.';\n",
              "          element.innerHTML = '';\n",
              "          dataTable['output_type'] = 'display_data';\n",
              "          await google.colab.output.renderOutput(dataTable, element);\n",
              "          const docLink = document.createElement('div');\n",
              "          docLink.innerHTML = docLinkHtml;\n",
              "          element.appendChild(docLink);\n",
              "        }\n",
              "      </script>\n",
              "    </div>\n",
              "  </div>\n",
              "  "
            ]
          },
          "metadata": {},
          "execution_count": 59
        }
      ]
    },
    {
      "cell_type": "code",
      "source": [
        "credit_approval_data.describe().T # describe credit approval data dan di transpose"
      ],
      "metadata": {
        "colab": {
          "base_uri": "https://localhost:8080/",
          "height": 678
        },
        "id": "kL0SNrcftiQ3",
        "outputId": "87cff835-302a-4633-e104-9f0930ab34e3"
      },
      "execution_count": null,
      "outputs": [
        {
          "output_type": "execute_result",
          "data": {
            "text/plain": [
              "                          count           mean            std      min  \\\n",
              "CODE_GENDER             36457.0       0.329895       0.470181      0.0   \n",
              "FLAG_OWN_CAR            36457.0       0.379708       0.485321      0.0   \n",
              "FLAG_OWN_REALTY         36457.0       0.672189       0.469422      0.0   \n",
              "CNT_CHILDREN            36457.0       0.430315       0.742367      0.0   \n",
              "AMT_INCOME_TOTAL        36457.0  186685.736662  101789.226482  27000.0   \n",
              "NAME_INCOME_TYPE        36457.0       2.398195       1.734032      0.0   \n",
              "NAME_EDUCATION_TYPE     36457.0       3.097183       1.341292      0.0   \n",
              "NAME_FAMILY_STATUS      36457.0       1.367885       0.954557      0.0   \n",
              "NAME_HOUSING_TYPE       36457.0       1.282881       0.951675      0.0   \n",
              "FLAG_MOBIL              36457.0       1.000000       0.000000      1.0   \n",
              "FLAG_WORK_PHONE         36457.0       0.225526       0.417934      0.0   \n",
              "FLAG_PHONE              36457.0       0.294813       0.455965      0.0   \n",
              "FLAG_EMAIL              36457.0       0.089722       0.285787      0.0   \n",
              "OCCUPATION_TYPE         36457.0       7.521793       3.804546      0.0   \n",
              "CNT_FAM_MEMBERS         36457.0       2.198453       0.911686      1.0   \n",
              "AGE                     36457.0      44.231368      11.504127     21.0   \n",
              "YEARS_EMPLOYED          36457.0       6.444496       6.570677     -0.0   \n",
              "CREDIT_APPROVAL_STATUS  36457.0       0.995172       0.069314      0.0   \n",
              "\n",
              "                             25%       50%       75%        max  \n",
              "CODE_GENDER                  0.0       0.0       1.0        1.0  \n",
              "FLAG_OWN_CAR                 0.0       0.0       1.0        1.0  \n",
              "FLAG_OWN_REALTY              0.0       1.0       1.0        1.0  \n",
              "CNT_CHILDREN                 0.0       0.0       1.0       19.0  \n",
              "AMT_INCOME_TOTAL        121500.0  157500.0  225000.0  1575000.0  \n",
              "NAME_INCOME_TYPE             1.0       4.0       4.0        4.0  \n",
              "NAME_EDUCATION_TYPE          1.0       4.0       4.0        4.0  \n",
              "NAME_FAMILY_STATUS           1.0       1.0       1.0        4.0  \n",
              "NAME_HOUSING_TYPE            1.0       1.0       1.0        5.0  \n",
              "FLAG_MOBIL                   1.0       1.0       1.0        1.0  \n",
              "FLAG_WORK_PHONE              0.0       0.0       0.0        1.0  \n",
              "FLAG_PHONE                   0.0       0.0       1.0        1.0  \n",
              "FLAG_EMAIL                   0.0       0.0       0.0        1.0  \n",
              "OCCUPATION_TYPE              4.0       8.0      10.0       17.0  \n",
              "CNT_FAM_MEMBERS              2.0       2.0       3.0       20.0  \n",
              "AGE                         35.0      43.0      54.0       69.0  \n",
              "YEARS_EMPLOYED               2.0       5.0       9.0       44.0  \n",
              "CREDIT_APPROVAL_STATUS       1.0       1.0       1.0        1.0  "
            ],
            "text/html": [
              "\n",
              "  <div id=\"df-2d9d4828-2baa-44f3-8516-632bf4f8a926\">\n",
              "    <div class=\"colab-df-container\">\n",
              "      <div>\n",
              "<style scoped>\n",
              "    .dataframe tbody tr th:only-of-type {\n",
              "        vertical-align: middle;\n",
              "    }\n",
              "\n",
              "    .dataframe tbody tr th {\n",
              "        vertical-align: top;\n",
              "    }\n",
              "\n",
              "    .dataframe thead th {\n",
              "        text-align: right;\n",
              "    }\n",
              "</style>\n",
              "<table border=\"1\" class=\"dataframe\">\n",
              "  <thead>\n",
              "    <tr style=\"text-align: right;\">\n",
              "      <th></th>\n",
              "      <th>count</th>\n",
              "      <th>mean</th>\n",
              "      <th>std</th>\n",
              "      <th>min</th>\n",
              "      <th>25%</th>\n",
              "      <th>50%</th>\n",
              "      <th>75%</th>\n",
              "      <th>max</th>\n",
              "    </tr>\n",
              "  </thead>\n",
              "  <tbody>\n",
              "    <tr>\n",
              "      <th>CODE_GENDER</th>\n",
              "      <td>36457.0</td>\n",
              "      <td>0.329895</td>\n",
              "      <td>0.470181</td>\n",
              "      <td>0.0</td>\n",
              "      <td>0.0</td>\n",
              "      <td>0.0</td>\n",
              "      <td>1.0</td>\n",
              "      <td>1.0</td>\n",
              "    </tr>\n",
              "    <tr>\n",
              "      <th>FLAG_OWN_CAR</th>\n",
              "      <td>36457.0</td>\n",
              "      <td>0.379708</td>\n",
              "      <td>0.485321</td>\n",
              "      <td>0.0</td>\n",
              "      <td>0.0</td>\n",
              "      <td>0.0</td>\n",
              "      <td>1.0</td>\n",
              "      <td>1.0</td>\n",
              "    </tr>\n",
              "    <tr>\n",
              "      <th>FLAG_OWN_REALTY</th>\n",
              "      <td>36457.0</td>\n",
              "      <td>0.672189</td>\n",
              "      <td>0.469422</td>\n",
              "      <td>0.0</td>\n",
              "      <td>0.0</td>\n",
              "      <td>1.0</td>\n",
              "      <td>1.0</td>\n",
              "      <td>1.0</td>\n",
              "    </tr>\n",
              "    <tr>\n",
              "      <th>CNT_CHILDREN</th>\n",
              "      <td>36457.0</td>\n",
              "      <td>0.430315</td>\n",
              "      <td>0.742367</td>\n",
              "      <td>0.0</td>\n",
              "      <td>0.0</td>\n",
              "      <td>0.0</td>\n",
              "      <td>1.0</td>\n",
              "      <td>19.0</td>\n",
              "    </tr>\n",
              "    <tr>\n",
              "      <th>AMT_INCOME_TOTAL</th>\n",
              "      <td>36457.0</td>\n",
              "      <td>186685.736662</td>\n",
              "      <td>101789.226482</td>\n",
              "      <td>27000.0</td>\n",
              "      <td>121500.0</td>\n",
              "      <td>157500.0</td>\n",
              "      <td>225000.0</td>\n",
              "      <td>1575000.0</td>\n",
              "    </tr>\n",
              "    <tr>\n",
              "      <th>NAME_INCOME_TYPE</th>\n",
              "      <td>36457.0</td>\n",
              "      <td>2.398195</td>\n",
              "      <td>1.734032</td>\n",
              "      <td>0.0</td>\n",
              "      <td>1.0</td>\n",
              "      <td>4.0</td>\n",
              "      <td>4.0</td>\n",
              "      <td>4.0</td>\n",
              "    </tr>\n",
              "    <tr>\n",
              "      <th>NAME_EDUCATION_TYPE</th>\n",
              "      <td>36457.0</td>\n",
              "      <td>3.097183</td>\n",
              "      <td>1.341292</td>\n",
              "      <td>0.0</td>\n",
              "      <td>1.0</td>\n",
              "      <td>4.0</td>\n",
              "      <td>4.0</td>\n",
              "      <td>4.0</td>\n",
              "    </tr>\n",
              "    <tr>\n",
              "      <th>NAME_FAMILY_STATUS</th>\n",
              "      <td>36457.0</td>\n",
              "      <td>1.367885</td>\n",
              "      <td>0.954557</td>\n",
              "      <td>0.0</td>\n",
              "      <td>1.0</td>\n",
              "      <td>1.0</td>\n",
              "      <td>1.0</td>\n",
              "      <td>4.0</td>\n",
              "    </tr>\n",
              "    <tr>\n",
              "      <th>NAME_HOUSING_TYPE</th>\n",
              "      <td>36457.0</td>\n",
              "      <td>1.282881</td>\n",
              "      <td>0.951675</td>\n",
              "      <td>0.0</td>\n",
              "      <td>1.0</td>\n",
              "      <td>1.0</td>\n",
              "      <td>1.0</td>\n",
              "      <td>5.0</td>\n",
              "    </tr>\n",
              "    <tr>\n",
              "      <th>FLAG_MOBIL</th>\n",
              "      <td>36457.0</td>\n",
              "      <td>1.000000</td>\n",
              "      <td>0.000000</td>\n",
              "      <td>1.0</td>\n",
              "      <td>1.0</td>\n",
              "      <td>1.0</td>\n",
              "      <td>1.0</td>\n",
              "      <td>1.0</td>\n",
              "    </tr>\n",
              "    <tr>\n",
              "      <th>FLAG_WORK_PHONE</th>\n",
              "      <td>36457.0</td>\n",
              "      <td>0.225526</td>\n",
              "      <td>0.417934</td>\n",
              "      <td>0.0</td>\n",
              "      <td>0.0</td>\n",
              "      <td>0.0</td>\n",
              "      <td>0.0</td>\n",
              "      <td>1.0</td>\n",
              "    </tr>\n",
              "    <tr>\n",
              "      <th>FLAG_PHONE</th>\n",
              "      <td>36457.0</td>\n",
              "      <td>0.294813</td>\n",
              "      <td>0.455965</td>\n",
              "      <td>0.0</td>\n",
              "      <td>0.0</td>\n",
              "      <td>0.0</td>\n",
              "      <td>1.0</td>\n",
              "      <td>1.0</td>\n",
              "    </tr>\n",
              "    <tr>\n",
              "      <th>FLAG_EMAIL</th>\n",
              "      <td>36457.0</td>\n",
              "      <td>0.089722</td>\n",
              "      <td>0.285787</td>\n",
              "      <td>0.0</td>\n",
              "      <td>0.0</td>\n",
              "      <td>0.0</td>\n",
              "      <td>0.0</td>\n",
              "      <td>1.0</td>\n",
              "    </tr>\n",
              "    <tr>\n",
              "      <th>OCCUPATION_TYPE</th>\n",
              "      <td>36457.0</td>\n",
              "      <td>7.521793</td>\n",
              "      <td>3.804546</td>\n",
              "      <td>0.0</td>\n",
              "      <td>4.0</td>\n",
              "      <td>8.0</td>\n",
              "      <td>10.0</td>\n",
              "      <td>17.0</td>\n",
              "    </tr>\n",
              "    <tr>\n",
              "      <th>CNT_FAM_MEMBERS</th>\n",
              "      <td>36457.0</td>\n",
              "      <td>2.198453</td>\n",
              "      <td>0.911686</td>\n",
              "      <td>1.0</td>\n",
              "      <td>2.0</td>\n",
              "      <td>2.0</td>\n",
              "      <td>3.0</td>\n",
              "      <td>20.0</td>\n",
              "    </tr>\n",
              "    <tr>\n",
              "      <th>AGE</th>\n",
              "      <td>36457.0</td>\n",
              "      <td>44.231368</td>\n",
              "      <td>11.504127</td>\n",
              "      <td>21.0</td>\n",
              "      <td>35.0</td>\n",
              "      <td>43.0</td>\n",
              "      <td>54.0</td>\n",
              "      <td>69.0</td>\n",
              "    </tr>\n",
              "    <tr>\n",
              "      <th>YEARS_EMPLOYED</th>\n",
              "      <td>36457.0</td>\n",
              "      <td>6.444496</td>\n",
              "      <td>6.570677</td>\n",
              "      <td>-0.0</td>\n",
              "      <td>2.0</td>\n",
              "      <td>5.0</td>\n",
              "      <td>9.0</td>\n",
              "      <td>44.0</td>\n",
              "    </tr>\n",
              "    <tr>\n",
              "      <th>CREDIT_APPROVAL_STATUS</th>\n",
              "      <td>36457.0</td>\n",
              "      <td>0.995172</td>\n",
              "      <td>0.069314</td>\n",
              "      <td>0.0</td>\n",
              "      <td>1.0</td>\n",
              "      <td>1.0</td>\n",
              "      <td>1.0</td>\n",
              "      <td>1.0</td>\n",
              "    </tr>\n",
              "  </tbody>\n",
              "</table>\n",
              "</div>\n",
              "      <button class=\"colab-df-convert\" onclick=\"convertToInteractive('df-2d9d4828-2baa-44f3-8516-632bf4f8a926')\"\n",
              "              title=\"Convert this dataframe to an interactive table.\"\n",
              "              style=\"display:none;\">\n",
              "        \n",
              "  <svg xmlns=\"http://www.w3.org/2000/svg\" height=\"24px\"viewBox=\"0 0 24 24\"\n",
              "       width=\"24px\">\n",
              "    <path d=\"M0 0h24v24H0V0z\" fill=\"none\"/>\n",
              "    <path d=\"M18.56 5.44l.94 2.06.94-2.06 2.06-.94-2.06-.94-.94-2.06-.94 2.06-2.06.94zm-11 1L8.5 8.5l.94-2.06 2.06-.94-2.06-.94L8.5 2.5l-.94 2.06-2.06.94zm10 10l.94 2.06.94-2.06 2.06-.94-2.06-.94-.94-2.06-.94 2.06-2.06.94z\"/><path d=\"M17.41 7.96l-1.37-1.37c-.4-.4-.92-.59-1.43-.59-.52 0-1.04.2-1.43.59L10.3 9.45l-7.72 7.72c-.78.78-.78 2.05 0 2.83L4 21.41c.39.39.9.59 1.41.59.51 0 1.02-.2 1.41-.59l7.78-7.78 2.81-2.81c.8-.78.8-2.07 0-2.86zM5.41 20L4 18.59l7.72-7.72 1.47 1.35L5.41 20z\"/>\n",
              "  </svg>\n",
              "      </button>\n",
              "      \n",
              "  <style>\n",
              "    .colab-df-container {\n",
              "      display:flex;\n",
              "      flex-wrap:wrap;\n",
              "      gap: 12px;\n",
              "    }\n",
              "\n",
              "    .colab-df-convert {\n",
              "      background-color: #E8F0FE;\n",
              "      border: none;\n",
              "      border-radius: 50%;\n",
              "      cursor: pointer;\n",
              "      display: none;\n",
              "      fill: #1967D2;\n",
              "      height: 32px;\n",
              "      padding: 0 0 0 0;\n",
              "      width: 32px;\n",
              "    }\n",
              "\n",
              "    .colab-df-convert:hover {\n",
              "      background-color: #E2EBFA;\n",
              "      box-shadow: 0px 1px 2px rgba(60, 64, 67, 0.3), 0px 1px 3px 1px rgba(60, 64, 67, 0.15);\n",
              "      fill: #174EA6;\n",
              "    }\n",
              "\n",
              "    [theme=dark] .colab-df-convert {\n",
              "      background-color: #3B4455;\n",
              "      fill: #D2E3FC;\n",
              "    }\n",
              "\n",
              "    [theme=dark] .colab-df-convert:hover {\n",
              "      background-color: #434B5C;\n",
              "      box-shadow: 0px 1px 3px 1px rgba(0, 0, 0, 0.15);\n",
              "      filter: drop-shadow(0px 1px 2px rgba(0, 0, 0, 0.3));\n",
              "      fill: #FFFFFF;\n",
              "    }\n",
              "  </style>\n",
              "\n",
              "      <script>\n",
              "        const buttonEl =\n",
              "          document.querySelector('#df-2d9d4828-2baa-44f3-8516-632bf4f8a926 button.colab-df-convert');\n",
              "        buttonEl.style.display =\n",
              "          google.colab.kernel.accessAllowed ? 'block' : 'none';\n",
              "\n",
              "        async function convertToInteractive(key) {\n",
              "          const element = document.querySelector('#df-2d9d4828-2baa-44f3-8516-632bf4f8a926');\n",
              "          const dataTable =\n",
              "            await google.colab.kernel.invokeFunction('convertToInteractive',\n",
              "                                                     [key], {});\n",
              "          if (!dataTable) return;\n",
              "\n",
              "          const docLinkHtml = 'Like what you see? Visit the ' +\n",
              "            '<a target=\"_blank\" href=https://colab.research.google.com/notebooks/data_table.ipynb>data table notebook</a>'\n",
              "            + ' to learn more about interactive tables.';\n",
              "          element.innerHTML = '';\n",
              "          dataTable['output_type'] = 'display_data';\n",
              "          await google.colab.output.renderOutput(dataTable, element);\n",
              "          const docLink = document.createElement('div');\n",
              "          docLink.innerHTML = docLinkHtml;\n",
              "          element.appendChild(docLink);\n",
              "        }\n",
              "      </script>\n",
              "    </div>\n",
              "  </div>\n",
              "  "
            ]
          },
          "metadata": {},
          "execution_count": 60
        }
      ]
    },
    {
      "cell_type": "markdown",
      "source": [
        "#**Splitting the credit_approval_data into training and testing sets**"
      ],
      "metadata": {
        "id": "IJ0FVWDVtkCH"
      }
    },
    {
      "cell_type": "code",
      "source": [
        "from sklearn.model_selection import train_test_split  # import train_test_split dari sklearn"
      ],
      "metadata": {
        "id": "NKJmgWGdti7V"
      },
      "execution_count": null,
      "outputs": []
    },
    {
      "cell_type": "code",
      "source": [
        "X = credit_approval_data.drop('CREDIT_APPROVAL_STATUS', axis=1) # membagi Bagian menjadi X dan Y \n",
        "y = credit_approval_data['CREDIT_APPROVAL_STATUS']\n",
        "X_train, X_test, y_train, y_test = train_test_split(X, y, test_size=0.3, random_state=42) \n",
        "#membagi data training dan data testing"
      ],
      "metadata": {
        "id": "DiQlMWd0toYj"
      },
      "execution_count": null,
      "outputs": []
    },
    {
      "cell_type": "markdown",
      "source": [
        "creting decision tree model"
      ],
      "metadata": {
        "id": "U8DJZj5ntp5K"
      }
    },
    {
      "cell_type": "code",
      "source": [
        "from sklearn.tree import DecisionTreeClassifier #import decisiontreeclassifier dari sklearn"
      ],
      "metadata": {
        "id": "jAMl62vAto5W"
      },
      "execution_count": null,
      "outputs": []
    },
    {
      "cell_type": "code",
      "source": [
        "DT_model = DecisionTreeClassifier() #membuat DT_model dengan decisiontreeclassifier"
      ],
      "metadata": {
        "id": "Pi6kwn1dt2sk"
      },
      "execution_count": null,
      "outputs": []
    },
    {
      "cell_type": "markdown",
      "source": [
        "training model"
      ],
      "metadata": {
        "id": "YNCdSkkIt4p2"
      }
    },
    {
      "cell_type": "code",
      "source": [
        "DT_model.fit(X_train, y_train) #training model dari x_train dan y_train"
      ],
      "metadata": {
        "colab": {
          "base_uri": "https://localhost:8080/"
        },
        "id": "pc9B8t0vt35B",
        "outputId": "dd97b2fa-6c3a-4f95-a9c0-e544a9b082c4"
      },
      "execution_count": null,
      "outputs": [
        {
          "output_type": "execute_result",
          "data": {
            "text/plain": [
              "DecisionTreeClassifier()"
            ]
          },
          "metadata": {},
          "execution_count": 65
        }
      ]
    },
    {
      "cell_type": "markdown",
      "source": [
        "prediction"
      ],
      "metadata": {
        "id": "TgGIWUCit88S"
      }
    },
    {
      "cell_type": "code",
      "source": [
        "y_pred = DT_model.predict(X_test) #membuat y prediction dari X_test DT_model"
      ],
      "metadata": {
        "id": "oizCFtHVt7XC"
      },
      "execution_count": null,
      "outputs": []
    },
    {
      "cell_type": "markdown",
      "source": [
        "Accuracy Score"
      ],
      "metadata": {
        "id": "Z5in65CluAYL"
      }
    },
    {
      "cell_type": "code",
      "source": [
        "from sklearn.metrics import accuracy_score # import accuracy score dari sklearn "
      ],
      "metadata": {
        "id": "-tDcqWsGuB8p"
      },
      "execution_count": null,
      "outputs": []
    },
    {
      "cell_type": "code",
      "source": [
        "accuracy_score(y_test, y_pred) #melakukan akurasi data dengan y_test, y_predict"
      ],
      "metadata": {
        "colab": {
          "base_uri": "https://localhost:8080/"
        },
        "id": "GK3CUwmPuDOo",
        "outputId": "7a032159-6857-472e-d41a-c9ae41b34ada"
      },
      "execution_count": null,
      "outputs": [
        {
          "output_type": "execute_result",
          "data": {
            "text/plain": [
              "0.994240263302249"
            ]
          },
          "metadata": {},
          "execution_count": 68
        }
      ]
    },
    {
      "cell_type": "code",
      "source": [
        "import matplotlib.pyplot as plt\n",
        "from sklearn.metrics import confusion_matrix, ConfusionMatrixDisplay, classification_report"
      ],
      "metadata": {
        "id": "nTgi8RAJbcsU"
      },
      "execution_count": null,
      "outputs": []
    },
    {
      "cell_type": "code",
      "source": [
        "print((y_test, y_pred))\n",
        "\n",
        "ConfusionMatrixDisplay.from_predictions(y_test, y_pred)\n",
        "plt.title(\"Confusion Matrix\")\n",
        "plt.grid(False)\n",
        "plt.show()"
      ],
      "metadata": {
        "colab": {
          "base_uri": "https://localhost:8080/",
          "height": 509
        },
        "id": "GRJ9Qrx9bbBx",
        "outputId": "ce067742-dc97-4f73-b3f2-9872016c562a"
      },
      "execution_count": null,
      "outputs": [
        {
          "output_type": "stream",
          "name": "stdout",
          "text": [
            "(21900    1\n",
            "24293    1\n",
            "19633    1\n",
            "2496     1\n",
            "25932    1\n",
            "        ..\n",
            "12738    1\n",
            "29745    1\n",
            "17518    1\n",
            "34043    1\n",
            "26570    1\n",
            "Name: CREDIT_APPROVAL_STATUS, Length: 10938, dtype: int64, array([1, 1, 1, ..., 1, 1, 1]))\n"
          ]
        },
        {
          "output_type": "display_data",
          "data": {
            "text/plain": [
              "<Figure size 432x288 with 2 Axes>"
            ],
            "image/png": "[encoded data removed]"
          },
          "metadata": {
            "needs_background": "light"
          }
        }
      ]
    },
    {
      "cell_type": "markdown",
      "source": [
        "Hasil Akurasi 0.99 untuk model ini "
      ],
      "metadata": {
        "id": "Mk9BQ_xPY0K2"
      }
    },
    {
      "cell_type": "markdown",
      "source": [
        "Saving Model"
      ],
      "metadata": {
        "id": "9pvAEYTwuEgv"
      }
    },
    {
      "cell_type": "code",
      "source": [
        "import pickle # menyimpan model"
      ],
      "metadata": {
        "id": "wZvkT-OsuFvp"
      },
      "execution_count": null,
      "outputs": []
    },
    {
      "cell_type": "code",
      "source": [
        "with open('Credit_Approval_DT_model', 'wb') as f:\n",
        "    pickle.dump(DT_model, f)"
      ],
      "metadata": {
        "id": "cUflHr8GuHOw"
      },
      "execution_count": null,
      "outputs": []
    }
  ]
}